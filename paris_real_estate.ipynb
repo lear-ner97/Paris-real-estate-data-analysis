{
  "nbformat": 4,
  "nbformat_minor": 0,
  "metadata": {
    "colab": {
      "provenance": []
    },
    "kernelspec": {
      "name": "python3",
      "display_name": "Python 3"
    },
    "language_info": {
      "name": "python"
    }
  },
  "cells": [
    {
      "cell_type": "code",
      "source": [],
      "metadata": {
        "id": "NgD_Z5CsZfKK"
      },
      "execution_count": null,
      "outputs": []
    },
    {
      "cell_type": "markdown",
      "source": [
        "references:\n",
        "\n",
        "\n",
        "1.   https://www.nexity.fr/guide-immobilier/conseils-achat/definir-son-projet/surface-privative-loi-carrez\n",
        "2.   https://app.dvf.etalab.gouv.fr/faq.html\n",
        "3.   https://www.immo-data.fr/dvf\n",
        "4.   https://www.journaldunet.fr/patrimoine/guide-de-l-immobilier/1202245-loi-carrez-qu-est-ce-que-c-est-et-comment-la-calculer/\n"
      ],
      "metadata": {
        "id": "NR9UO_NIwXaT"
      }
    },
    {
      "cell_type": "markdown",
      "source": [
        "important remarks:\n",
        "\n",
        "\n",
        "*   **valeur foncière:** c'est la valeur du bien vendu, ne comprenant ni frais d'agence immobilière, ni frais de notaire (TTC).[2,3]\n",
        "*   **surface_reelle_bati:** correspond à la surface réelle bâtie et non à la surface carrez [2]. Il s'agit de la surface réelle mesurée au sol entre les murs [3].\n",
        "*   **surface_terrain:** surface cadastrale du terrain [3].\n",
        "*   **how to calculate surface_carrez:** Afin de procéder au calcul d'une surface loi Carrez, il faut mesurer la surface de plancher et y déduire les murs, cloisons, gaines, embrasures, marches et cages d'escalier. En outre, toute partie dont la hauteur sous plafond est de moins d'1.80 m n'est pas comprise [4].\n",
        "\n"
      ],
      "metadata": {
        "id": "5AfrquJkGGn6"
      }
    },
    {
      "cell_type": "markdown",
      "source": [
        "number of floors could be a relevant feature but it's unavailable in DVF dataset"
      ],
      "metadata": {
        "id": "zKgsV9DeXNrc"
      }
    },
    {
      "cell_type": "markdown",
      "source": [],
      "metadata": {
        "id": "hmpnhYUTa-ui"
      }
    },
    {
      "cell_type": "code",
      "execution_count": null,
      "metadata": {
        "id": "6lRGvpTrPnxg"
      },
      "outputs": [],
      "source": [
        "import pandas as pd\n",
        "import matplotlib.pyplot as plt\n",
        "from scipy import stats\n",
        "import seaborn as sns\n",
        "import numpy as np\n",
        "import statsmodels.api as sm\n",
        "from scipy.stats.mstats import winsorize\n",
        "from sklearn import preprocessing\n",
        "\n",
        "from sklearn.feature_selection import mutual_info_regression\n",
        "from sklearn.model_selection import train_test_split\n",
        "from sklearn.cluster import KMeans\n",
        "from sklearn.linear_model import LinearRegression\n",
        "from sklearn import metrics"
      ]
    },
    {
      "cell_type": "markdown",
      "source": [
        "# data collection"
      ],
      "metadata": {
        "id": "7X-7OXd_VtnT"
      }
    },
    {
      "cell_type": "code",
      "source": [
        "from google.colab import drive\n",
        "drive.mount('/content/gdrive')"
      ],
      "metadata": {
        "colab": {
          "base_uri": "https://localhost:8080/"
        },
        "id": "MnLUMErvqxnA",
        "outputId": "7ad2bbc5-822c-41b3-e12c-37b4ba80235f"
      },
      "execution_count": null,
      "outputs": [
        {
          "output_type": "stream",
          "name": "stdout",
          "text": [
            "Mounted at /content/gdrive\n"
          ]
        }
      ]
    },
    {
      "cell_type": "code",
      "source": [
        "data=pd.read_csv('/content/gdrive/MyDrive/real_estate_paris_data/75paris_10earrondissement.csv')"
      ],
      "metadata": {
        "colab": {
          "base_uri": "https://localhost:8080/"
        },
        "id": "eKklxDKub-iq",
        "outputId": "da851afd-b01b-4c19-87f4-4f48db8a8af1"
      },
      "execution_count": null,
      "outputs": [
        {
          "output_type": "stream",
          "name": "stderr",
          "text": [
            "/usr/local/lib/python3.7/dist-packages/IPython/core/interactiveshell.py:3326: DtypeWarning: Columns (9,10,19,22,24,30) have mixed types.Specify dtype option on import or set low_memory=False.\n",
            "  exec(code_obj, self.user_global_ns, self.user_ns)\n"
          ]
        }
      ]
    },
    {
      "cell_type": "code",
      "source": [
        "#drop the column of indexes. This column was generated after concatenating the small datasets\n",
        "data=data.drop(['Unnamed: 0'], axis=1)"
      ],
      "metadata": {
        "id": "l73QJMsZeRGC"
      },
      "execution_count": null,
      "outputs": []
    },
    {
      "cell_type": "markdown",
      "source": [
        "\n",
        "\n",
        "*   'numero_disposition': unique id. Useful when a deed of sale contains more than one transaction (more than one building is sold).\n",
        "*   'date-mutation': date of signature of the deed of sale\n",
        "\n"
      ],
      "metadata": {
        "id": "MMwxSw6mAzO-"
      }
    },
    {
      "cell_type": "code",
      "source": [
        "data.info()"
      ],
      "metadata": {
        "colab": {
          "base_uri": "https://localhost:8080/"
        },
        "id": "IvtGR7Lwy7rE",
        "outputId": "eb09bee1-66d5-4adc-b342-a6ff5362f2bc"
      },
      "execution_count": null,
      "outputs": [
        {
          "output_type": "stream",
          "name": "stdout",
          "text": [
            "<class 'pandas.core.frame.DataFrame'>\n",
            "RangeIndex: 16601 entries, 0 to 16600\n",
            "Data columns (total 41 columns):\n",
            " #   Column                        Non-Null Count  Dtype  \n",
            "---  ------                        --------------  -----  \n",
            " 0   id_mutation                   16601 non-null  object \n",
            " 1   date_mutation                 16601 non-null  object \n",
            " 2   numero_disposition            16601 non-null  int64  \n",
            " 3   nature_mutation               16601 non-null  object \n",
            " 4   valeur_fonciere               16599 non-null  float64\n",
            " 5   adresse_numero                16568 non-null  float64\n",
            " 6   adresse_suffixe               16601 non-null  object \n",
            " 7   adresse_nom_voie              16601 non-null  object \n",
            " 8   adresse_code_voie             16601 non-null  object \n",
            " 9   code_postal                   16601 non-null  object \n",
            " 10  code_commune                  16601 non-null  int64  \n",
            " 11  nom_commune                   16601 non-null  object \n",
            " 12  code_departement              16601 non-null  int64  \n",
            " 13  ancien_code_commune           16601 non-null  object \n",
            " 14  ancien_nom_commune            16601 non-null  object \n",
            " 15  id_parcelle                   16601 non-null  object \n",
            " 16  ancien_id_parcelle            16601 non-null  object \n",
            " 17  numero_volume                 16601 non-null  object \n",
            " 18  lot1_numero                   16601 non-null  object \n",
            " 19  lot1_surface_carrez           6948 non-null   float64\n",
            " 20  lot2_numero                   16601 non-null  object \n",
            " 21  lot2_surface_carrez           1729 non-null   object \n",
            " 22  lot3_numero                   16601 non-null  object \n",
            " 23  lot3_surface_carrez           836 non-null    object \n",
            " 24  lot4_numero                   16601 non-null  object \n",
            " 25  lot4_surface_carrez           4473 non-null   object \n",
            " 26  lot5_numero                   16601 non-null  object \n",
            " 27  lot5_surface_carrez           10845 non-null  object \n",
            " 28  nombre_lots                   16601 non-null  int64  \n",
            " 29  code_type_local               16601 non-null  object \n",
            " 30  type_local                    16601 non-null  object \n",
            " 31  surface_reelle_bati           12855 non-null  float64\n",
            " 32  nombre_pieces_principales     16526 non-null  float64\n",
            " 33  code_nature_culture           16601 non-null  object \n",
            " 34  nature_culture                16601 non-null  object \n",
            " 35  code_nature_culture_speciale  16601 non-null  object \n",
            " 36  nature_culture_speciale       16601 non-null  object \n",
            " 37  surface_terrain               4505 non-null   object \n",
            " 38  longitude                     16581 non-null  float64\n",
            " 39  latitude                      16581 non-null  float64\n",
            " 40  section_prefixe               16601 non-null  object \n",
            "dtypes: float64(7), int64(4), object(30)\n",
            "memory usage: 5.2+ MB\n"
          ]
        }
      ]
    },
    {
      "cell_type": "code",
      "source": [
        "data.numero_disposition.unique()"
      ],
      "metadata": {
        "colab": {
          "base_uri": "https://localhost:8080/"
        },
        "id": "2K_zWoL7Q_TK",
        "outputId": "771d3ce7-7b28-4903-ed34-6f4ff185e53f"
      },
      "execution_count": null,
      "outputs": [
        {
          "output_type": "execute_result",
          "data": {
            "text/plain": [
              "array([1, 2, 5, 6, 3, 4])"
            ]
          },
          "metadata": {},
          "execution_count": 6
        }
      ]
    },
    {
      "cell_type": "code",
      "source": [
        "data[data.numero_disposition==1]"
      ],
      "metadata": {
        "colab": {
          "base_uri": "https://localhost:8080/",
          "height": 661
        },
        "id": "547hsCcnRS3N",
        "outputId": "758dfe71-ca03-4e4c-bc68-b351ba12075f"
      },
      "execution_count": null,
      "outputs": [
        {
          "output_type": "execute_result",
          "data": {
            "text/plain": [
              "        id_mutation date_mutation  numero_disposition nature_mutation  \\\n",
              "0      2021-1256246    2021-12-28                   1           Vente   \n",
              "1      2021-1256246    2021-12-28                   1           Vente   \n",
              "2      2021-1255750    2021-12-23                   1           Vente   \n",
              "3      2021-1255548    2021-12-14                   1           Vente   \n",
              "4      2021-1255130    2021-11-30                   1           Vente   \n",
              "...             ...           ...                 ...             ...   \n",
              "16596  2017-1408415    2017-02-23                   1           Vente   \n",
              "16597  2017-1408316    2017-02-23                   1           Vente   \n",
              "16598  2017-1408316    2017-02-23                   1           Vente   \n",
              "16599  2017-1408667    2017-02-15                   1           Vente   \n",
              "16600  2017-1408195    2017-02-14                   1           Vente   \n",
              "\n",
              "       valeur_fonciere  adresse_numero adresse_suffixe  \\\n",
              "0             330000.0           145.0            None   \n",
              "1             330000.0           145.0            None   \n",
              "2             110000.0            51.0            None   \n",
              "3             165200.0           145.0            None   \n",
              "4              67000.0           151.0            None   \n",
              "...                ...             ...             ...   \n",
              "16596         135000.0           270.0            None   \n",
              "16597        1065000.0           203.0            None   \n",
              "16598        1065000.0           203.0            None   \n",
              "16599         458000.0             5.0            None   \n",
              "16600         126000.0           233.0            None   \n",
              "\n",
              "                   adresse_nom_voie adresse_code_voie code_postal  ...  \\\n",
              "0                     BD DE MAGENTA              5907       75010  ...   \n",
              "1                     BD DE MAGENTA              5907       75010  ...   \n",
              "2                 BD DE LA CHAPELLE              1765       75010  ...   \n",
              "3                     BD DE MAGENTA              5907       75010  ...   \n",
              "4                     BD DE MAGENTA              5907       75010  ...   \n",
              "...                             ...               ...         ...  ...   \n",
              "16596          RUE DU FBG ST MARTIN              3522       75010  ...   \n",
              "16597                 QUAI DE VALMY              9568       75010  ...   \n",
              "16598                 QUAI DE VALMY              9568       75010  ...   \n",
              "16599  PL LA BATAILLE DE STALINGRAD               723       75010  ...   \n",
              "16600                RUE LA FAYETTE              5240       75010  ...   \n",
              "\n",
              "       surface_reelle_bati nombre_pieces_principales  code_nature_culture  \\\n",
              "0                     22.0                       1.0                 None   \n",
              "1                      NaN                       0.0                 None   \n",
              "2                     36.0                       2.0                 None   \n",
              "3                      NaN                       0.0                 None   \n",
              "4                      9.0                       1.0                 None   \n",
              "...                    ...                       ...                  ...   \n",
              "16596                 27.0                       2.0                 None   \n",
              "16597                  NaN                       0.0                 None   \n",
              "16598                  NaN                       0.0                 None   \n",
              "16599                 58.0                       3.0                 None   \n",
              "16600                 26.0                       1.0                 None   \n",
              "\n",
              "      nature_culture code_nature_culture_speciale nature_culture_speciale  \\\n",
              "0               None                         None                    None   \n",
              "1               None                         None                    None   \n",
              "2               None                         None                    None   \n",
              "3               None                         None                    None   \n",
              "4               None                         None                    None   \n",
              "...              ...                          ...                     ...   \n",
              "16596           None                         None                    None   \n",
              "16597           None                         None                    None   \n",
              "16598           None                         None                    None   \n",
              "16599           None                         None                    None   \n",
              "16600           None                         None                    None   \n",
              "\n",
              "      surface_terrain longitude   latitude  section_prefixe  \n",
              "0                 NaN  2.350194  48.882282            000AA  \n",
              "1                 NaN  2.350194  48.882282            000AA  \n",
              "2                 NaN  2.350692  48.883416            000AA  \n",
              "3                 NaN  2.350194  48.882282            000AA  \n",
              "4                 NaN  2.349877  48.882732            000AA  \n",
              "...               ...       ...        ...              ...  \n",
              "16596            None  2.368337  48.883334            000BY  \n",
              "16597            None  2.368478  48.882067            000BY  \n",
              "16598            None  2.368478  48.882067            000BY  \n",
              "16599            None  2.368919  48.883058            000BY  \n",
              "16600            None  2.367354  48.882305            000BY  \n",
              "\n",
              "[16461 rows x 41 columns]"
            ],
            "text/html": [
              "\n",
              "  <div id=\"df-9dddffcf-7a89-4843-87e3-542052cbce6a\">\n",
              "    <div class=\"colab-df-container\">\n",
              "      <div>\n",
              "<style scoped>\n",
              "    .dataframe tbody tr th:only-of-type {\n",
              "        vertical-align: middle;\n",
              "    }\n",
              "\n",
              "    .dataframe tbody tr th {\n",
              "        vertical-align: top;\n",
              "    }\n",
              "\n",
              "    .dataframe thead th {\n",
              "        text-align: right;\n",
              "    }\n",
              "</style>\n",
              "<table border=\"1\" class=\"dataframe\">\n",
              "  <thead>\n",
              "    <tr style=\"text-align: right;\">\n",
              "      <th></th>\n",
              "      <th>id_mutation</th>\n",
              "      <th>date_mutation</th>\n",
              "      <th>numero_disposition</th>\n",
              "      <th>nature_mutation</th>\n",
              "      <th>valeur_fonciere</th>\n",
              "      <th>adresse_numero</th>\n",
              "      <th>adresse_suffixe</th>\n",
              "      <th>adresse_nom_voie</th>\n",
              "      <th>adresse_code_voie</th>\n",
              "      <th>code_postal</th>\n",
              "      <th>...</th>\n",
              "      <th>surface_reelle_bati</th>\n",
              "      <th>nombre_pieces_principales</th>\n",
              "      <th>code_nature_culture</th>\n",
              "      <th>nature_culture</th>\n",
              "      <th>code_nature_culture_speciale</th>\n",
              "      <th>nature_culture_speciale</th>\n",
              "      <th>surface_terrain</th>\n",
              "      <th>longitude</th>\n",
              "      <th>latitude</th>\n",
              "      <th>section_prefixe</th>\n",
              "    </tr>\n",
              "  </thead>\n",
              "  <tbody>\n",
              "    <tr>\n",
              "      <th>0</th>\n",
              "      <td>2021-1256246</td>\n",
              "      <td>2021-12-28</td>\n",
              "      <td>1</td>\n",
              "      <td>Vente</td>\n",
              "      <td>330000.0</td>\n",
              "      <td>145.0</td>\n",
              "      <td>None</td>\n",
              "      <td>BD DE MAGENTA</td>\n",
              "      <td>5907</td>\n",
              "      <td>75010</td>\n",
              "      <td>...</td>\n",
              "      <td>22.0</td>\n",
              "      <td>1.0</td>\n",
              "      <td>None</td>\n",
              "      <td>None</td>\n",
              "      <td>None</td>\n",
              "      <td>None</td>\n",
              "      <td>NaN</td>\n",
              "      <td>2.350194</td>\n",
              "      <td>48.882282</td>\n",
              "      <td>000AA</td>\n",
              "    </tr>\n",
              "    <tr>\n",
              "      <th>1</th>\n",
              "      <td>2021-1256246</td>\n",
              "      <td>2021-12-28</td>\n",
              "      <td>1</td>\n",
              "      <td>Vente</td>\n",
              "      <td>330000.0</td>\n",
              "      <td>145.0</td>\n",
              "      <td>None</td>\n",
              "      <td>BD DE MAGENTA</td>\n",
              "      <td>5907</td>\n",
              "      <td>75010</td>\n",
              "      <td>...</td>\n",
              "      <td>NaN</td>\n",
              "      <td>0.0</td>\n",
              "      <td>None</td>\n",
              "      <td>None</td>\n",
              "      <td>None</td>\n",
              "      <td>None</td>\n",
              "      <td>NaN</td>\n",
              "      <td>2.350194</td>\n",
              "      <td>48.882282</td>\n",
              "      <td>000AA</td>\n",
              "    </tr>\n",
              "    <tr>\n",
              "      <th>2</th>\n",
              "      <td>2021-1255750</td>\n",
              "      <td>2021-12-23</td>\n",
              "      <td>1</td>\n",
              "      <td>Vente</td>\n",
              "      <td>110000.0</td>\n",
              "      <td>51.0</td>\n",
              "      <td>None</td>\n",
              "      <td>BD DE LA CHAPELLE</td>\n",
              "      <td>1765</td>\n",
              "      <td>75010</td>\n",
              "      <td>...</td>\n",
              "      <td>36.0</td>\n",
              "      <td>2.0</td>\n",
              "      <td>None</td>\n",
              "      <td>None</td>\n",
              "      <td>None</td>\n",
              "      <td>None</td>\n",
              "      <td>NaN</td>\n",
              "      <td>2.350692</td>\n",
              "      <td>48.883416</td>\n",
              "      <td>000AA</td>\n",
              "    </tr>\n",
              "    <tr>\n",
              "      <th>3</th>\n",
              "      <td>2021-1255548</td>\n",
              "      <td>2021-12-14</td>\n",
              "      <td>1</td>\n",
              "      <td>Vente</td>\n",
              "      <td>165200.0</td>\n",
              "      <td>145.0</td>\n",
              "      <td>None</td>\n",
              "      <td>BD DE MAGENTA</td>\n",
              "      <td>5907</td>\n",
              "      <td>75010</td>\n",
              "      <td>...</td>\n",
              "      <td>NaN</td>\n",
              "      <td>0.0</td>\n",
              "      <td>None</td>\n",
              "      <td>None</td>\n",
              "      <td>None</td>\n",
              "      <td>None</td>\n",
              "      <td>NaN</td>\n",
              "      <td>2.350194</td>\n",
              "      <td>48.882282</td>\n",
              "      <td>000AA</td>\n",
              "    </tr>\n",
              "    <tr>\n",
              "      <th>4</th>\n",
              "      <td>2021-1255130</td>\n",
              "      <td>2021-11-30</td>\n",
              "      <td>1</td>\n",
              "      <td>Vente</td>\n",
              "      <td>67000.0</td>\n",
              "      <td>151.0</td>\n",
              "      <td>None</td>\n",
              "      <td>BD DE MAGENTA</td>\n",
              "      <td>5907</td>\n",
              "      <td>75010</td>\n",
              "      <td>...</td>\n",
              "      <td>9.0</td>\n",
              "      <td>1.0</td>\n",
              "      <td>None</td>\n",
              "      <td>None</td>\n",
              "      <td>None</td>\n",
              "      <td>None</td>\n",
              "      <td>NaN</td>\n",
              "      <td>2.349877</td>\n",
              "      <td>48.882732</td>\n",
              "      <td>000AA</td>\n",
              "    </tr>\n",
              "    <tr>\n",
              "      <th>...</th>\n",
              "      <td>...</td>\n",
              "      <td>...</td>\n",
              "      <td>...</td>\n",
              "      <td>...</td>\n",
              "      <td>...</td>\n",
              "      <td>...</td>\n",
              "      <td>...</td>\n",
              "      <td>...</td>\n",
              "      <td>...</td>\n",
              "      <td>...</td>\n",
              "      <td>...</td>\n",
              "      <td>...</td>\n",
              "      <td>...</td>\n",
              "      <td>...</td>\n",
              "      <td>...</td>\n",
              "      <td>...</td>\n",
              "      <td>...</td>\n",
              "      <td>...</td>\n",
              "      <td>...</td>\n",
              "      <td>...</td>\n",
              "      <td>...</td>\n",
              "    </tr>\n",
              "    <tr>\n",
              "      <th>16596</th>\n",
              "      <td>2017-1408415</td>\n",
              "      <td>2017-02-23</td>\n",
              "      <td>1</td>\n",
              "      <td>Vente</td>\n",
              "      <td>135000.0</td>\n",
              "      <td>270.0</td>\n",
              "      <td>None</td>\n",
              "      <td>RUE DU FBG ST MARTIN</td>\n",
              "      <td>3522</td>\n",
              "      <td>75010</td>\n",
              "      <td>...</td>\n",
              "      <td>27.0</td>\n",
              "      <td>2.0</td>\n",
              "      <td>None</td>\n",
              "      <td>None</td>\n",
              "      <td>None</td>\n",
              "      <td>None</td>\n",
              "      <td>None</td>\n",
              "      <td>2.368337</td>\n",
              "      <td>48.883334</td>\n",
              "      <td>000BY</td>\n",
              "    </tr>\n",
              "    <tr>\n",
              "      <th>16597</th>\n",
              "      <td>2017-1408316</td>\n",
              "      <td>2017-02-23</td>\n",
              "      <td>1</td>\n",
              "      <td>Vente</td>\n",
              "      <td>1065000.0</td>\n",
              "      <td>203.0</td>\n",
              "      <td>None</td>\n",
              "      <td>QUAI DE VALMY</td>\n",
              "      <td>9568</td>\n",
              "      <td>75010</td>\n",
              "      <td>...</td>\n",
              "      <td>NaN</td>\n",
              "      <td>0.0</td>\n",
              "      <td>None</td>\n",
              "      <td>None</td>\n",
              "      <td>None</td>\n",
              "      <td>None</td>\n",
              "      <td>None</td>\n",
              "      <td>2.368478</td>\n",
              "      <td>48.882067</td>\n",
              "      <td>000BY</td>\n",
              "    </tr>\n",
              "    <tr>\n",
              "      <th>16598</th>\n",
              "      <td>2017-1408316</td>\n",
              "      <td>2017-02-23</td>\n",
              "      <td>1</td>\n",
              "      <td>Vente</td>\n",
              "      <td>1065000.0</td>\n",
              "      <td>203.0</td>\n",
              "      <td>None</td>\n",
              "      <td>QUAI DE VALMY</td>\n",
              "      <td>9568</td>\n",
              "      <td>75010</td>\n",
              "      <td>...</td>\n",
              "      <td>NaN</td>\n",
              "      <td>0.0</td>\n",
              "      <td>None</td>\n",
              "      <td>None</td>\n",
              "      <td>None</td>\n",
              "      <td>None</td>\n",
              "      <td>None</td>\n",
              "      <td>2.368478</td>\n",
              "      <td>48.882067</td>\n",
              "      <td>000BY</td>\n",
              "    </tr>\n",
              "    <tr>\n",
              "      <th>16599</th>\n",
              "      <td>2017-1408667</td>\n",
              "      <td>2017-02-15</td>\n",
              "      <td>1</td>\n",
              "      <td>Vente</td>\n",
              "      <td>458000.0</td>\n",
              "      <td>5.0</td>\n",
              "      <td>None</td>\n",
              "      <td>PL LA BATAILLE DE STALINGRAD</td>\n",
              "      <td>723</td>\n",
              "      <td>75010</td>\n",
              "      <td>...</td>\n",
              "      <td>58.0</td>\n",
              "      <td>3.0</td>\n",
              "      <td>None</td>\n",
              "      <td>None</td>\n",
              "      <td>None</td>\n",
              "      <td>None</td>\n",
              "      <td>None</td>\n",
              "      <td>2.368919</td>\n",
              "      <td>48.883058</td>\n",
              "      <td>000BY</td>\n",
              "    </tr>\n",
              "    <tr>\n",
              "      <th>16600</th>\n",
              "      <td>2017-1408195</td>\n",
              "      <td>2017-02-14</td>\n",
              "      <td>1</td>\n",
              "      <td>Vente</td>\n",
              "      <td>126000.0</td>\n",
              "      <td>233.0</td>\n",
              "      <td>None</td>\n",
              "      <td>RUE LA FAYETTE</td>\n",
              "      <td>5240</td>\n",
              "      <td>75010</td>\n",
              "      <td>...</td>\n",
              "      <td>26.0</td>\n",
              "      <td>1.0</td>\n",
              "      <td>None</td>\n",
              "      <td>None</td>\n",
              "      <td>None</td>\n",
              "      <td>None</td>\n",
              "      <td>None</td>\n",
              "      <td>2.367354</td>\n",
              "      <td>48.882305</td>\n",
              "      <td>000BY</td>\n",
              "    </tr>\n",
              "  </tbody>\n",
              "</table>\n",
              "<p>16461 rows × 41 columns</p>\n",
              "</div>\n",
              "      <button class=\"colab-df-convert\" onclick=\"convertToInteractive('df-9dddffcf-7a89-4843-87e3-542052cbce6a')\"\n",
              "              title=\"Convert this dataframe to an interactive table.\"\n",
              "              style=\"display:none;\">\n",
              "        \n",
              "  <svg xmlns=\"http://www.w3.org/2000/svg\" height=\"24px\"viewBox=\"0 0 24 24\"\n",
              "       width=\"24px\">\n",
              "    <path d=\"M0 0h24v24H0V0z\" fill=\"none\"/>\n",
              "    <path d=\"M18.56 5.44l.94 2.06.94-2.06 2.06-.94-2.06-.94-.94-2.06-.94 2.06-2.06.94zm-11 1L8.5 8.5l.94-2.06 2.06-.94-2.06-.94L8.5 2.5l-.94 2.06-2.06.94zm10 10l.94 2.06.94-2.06 2.06-.94-2.06-.94-.94-2.06-.94 2.06-2.06.94z\"/><path d=\"M17.41 7.96l-1.37-1.37c-.4-.4-.92-.59-1.43-.59-.52 0-1.04.2-1.43.59L10.3 9.45l-7.72 7.72c-.78.78-.78 2.05 0 2.83L4 21.41c.39.39.9.59 1.41.59.51 0 1.02-.2 1.41-.59l7.78-7.78 2.81-2.81c.8-.78.8-2.07 0-2.86zM5.41 20L4 18.59l7.72-7.72 1.47 1.35L5.41 20z\"/>\n",
              "  </svg>\n",
              "      </button>\n",
              "      \n",
              "  <style>\n",
              "    .colab-df-container {\n",
              "      display:flex;\n",
              "      flex-wrap:wrap;\n",
              "      gap: 12px;\n",
              "    }\n",
              "\n",
              "    .colab-df-convert {\n",
              "      background-color: #E8F0FE;\n",
              "      border: none;\n",
              "      border-radius: 50%;\n",
              "      cursor: pointer;\n",
              "      display: none;\n",
              "      fill: #1967D2;\n",
              "      height: 32px;\n",
              "      padding: 0 0 0 0;\n",
              "      width: 32px;\n",
              "    }\n",
              "\n",
              "    .colab-df-convert:hover {\n",
              "      background-color: #E2EBFA;\n",
              "      box-shadow: 0px 1px 2px rgba(60, 64, 67, 0.3), 0px 1px 3px 1px rgba(60, 64, 67, 0.15);\n",
              "      fill: #174EA6;\n",
              "    }\n",
              "\n",
              "    [theme=dark] .colab-df-convert {\n",
              "      background-color: #3B4455;\n",
              "      fill: #D2E3FC;\n",
              "    }\n",
              "\n",
              "    [theme=dark] .colab-df-convert:hover {\n",
              "      background-color: #434B5C;\n",
              "      box-shadow: 0px 1px 3px 1px rgba(0, 0, 0, 0.15);\n",
              "      filter: drop-shadow(0px 1px 2px rgba(0, 0, 0, 0.3));\n",
              "      fill: #FFFFFF;\n",
              "    }\n",
              "  </style>\n",
              "\n",
              "      <script>\n",
              "        const buttonEl =\n",
              "          document.querySelector('#df-9dddffcf-7a89-4843-87e3-542052cbce6a button.colab-df-convert');\n",
              "        buttonEl.style.display =\n",
              "          google.colab.kernel.accessAllowed ? 'block' : 'none';\n",
              "\n",
              "        async function convertToInteractive(key) {\n",
              "          const element = document.querySelector('#df-9dddffcf-7a89-4843-87e3-542052cbce6a');\n",
              "          const dataTable =\n",
              "            await google.colab.kernel.invokeFunction('convertToInteractive',\n",
              "                                                     [key], {});\n",
              "          if (!dataTable) return;\n",
              "\n",
              "          const docLinkHtml = 'Like what you see? Visit the ' +\n",
              "            '<a target=\"_blank\" href=https://colab.research.google.com/notebooks/data_table.ipynb>data table notebook</a>'\n",
              "            + ' to learn more about interactive tables.';\n",
              "          element.innerHTML = '';\n",
              "          dataTable['output_type'] = 'display_data';\n",
              "          await google.colab.output.renderOutput(dataTable, element);\n",
              "          const docLink = document.createElement('div');\n",
              "          docLink.innerHTML = docLinkHtml;\n",
              "          element.appendChild(docLink);\n",
              "        }\n",
              "      </script>\n",
              "    </div>\n",
              "  </div>\n",
              "  "
            ]
          },
          "metadata": {},
          "execution_count": 7
        }
      ]
    },
    {
      "cell_type": "code",
      "source": [
        "data[data.numero_disposition==1].date_mutation"
      ],
      "metadata": {
        "colab": {
          "base_uri": "https://localhost:8080/"
        },
        "id": "uY1awkeLSdzZ",
        "outputId": "3767d2c3-a66f-4d0a-fcfa-471c46af9c46"
      },
      "execution_count": null,
      "outputs": [
        {
          "output_type": "execute_result",
          "data": {
            "text/plain": [
              "0        2021-12-28\n",
              "1        2021-12-28\n",
              "2        2021-12-23\n",
              "3        2021-12-14\n",
              "4        2021-11-30\n",
              "            ...    \n",
              "16596    2017-02-23\n",
              "16597    2017-02-23\n",
              "16598    2017-02-23\n",
              "16599    2017-02-15\n",
              "16600    2017-02-14\n",
              "Name: date_mutation, Length: 16461, dtype: object"
            ]
          },
          "metadata": {},
          "execution_count": 8
        }
      ]
    },
    {
      "cell_type": "code",
      "source": [
        "data[data.numero_disposition==1].nature_mutation.unique()"
      ],
      "metadata": {
        "colab": {
          "base_uri": "https://localhost:8080/"
        },
        "id": "6p-TyassSl4A",
        "outputId": "3cdb52cf-adb6-4da5-94c9-bcb67146c09e"
      },
      "execution_count": null,
      "outputs": [
        {
          "output_type": "execute_result",
          "data": {
            "text/plain": [
              "array(['Vente', 'Echange', 'Adjudication',\n",
              "       \"Vente en l'état futur d'achèvement\"], dtype=object)"
            ]
          },
          "metadata": {},
          "execution_count": 9
        }
      ]
    },
    {
      "cell_type": "code",
      "source": [
        "data.groupby(['numero_disposition']).count()"
      ],
      "metadata": {
        "colab": {
          "base_uri": "https://localhost:8080/",
          "height": 362
        },
        "id": "WqDbTR3FCQVe",
        "outputId": "12f21a5d-ebf6-4041-c198-c839881ae88a"
      },
      "execution_count": null,
      "outputs": [
        {
          "output_type": "execute_result",
          "data": {
            "text/plain": [
              "                    id_mutation  date_mutation  nature_mutation  \\\n",
              "numero_disposition                                                \n",
              "1                         16461          16461            16461   \n",
              "2                           133            133              133   \n",
              "3                             3              3                3   \n",
              "4                             1              1                1   \n",
              "5                             2              2                2   \n",
              "6                             1              1                1   \n",
              "\n",
              "                    valeur_fonciere  adresse_numero  adresse_suffixe  \\\n",
              "numero_disposition                                                     \n",
              "1                             16460           16428            16461   \n",
              "2                               132             133              133   \n",
              "3                                 3               3                3   \n",
              "4                                 1               1                1   \n",
              "5                                 2               2                2   \n",
              "6                                 1               1                1   \n",
              "\n",
              "                    adresse_nom_voie  adresse_code_voie  code_postal  \\\n",
              "numero_disposition                                                     \n",
              "1                              16461              16461        16461   \n",
              "2                                133                133          133   \n",
              "3                                  3                  3            3   \n",
              "4                                  1                  1            1   \n",
              "5                                  2                  2            2   \n",
              "6                                  1                  1            1   \n",
              "\n",
              "                    code_commune  ...  surface_reelle_bati  \\\n",
              "numero_disposition                ...                        \n",
              "1                          16461  ...                12783   \n",
              "2                            133  ...                   67   \n",
              "3                              3  ...                    3   \n",
              "4                              1  ...                    1   \n",
              "5                              2  ...                    1   \n",
              "6                              1  ...                    0   \n",
              "\n",
              "                    nombre_pieces_principales  code_nature_culture  \\\n",
              "numero_disposition                                                   \n",
              "1                                       16386                16461   \n",
              "2                                         133                  133   \n",
              "3                                           3                    3   \n",
              "4                                           1                    1   \n",
              "5                                           2                    2   \n",
              "6                                           1                    1   \n",
              "\n",
              "                    nature_culture  code_nature_culture_speciale  \\\n",
              "numero_disposition                                                 \n",
              "1                            16461                         16461   \n",
              "2                              133                           133   \n",
              "3                                3                             3   \n",
              "4                                1                             1   \n",
              "5                                2                             2   \n",
              "6                                1                             1   \n",
              "\n",
              "                    nature_culture_speciale  surface_terrain  longitude  \\\n",
              "numero_disposition                                                        \n",
              "1                                     16461             4453      16441   \n",
              "2                                       133               51        133   \n",
              "3                                         3                1          3   \n",
              "4                                         1                0          1   \n",
              "5                                         2                0          2   \n",
              "6                                         1                0          1   \n",
              "\n",
              "                    latitude  section_prefixe  \n",
              "numero_disposition                             \n",
              "1                      16441            16461  \n",
              "2                        133              133  \n",
              "3                          3                3  \n",
              "4                          1                1  \n",
              "5                          2                2  \n",
              "6                          1                1  \n",
              "\n",
              "[6 rows x 40 columns]"
            ],
            "text/html": [
              "\n",
              "  <div id=\"df-4451191a-ce59-4767-a1f1-c87fac043547\">\n",
              "    <div class=\"colab-df-container\">\n",
              "      <div>\n",
              "<style scoped>\n",
              "    .dataframe tbody tr th:only-of-type {\n",
              "        vertical-align: middle;\n",
              "    }\n",
              "\n",
              "    .dataframe tbody tr th {\n",
              "        vertical-align: top;\n",
              "    }\n",
              "\n",
              "    .dataframe thead th {\n",
              "        text-align: right;\n",
              "    }\n",
              "</style>\n",
              "<table border=\"1\" class=\"dataframe\">\n",
              "  <thead>\n",
              "    <tr style=\"text-align: right;\">\n",
              "      <th></th>\n",
              "      <th>id_mutation</th>\n",
              "      <th>date_mutation</th>\n",
              "      <th>nature_mutation</th>\n",
              "      <th>valeur_fonciere</th>\n",
              "      <th>adresse_numero</th>\n",
              "      <th>adresse_suffixe</th>\n",
              "      <th>adresse_nom_voie</th>\n",
              "      <th>adresse_code_voie</th>\n",
              "      <th>code_postal</th>\n",
              "      <th>code_commune</th>\n",
              "      <th>...</th>\n",
              "      <th>surface_reelle_bati</th>\n",
              "      <th>nombre_pieces_principales</th>\n",
              "      <th>code_nature_culture</th>\n",
              "      <th>nature_culture</th>\n",
              "      <th>code_nature_culture_speciale</th>\n",
              "      <th>nature_culture_speciale</th>\n",
              "      <th>surface_terrain</th>\n",
              "      <th>longitude</th>\n",
              "      <th>latitude</th>\n",
              "      <th>section_prefixe</th>\n",
              "    </tr>\n",
              "    <tr>\n",
              "      <th>numero_disposition</th>\n",
              "      <th></th>\n",
              "      <th></th>\n",
              "      <th></th>\n",
              "      <th></th>\n",
              "      <th></th>\n",
              "      <th></th>\n",
              "      <th></th>\n",
              "      <th></th>\n",
              "      <th></th>\n",
              "      <th></th>\n",
              "      <th></th>\n",
              "      <th></th>\n",
              "      <th></th>\n",
              "      <th></th>\n",
              "      <th></th>\n",
              "      <th></th>\n",
              "      <th></th>\n",
              "      <th></th>\n",
              "      <th></th>\n",
              "      <th></th>\n",
              "      <th></th>\n",
              "    </tr>\n",
              "  </thead>\n",
              "  <tbody>\n",
              "    <tr>\n",
              "      <th>1</th>\n",
              "      <td>16461</td>\n",
              "      <td>16461</td>\n",
              "      <td>16461</td>\n",
              "      <td>16460</td>\n",
              "      <td>16428</td>\n",
              "      <td>16461</td>\n",
              "      <td>16461</td>\n",
              "      <td>16461</td>\n",
              "      <td>16461</td>\n",
              "      <td>16461</td>\n",
              "      <td>...</td>\n",
              "      <td>12783</td>\n",
              "      <td>16386</td>\n",
              "      <td>16461</td>\n",
              "      <td>16461</td>\n",
              "      <td>16461</td>\n",
              "      <td>16461</td>\n",
              "      <td>4453</td>\n",
              "      <td>16441</td>\n",
              "      <td>16441</td>\n",
              "      <td>16461</td>\n",
              "    </tr>\n",
              "    <tr>\n",
              "      <th>2</th>\n",
              "      <td>133</td>\n",
              "      <td>133</td>\n",
              "      <td>133</td>\n",
              "      <td>132</td>\n",
              "      <td>133</td>\n",
              "      <td>133</td>\n",
              "      <td>133</td>\n",
              "      <td>133</td>\n",
              "      <td>133</td>\n",
              "      <td>133</td>\n",
              "      <td>...</td>\n",
              "      <td>67</td>\n",
              "      <td>133</td>\n",
              "      <td>133</td>\n",
              "      <td>133</td>\n",
              "      <td>133</td>\n",
              "      <td>133</td>\n",
              "      <td>51</td>\n",
              "      <td>133</td>\n",
              "      <td>133</td>\n",
              "      <td>133</td>\n",
              "    </tr>\n",
              "    <tr>\n",
              "      <th>3</th>\n",
              "      <td>3</td>\n",
              "      <td>3</td>\n",
              "      <td>3</td>\n",
              "      <td>3</td>\n",
              "      <td>3</td>\n",
              "      <td>3</td>\n",
              "      <td>3</td>\n",
              "      <td>3</td>\n",
              "      <td>3</td>\n",
              "      <td>3</td>\n",
              "      <td>...</td>\n",
              "      <td>3</td>\n",
              "      <td>3</td>\n",
              "      <td>3</td>\n",
              "      <td>3</td>\n",
              "      <td>3</td>\n",
              "      <td>3</td>\n",
              "      <td>1</td>\n",
              "      <td>3</td>\n",
              "      <td>3</td>\n",
              "      <td>3</td>\n",
              "    </tr>\n",
              "    <tr>\n",
              "      <th>4</th>\n",
              "      <td>1</td>\n",
              "      <td>1</td>\n",
              "      <td>1</td>\n",
              "      <td>1</td>\n",
              "      <td>1</td>\n",
              "      <td>1</td>\n",
              "      <td>1</td>\n",
              "      <td>1</td>\n",
              "      <td>1</td>\n",
              "      <td>1</td>\n",
              "      <td>...</td>\n",
              "      <td>1</td>\n",
              "      <td>1</td>\n",
              "      <td>1</td>\n",
              "      <td>1</td>\n",
              "      <td>1</td>\n",
              "      <td>1</td>\n",
              "      <td>0</td>\n",
              "      <td>1</td>\n",
              "      <td>1</td>\n",
              "      <td>1</td>\n",
              "    </tr>\n",
              "    <tr>\n",
              "      <th>5</th>\n",
              "      <td>2</td>\n",
              "      <td>2</td>\n",
              "      <td>2</td>\n",
              "      <td>2</td>\n",
              "      <td>2</td>\n",
              "      <td>2</td>\n",
              "      <td>2</td>\n",
              "      <td>2</td>\n",
              "      <td>2</td>\n",
              "      <td>2</td>\n",
              "      <td>...</td>\n",
              "      <td>1</td>\n",
              "      <td>2</td>\n",
              "      <td>2</td>\n",
              "      <td>2</td>\n",
              "      <td>2</td>\n",
              "      <td>2</td>\n",
              "      <td>0</td>\n",
              "      <td>2</td>\n",
              "      <td>2</td>\n",
              "      <td>2</td>\n",
              "    </tr>\n",
              "    <tr>\n",
              "      <th>6</th>\n",
              "      <td>1</td>\n",
              "      <td>1</td>\n",
              "      <td>1</td>\n",
              "      <td>1</td>\n",
              "      <td>1</td>\n",
              "      <td>1</td>\n",
              "      <td>1</td>\n",
              "      <td>1</td>\n",
              "      <td>1</td>\n",
              "      <td>1</td>\n",
              "      <td>...</td>\n",
              "      <td>0</td>\n",
              "      <td>1</td>\n",
              "      <td>1</td>\n",
              "      <td>1</td>\n",
              "      <td>1</td>\n",
              "      <td>1</td>\n",
              "      <td>0</td>\n",
              "      <td>1</td>\n",
              "      <td>1</td>\n",
              "      <td>1</td>\n",
              "    </tr>\n",
              "  </tbody>\n",
              "</table>\n",
              "<p>6 rows × 40 columns</p>\n",
              "</div>\n",
              "      <button class=\"colab-df-convert\" onclick=\"convertToInteractive('df-4451191a-ce59-4767-a1f1-c87fac043547')\"\n",
              "              title=\"Convert this dataframe to an interactive table.\"\n",
              "              style=\"display:none;\">\n",
              "        \n",
              "  <svg xmlns=\"http://www.w3.org/2000/svg\" height=\"24px\"viewBox=\"0 0 24 24\"\n",
              "       width=\"24px\">\n",
              "    <path d=\"M0 0h24v24H0V0z\" fill=\"none\"/>\n",
              "    <path d=\"M18.56 5.44l.94 2.06.94-2.06 2.06-.94-2.06-.94-.94-2.06-.94 2.06-2.06.94zm-11 1L8.5 8.5l.94-2.06 2.06-.94-2.06-.94L8.5 2.5l-.94 2.06-2.06.94zm10 10l.94 2.06.94-2.06 2.06-.94-2.06-.94-.94-2.06-.94 2.06-2.06.94z\"/><path d=\"M17.41 7.96l-1.37-1.37c-.4-.4-.92-.59-1.43-.59-.52 0-1.04.2-1.43.59L10.3 9.45l-7.72 7.72c-.78.78-.78 2.05 0 2.83L4 21.41c.39.39.9.59 1.41.59.51 0 1.02-.2 1.41-.59l7.78-7.78 2.81-2.81c.8-.78.8-2.07 0-2.86zM5.41 20L4 18.59l7.72-7.72 1.47 1.35L5.41 20z\"/>\n",
              "  </svg>\n",
              "      </button>\n",
              "      \n",
              "  <style>\n",
              "    .colab-df-container {\n",
              "      display:flex;\n",
              "      flex-wrap:wrap;\n",
              "      gap: 12px;\n",
              "    }\n",
              "\n",
              "    .colab-df-convert {\n",
              "      background-color: #E8F0FE;\n",
              "      border: none;\n",
              "      border-radius: 50%;\n",
              "      cursor: pointer;\n",
              "      display: none;\n",
              "      fill: #1967D2;\n",
              "      height: 32px;\n",
              "      padding: 0 0 0 0;\n",
              "      width: 32px;\n",
              "    }\n",
              "\n",
              "    .colab-df-convert:hover {\n",
              "      background-color: #E2EBFA;\n",
              "      box-shadow: 0px 1px 2px rgba(60, 64, 67, 0.3), 0px 1px 3px 1px rgba(60, 64, 67, 0.15);\n",
              "      fill: #174EA6;\n",
              "    }\n",
              "\n",
              "    [theme=dark] .colab-df-convert {\n",
              "      background-color: #3B4455;\n",
              "      fill: #D2E3FC;\n",
              "    }\n",
              "\n",
              "    [theme=dark] .colab-df-convert:hover {\n",
              "      background-color: #434B5C;\n",
              "      box-shadow: 0px 1px 3px 1px rgba(0, 0, 0, 0.15);\n",
              "      filter: drop-shadow(0px 1px 2px rgba(0, 0, 0, 0.3));\n",
              "      fill: #FFFFFF;\n",
              "    }\n",
              "  </style>\n",
              "\n",
              "      <script>\n",
              "        const buttonEl =\n",
              "          document.querySelector('#df-4451191a-ce59-4767-a1f1-c87fac043547 button.colab-df-convert');\n",
              "        buttonEl.style.display =\n",
              "          google.colab.kernel.accessAllowed ? 'block' : 'none';\n",
              "\n",
              "        async function convertToInteractive(key) {\n",
              "          const element = document.querySelector('#df-4451191a-ce59-4767-a1f1-c87fac043547');\n",
              "          const dataTable =\n",
              "            await google.colab.kernel.invokeFunction('convertToInteractive',\n",
              "                                                     [key], {});\n",
              "          if (!dataTable) return;\n",
              "\n",
              "          const docLinkHtml = 'Like what you see? Visit the ' +\n",
              "            '<a target=\"_blank\" href=https://colab.research.google.com/notebooks/data_table.ipynb>data table notebook</a>'\n",
              "            + ' to learn more about interactive tables.';\n",
              "          element.innerHTML = '';\n",
              "          dataTable['output_type'] = 'display_data';\n",
              "          await google.colab.output.renderOutput(dataTable, element);\n",
              "          const docLink = document.createElement('div');\n",
              "          docLink.innerHTML = docLinkHtml;\n",
              "          element.appendChild(docLink);\n",
              "        }\n",
              "      </script>\n",
              "    </div>\n",
              "  </div>\n",
              "  "
            ]
          },
          "metadata": {},
          "execution_count": 10
        }
      ]
    },
    {
      "cell_type": "markdown",
      "source": [
        "it is possible that the same building has two non-null surface_lot_carrez"
      ],
      "metadata": {
        "id": "gxk-D6bgYLwQ"
      }
    },
    {
      "cell_type": "markdown",
      "source": [
        "select features that are intuitevely relevant to predict our target (real estate price)"
      ],
      "metadata": {
        "id": "AUEoZdKPVO1o"
      }
    },
    {
      "cell_type": "code",
      "source": [
        "data=data[['lot1_surface_carrez','lot2_surface_carrez','lot3_surface_carrez','lot4_surface_carrez','lot5_surface_carrez',\n",
        "           'code_type_local','type_local','surface_reelle_bati','nombre_pieces_principales','surface_terrain','longitude','latitude',\n",
        "           'valeur_fonciere','date_mutation']]"
      ],
      "metadata": {
        "id": "tlcWlVtnUSnE"
      },
      "execution_count": null,
      "outputs": []
    },
    {
      "cell_type": "markdown",
      "source": [
        "La superficie loi Carrez correspond à une mesure spécifique de la superficie habitable d’un logement. Les éléments tels que murs, cloisons, marches, balcons, terrasses, embrasures de portes et fenêtres, gaines, cave et parking ne sont pas pris en compte. [1]"
      ],
      "metadata": {
        "id": "jusZ-hXowS1e"
      }
    },
    {
      "cell_type": "code",
      "source": [
        "data.head()"
      ],
      "metadata": {
        "colab": {
          "base_uri": "https://localhost:8080/",
          "height": 270
        },
        "id": "-Ik0cfc_QLOE",
        "outputId": "1519763e-f5be-423f-876a-2c6494540ea2"
      },
      "execution_count": null,
      "outputs": [
        {
          "output_type": "execute_result",
          "data": {
            "text/plain": [
              "   lot1_surface_carrez lot2_surface_carrez lot3_surface_carrez  \\\n",
              "0                31.05                 NaN                 NaN   \n",
              "1                31.05                 NaN                 NaN   \n",
              "2                35.97                 NaN                 NaN   \n",
              "3                11.60                 NaN                 NaN   \n",
              "4                  NaN                 NaN                 NaN   \n",
              "\n",
              "  lot4_surface_carrez lot5_surface_carrez code_type_local   type_local  \\\n",
              "0                None                None               2  Appartement   \n",
              "1                None                None               3   Dépendance   \n",
              "2                None                None               2  Appartement   \n",
              "3                None                None               3   Dépendance   \n",
              "4                None                None               2  Appartement   \n",
              "\n",
              "   surface_reelle_bati  nombre_pieces_principales surface_terrain  longitude  \\\n",
              "0                 22.0                        1.0             NaN   2.350194   \n",
              "1                  NaN                        0.0             NaN   2.350194   \n",
              "2                 36.0                        2.0             NaN   2.350692   \n",
              "3                  NaN                        0.0             NaN   2.350194   \n",
              "4                  9.0                        1.0             NaN   2.349877   \n",
              "\n",
              "    latitude  valeur_fonciere date_mutation  \n",
              "0  48.882282         330000.0    2021-12-28  \n",
              "1  48.882282         330000.0    2021-12-28  \n",
              "2  48.883416         110000.0    2021-12-23  \n",
              "3  48.882282         165200.0    2021-12-14  \n",
              "4  48.882732          67000.0    2021-11-30  "
            ],
            "text/html": [
              "\n",
              "  <div id=\"df-08b1d69b-4b61-4294-8590-f2a4fdece04c\">\n",
              "    <div class=\"colab-df-container\">\n",
              "      <div>\n",
              "<style scoped>\n",
              "    .dataframe tbody tr th:only-of-type {\n",
              "        vertical-align: middle;\n",
              "    }\n",
              "\n",
              "    .dataframe tbody tr th {\n",
              "        vertical-align: top;\n",
              "    }\n",
              "\n",
              "    .dataframe thead th {\n",
              "        text-align: right;\n",
              "    }\n",
              "</style>\n",
              "<table border=\"1\" class=\"dataframe\">\n",
              "  <thead>\n",
              "    <tr style=\"text-align: right;\">\n",
              "      <th></th>\n",
              "      <th>lot1_surface_carrez</th>\n",
              "      <th>lot2_surface_carrez</th>\n",
              "      <th>lot3_surface_carrez</th>\n",
              "      <th>lot4_surface_carrez</th>\n",
              "      <th>lot5_surface_carrez</th>\n",
              "      <th>code_type_local</th>\n",
              "      <th>type_local</th>\n",
              "      <th>surface_reelle_bati</th>\n",
              "      <th>nombre_pieces_principales</th>\n",
              "      <th>surface_terrain</th>\n",
              "      <th>longitude</th>\n",
              "      <th>latitude</th>\n",
              "      <th>valeur_fonciere</th>\n",
              "      <th>date_mutation</th>\n",
              "    </tr>\n",
              "  </thead>\n",
              "  <tbody>\n",
              "    <tr>\n",
              "      <th>0</th>\n",
              "      <td>31.05</td>\n",
              "      <td>NaN</td>\n",
              "      <td>NaN</td>\n",
              "      <td>None</td>\n",
              "      <td>None</td>\n",
              "      <td>2</td>\n",
              "      <td>Appartement</td>\n",
              "      <td>22.0</td>\n",
              "      <td>1.0</td>\n",
              "      <td>NaN</td>\n",
              "      <td>2.350194</td>\n",
              "      <td>48.882282</td>\n",
              "      <td>330000.0</td>\n",
              "      <td>2021-12-28</td>\n",
              "    </tr>\n",
              "    <tr>\n",
              "      <th>1</th>\n",
              "      <td>31.05</td>\n",
              "      <td>NaN</td>\n",
              "      <td>NaN</td>\n",
              "      <td>None</td>\n",
              "      <td>None</td>\n",
              "      <td>3</td>\n",
              "      <td>Dépendance</td>\n",
              "      <td>NaN</td>\n",
              "      <td>0.0</td>\n",
              "      <td>NaN</td>\n",
              "      <td>2.350194</td>\n",
              "      <td>48.882282</td>\n",
              "      <td>330000.0</td>\n",
              "      <td>2021-12-28</td>\n",
              "    </tr>\n",
              "    <tr>\n",
              "      <th>2</th>\n",
              "      <td>35.97</td>\n",
              "      <td>NaN</td>\n",
              "      <td>NaN</td>\n",
              "      <td>None</td>\n",
              "      <td>None</td>\n",
              "      <td>2</td>\n",
              "      <td>Appartement</td>\n",
              "      <td>36.0</td>\n",
              "      <td>2.0</td>\n",
              "      <td>NaN</td>\n",
              "      <td>2.350692</td>\n",
              "      <td>48.883416</td>\n",
              "      <td>110000.0</td>\n",
              "      <td>2021-12-23</td>\n",
              "    </tr>\n",
              "    <tr>\n",
              "      <th>3</th>\n",
              "      <td>11.60</td>\n",
              "      <td>NaN</td>\n",
              "      <td>NaN</td>\n",
              "      <td>None</td>\n",
              "      <td>None</td>\n",
              "      <td>3</td>\n",
              "      <td>Dépendance</td>\n",
              "      <td>NaN</td>\n",
              "      <td>0.0</td>\n",
              "      <td>NaN</td>\n",
              "      <td>2.350194</td>\n",
              "      <td>48.882282</td>\n",
              "      <td>165200.0</td>\n",
              "      <td>2021-12-14</td>\n",
              "    </tr>\n",
              "    <tr>\n",
              "      <th>4</th>\n",
              "      <td>NaN</td>\n",
              "      <td>NaN</td>\n",
              "      <td>NaN</td>\n",
              "      <td>None</td>\n",
              "      <td>None</td>\n",
              "      <td>2</td>\n",
              "      <td>Appartement</td>\n",
              "      <td>9.0</td>\n",
              "      <td>1.0</td>\n",
              "      <td>NaN</td>\n",
              "      <td>2.349877</td>\n",
              "      <td>48.882732</td>\n",
              "      <td>67000.0</td>\n",
              "      <td>2021-11-30</td>\n",
              "    </tr>\n",
              "  </tbody>\n",
              "</table>\n",
              "</div>\n",
              "      <button class=\"colab-df-convert\" onclick=\"convertToInteractive('df-08b1d69b-4b61-4294-8590-f2a4fdece04c')\"\n",
              "              title=\"Convert this dataframe to an interactive table.\"\n",
              "              style=\"display:none;\">\n",
              "        \n",
              "  <svg xmlns=\"http://www.w3.org/2000/svg\" height=\"24px\"viewBox=\"0 0 24 24\"\n",
              "       width=\"24px\">\n",
              "    <path d=\"M0 0h24v24H0V0z\" fill=\"none\"/>\n",
              "    <path d=\"M18.56 5.44l.94 2.06.94-2.06 2.06-.94-2.06-.94-.94-2.06-.94 2.06-2.06.94zm-11 1L8.5 8.5l.94-2.06 2.06-.94-2.06-.94L8.5 2.5l-.94 2.06-2.06.94zm10 10l.94 2.06.94-2.06 2.06-.94-2.06-.94-.94-2.06-.94 2.06-2.06.94z\"/><path d=\"M17.41 7.96l-1.37-1.37c-.4-.4-.92-.59-1.43-.59-.52 0-1.04.2-1.43.59L10.3 9.45l-7.72 7.72c-.78.78-.78 2.05 0 2.83L4 21.41c.39.39.9.59 1.41.59.51 0 1.02-.2 1.41-.59l7.78-7.78 2.81-2.81c.8-.78.8-2.07 0-2.86zM5.41 20L4 18.59l7.72-7.72 1.47 1.35L5.41 20z\"/>\n",
              "  </svg>\n",
              "      </button>\n",
              "      \n",
              "  <style>\n",
              "    .colab-df-container {\n",
              "      display:flex;\n",
              "      flex-wrap:wrap;\n",
              "      gap: 12px;\n",
              "    }\n",
              "\n",
              "    .colab-df-convert {\n",
              "      background-color: #E8F0FE;\n",
              "      border: none;\n",
              "      border-radius: 50%;\n",
              "      cursor: pointer;\n",
              "      display: none;\n",
              "      fill: #1967D2;\n",
              "      height: 32px;\n",
              "      padding: 0 0 0 0;\n",
              "      width: 32px;\n",
              "    }\n",
              "\n",
              "    .colab-df-convert:hover {\n",
              "      background-color: #E2EBFA;\n",
              "      box-shadow: 0px 1px 2px rgba(60, 64, 67, 0.3), 0px 1px 3px 1px rgba(60, 64, 67, 0.15);\n",
              "      fill: #174EA6;\n",
              "    }\n",
              "\n",
              "    [theme=dark] .colab-df-convert {\n",
              "      background-color: #3B4455;\n",
              "      fill: #D2E3FC;\n",
              "    }\n",
              "\n",
              "    [theme=dark] .colab-df-convert:hover {\n",
              "      background-color: #434B5C;\n",
              "      box-shadow: 0px 1px 3px 1px rgba(0, 0, 0, 0.15);\n",
              "      filter: drop-shadow(0px 1px 2px rgba(0, 0, 0, 0.3));\n",
              "      fill: #FFFFFF;\n",
              "    }\n",
              "  </style>\n",
              "\n",
              "      <script>\n",
              "        const buttonEl =\n",
              "          document.querySelector('#df-08b1d69b-4b61-4294-8590-f2a4fdece04c button.colab-df-convert');\n",
              "        buttonEl.style.display =\n",
              "          google.colab.kernel.accessAllowed ? 'block' : 'none';\n",
              "\n",
              "        async function convertToInteractive(key) {\n",
              "          const element = document.querySelector('#df-08b1d69b-4b61-4294-8590-f2a4fdece04c');\n",
              "          const dataTable =\n",
              "            await google.colab.kernel.invokeFunction('convertToInteractive',\n",
              "                                                     [key], {});\n",
              "          if (!dataTable) return;\n",
              "\n",
              "          const docLinkHtml = 'Like what you see? Visit the ' +\n",
              "            '<a target=\"_blank\" href=https://colab.research.google.com/notebooks/data_table.ipynb>data table notebook</a>'\n",
              "            + ' to learn more about interactive tables.';\n",
              "          element.innerHTML = '';\n",
              "          dataTable['output_type'] = 'display_data';\n",
              "          await google.colab.output.renderOutput(dataTable, element);\n",
              "          const docLink = document.createElement('div');\n",
              "          docLink.innerHTML = docLinkHtml;\n",
              "          element.appendChild(docLink);\n",
              "        }\n",
              "      </script>\n",
              "    </div>\n",
              "  </div>\n",
              "  "
            ]
          },
          "metadata": {},
          "execution_count": 12
        }
      ]
    },
    {
      "cell_type": "code",
      "source": [
        "data[:20]"
      ],
      "metadata": {
        "colab": {
          "base_uri": "https://localhost:8080/",
          "height": 741
        },
        "id": "D9uKTB5Q6A_U",
        "outputId": "60a25246-eafa-4a70-fc48-19f6e321761c"
      },
      "execution_count": null,
      "outputs": [
        {
          "output_type": "execute_result",
          "data": {
            "text/plain": [
              "    lot1_surface_carrez lot2_surface_carrez lot3_surface_carrez  \\\n",
              "0                 31.05                 NaN                 NaN   \n",
              "1                 31.05                 NaN                 NaN   \n",
              "2                 35.97                 NaN                 NaN   \n",
              "3                 11.60                 NaN                 NaN   \n",
              "4                   NaN                 NaN                 NaN   \n",
              "5                 92.71                 NaN                 NaN   \n",
              "6                 92.71                 NaN                 NaN   \n",
              "7                 32.85                 NaN                 NaN   \n",
              "8                 32.85                 NaN                 NaN   \n",
              "9                   NaN                 NaN                 NaN   \n",
              "10                  NaN                 NaN                 NaN   \n",
              "11                  NaN                 NaN                 NaN   \n",
              "12                  NaN                 NaN                 NaN   \n",
              "13                60.90                 NaN                 NaN   \n",
              "14                60.90                 NaN                 NaN   \n",
              "15                60.90                 NaN                 NaN   \n",
              "16                  NaN               57.18                 NaN   \n",
              "17                  NaN               57.18                 NaN   \n",
              "18                  NaN               57.18                 NaN   \n",
              "19                58.89                 NaN                 NaN   \n",
              "\n",
              "   lot4_surface_carrez lot5_surface_carrez code_type_local   type_local  \\\n",
              "0                 None                None               2  Appartement   \n",
              "1                 None                None               3   Dépendance   \n",
              "2                 None                None               2  Appartement   \n",
              "3                 None                None               3   Dépendance   \n",
              "4                 None                None               2  Appartement   \n",
              "5                 None                None               2  Appartement   \n",
              "6                 None                None               3   Dépendance   \n",
              "7                 None                None               2  Appartement   \n",
              "8                 None                None               3   Dépendance   \n",
              "9                 None                None               2  Appartement   \n",
              "10                None                None               3   Dépendance   \n",
              "11                None                None               3   Dépendance   \n",
              "12                None                None               3   Dépendance   \n",
              "13                None                None               2  Appartement   \n",
              "14                None                None               3   Dépendance   \n",
              "15                None                None               3   Dépendance   \n",
              "16                None                None               2  Appartement   \n",
              "17                None                None               3   Dépendance   \n",
              "18                None                None               3   Dépendance   \n",
              "19                None                None               2  Appartement   \n",
              "\n",
              "    surface_reelle_bati  nombre_pieces_principales surface_terrain  longitude  \\\n",
              "0                  22.0                        1.0             NaN   2.350194   \n",
              "1                   NaN                        0.0             NaN   2.350194   \n",
              "2                  36.0                        2.0             NaN   2.350692   \n",
              "3                   NaN                        0.0             NaN   2.350194   \n",
              "4                   9.0                        1.0             NaN   2.349877   \n",
              "5                  58.0                        3.0             NaN   2.350043   \n",
              "6                   NaN                        0.0             NaN   2.350043   \n",
              "7                  32.0                        2.0             NaN   2.350692   \n",
              "8                   NaN                        0.0             NaN   2.350692   \n",
              "9                  70.0                        2.0             NaN   2.350815   \n",
              "10                  NaN                        0.0             NaN   2.350815   \n",
              "11                  NaN                        0.0             NaN   2.350815   \n",
              "12                  NaN                        0.0             NaN   2.350815   \n",
              "13                 64.0                        3.0             NaN   2.350823   \n",
              "14                  NaN                        0.0             NaN   2.350823   \n",
              "15                  NaN                        0.0             NaN   2.350823   \n",
              "16                 55.0                        3.0             NaN   2.349900   \n",
              "17                  NaN                        0.0             NaN   2.349900   \n",
              "18                  NaN                        0.0             NaN   2.349900   \n",
              "19                 60.0                        2.0             NaN   2.350850   \n",
              "\n",
              "     latitude  valeur_fonciere date_mutation  \n",
              "0   48.882282         330000.0    2021-12-28  \n",
              "1   48.882282         330000.0    2021-12-28  \n",
              "2   48.883416         110000.0    2021-12-23  \n",
              "3   48.882282         165200.0    2021-12-14  \n",
              "4   48.882732          67000.0    2021-11-30  \n",
              "5   48.883399         660000.0    2021-10-27  \n",
              "6   48.883399         660000.0    2021-10-27  \n",
              "7   48.883416         283500.0    2021-10-21  \n",
              "8   48.883416         283500.0    2021-10-21  \n",
              "9   48.882650         709000.0    2021-10-18  \n",
              "10  48.882650         709000.0    2021-10-18  \n",
              "11  48.882650         709000.0    2021-10-18  \n",
              "12  48.882650         709000.0    2021-10-18  \n",
              "13  48.883014         574700.0    2021-10-15  \n",
              "14  48.883014         574700.0    2021-10-15  \n",
              "15  48.883014         574700.0    2021-10-15  \n",
              "16  48.882605         300000.0    2021-09-30  \n",
              "17  48.882605         300000.0    2021-09-30  \n",
              "18  48.882605         300000.0    2021-09-30  \n",
              "19  48.882880         613900.0    2021-09-06  "
            ],
            "text/html": [
              "\n",
              "  <div id=\"df-a693ae35-bda1-48dd-a4a6-ff0442c2796d\">\n",
              "    <div class=\"colab-df-container\">\n",
              "      <div>\n",
              "<style scoped>\n",
              "    .dataframe tbody tr th:only-of-type {\n",
              "        vertical-align: middle;\n",
              "    }\n",
              "\n",
              "    .dataframe tbody tr th {\n",
              "        vertical-align: top;\n",
              "    }\n",
              "\n",
              "    .dataframe thead th {\n",
              "        text-align: right;\n",
              "    }\n",
              "</style>\n",
              "<table border=\"1\" class=\"dataframe\">\n",
              "  <thead>\n",
              "    <tr style=\"text-align: right;\">\n",
              "      <th></th>\n",
              "      <th>lot1_surface_carrez</th>\n",
              "      <th>lot2_surface_carrez</th>\n",
              "      <th>lot3_surface_carrez</th>\n",
              "      <th>lot4_surface_carrez</th>\n",
              "      <th>lot5_surface_carrez</th>\n",
              "      <th>code_type_local</th>\n",
              "      <th>type_local</th>\n",
              "      <th>surface_reelle_bati</th>\n",
              "      <th>nombre_pieces_principales</th>\n",
              "      <th>surface_terrain</th>\n",
              "      <th>longitude</th>\n",
              "      <th>latitude</th>\n",
              "      <th>valeur_fonciere</th>\n",
              "      <th>date_mutation</th>\n",
              "    </tr>\n",
              "  </thead>\n",
              "  <tbody>\n",
              "    <tr>\n",
              "      <th>0</th>\n",
              "      <td>31.05</td>\n",
              "      <td>NaN</td>\n",
              "      <td>NaN</td>\n",
              "      <td>None</td>\n",
              "      <td>None</td>\n",
              "      <td>2</td>\n",
              "      <td>Appartement</td>\n",
              "      <td>22.0</td>\n",
              "      <td>1.0</td>\n",
              "      <td>NaN</td>\n",
              "      <td>2.350194</td>\n",
              "      <td>48.882282</td>\n",
              "      <td>330000.0</td>\n",
              "      <td>2021-12-28</td>\n",
              "    </tr>\n",
              "    <tr>\n",
              "      <th>1</th>\n",
              "      <td>31.05</td>\n",
              "      <td>NaN</td>\n",
              "      <td>NaN</td>\n",
              "      <td>None</td>\n",
              "      <td>None</td>\n",
              "      <td>3</td>\n",
              "      <td>Dépendance</td>\n",
              "      <td>NaN</td>\n",
              "      <td>0.0</td>\n",
              "      <td>NaN</td>\n",
              "      <td>2.350194</td>\n",
              "      <td>48.882282</td>\n",
              "      <td>330000.0</td>\n",
              "      <td>2021-12-28</td>\n",
              "    </tr>\n",
              "    <tr>\n",
              "      <th>2</th>\n",
              "      <td>35.97</td>\n",
              "      <td>NaN</td>\n",
              "      <td>NaN</td>\n",
              "      <td>None</td>\n",
              "      <td>None</td>\n",
              "      <td>2</td>\n",
              "      <td>Appartement</td>\n",
              "      <td>36.0</td>\n",
              "      <td>2.0</td>\n",
              "      <td>NaN</td>\n",
              "      <td>2.350692</td>\n",
              "      <td>48.883416</td>\n",
              "      <td>110000.0</td>\n",
              "      <td>2021-12-23</td>\n",
              "    </tr>\n",
              "    <tr>\n",
              "      <th>3</th>\n",
              "      <td>11.60</td>\n",
              "      <td>NaN</td>\n",
              "      <td>NaN</td>\n",
              "      <td>None</td>\n",
              "      <td>None</td>\n",
              "      <td>3</td>\n",
              "      <td>Dépendance</td>\n",
              "      <td>NaN</td>\n",
              "      <td>0.0</td>\n",
              "      <td>NaN</td>\n",
              "      <td>2.350194</td>\n",
              "      <td>48.882282</td>\n",
              "      <td>165200.0</td>\n",
              "      <td>2021-12-14</td>\n",
              "    </tr>\n",
              "    <tr>\n",
              "      <th>4</th>\n",
              "      <td>NaN</td>\n",
              "      <td>NaN</td>\n",
              "      <td>NaN</td>\n",
              "      <td>None</td>\n",
              "      <td>None</td>\n",
              "      <td>2</td>\n",
              "      <td>Appartement</td>\n",
              "      <td>9.0</td>\n",
              "      <td>1.0</td>\n",
              "      <td>NaN</td>\n",
              "      <td>2.349877</td>\n",
              "      <td>48.882732</td>\n",
              "      <td>67000.0</td>\n",
              "      <td>2021-11-30</td>\n",
              "    </tr>\n",
              "    <tr>\n",
              "      <th>5</th>\n",
              "      <td>92.71</td>\n",
              "      <td>NaN</td>\n",
              "      <td>NaN</td>\n",
              "      <td>None</td>\n",
              "      <td>None</td>\n",
              "      <td>2</td>\n",
              "      <td>Appartement</td>\n",
              "      <td>58.0</td>\n",
              "      <td>3.0</td>\n",
              "      <td>NaN</td>\n",
              "      <td>2.350043</td>\n",
              "      <td>48.883399</td>\n",
              "      <td>660000.0</td>\n",
              "      <td>2021-10-27</td>\n",
              "    </tr>\n",
              "    <tr>\n",
              "      <th>6</th>\n",
              "      <td>92.71</td>\n",
              "      <td>NaN</td>\n",
              "      <td>NaN</td>\n",
              "      <td>None</td>\n",
              "      <td>None</td>\n",
              "      <td>3</td>\n",
              "      <td>Dépendance</td>\n",
              "      <td>NaN</td>\n",
              "      <td>0.0</td>\n",
              "      <td>NaN</td>\n",
              "      <td>2.350043</td>\n",
              "      <td>48.883399</td>\n",
              "      <td>660000.0</td>\n",
              "      <td>2021-10-27</td>\n",
              "    </tr>\n",
              "    <tr>\n",
              "      <th>7</th>\n",
              "      <td>32.85</td>\n",
              "      <td>NaN</td>\n",
              "      <td>NaN</td>\n",
              "      <td>None</td>\n",
              "      <td>None</td>\n",
              "      <td>2</td>\n",
              "      <td>Appartement</td>\n",
              "      <td>32.0</td>\n",
              "      <td>2.0</td>\n",
              "      <td>NaN</td>\n",
              "      <td>2.350692</td>\n",
              "      <td>48.883416</td>\n",
              "      <td>283500.0</td>\n",
              "      <td>2021-10-21</td>\n",
              "    </tr>\n",
              "    <tr>\n",
              "      <th>8</th>\n",
              "      <td>32.85</td>\n",
              "      <td>NaN</td>\n",
              "      <td>NaN</td>\n",
              "      <td>None</td>\n",
              "      <td>None</td>\n",
              "      <td>3</td>\n",
              "      <td>Dépendance</td>\n",
              "      <td>NaN</td>\n",
              "      <td>0.0</td>\n",
              "      <td>NaN</td>\n",
              "      <td>2.350692</td>\n",
              "      <td>48.883416</td>\n",
              "      <td>283500.0</td>\n",
              "      <td>2021-10-21</td>\n",
              "    </tr>\n",
              "    <tr>\n",
              "      <th>9</th>\n",
              "      <td>NaN</td>\n",
              "      <td>NaN</td>\n",
              "      <td>NaN</td>\n",
              "      <td>None</td>\n",
              "      <td>None</td>\n",
              "      <td>2</td>\n",
              "      <td>Appartement</td>\n",
              "      <td>70.0</td>\n",
              "      <td>2.0</td>\n",
              "      <td>NaN</td>\n",
              "      <td>2.350815</td>\n",
              "      <td>48.882650</td>\n",
              "      <td>709000.0</td>\n",
              "      <td>2021-10-18</td>\n",
              "    </tr>\n",
              "    <tr>\n",
              "      <th>10</th>\n",
              "      <td>NaN</td>\n",
              "      <td>NaN</td>\n",
              "      <td>NaN</td>\n",
              "      <td>None</td>\n",
              "      <td>None</td>\n",
              "      <td>3</td>\n",
              "      <td>Dépendance</td>\n",
              "      <td>NaN</td>\n",
              "      <td>0.0</td>\n",
              "      <td>NaN</td>\n",
              "      <td>2.350815</td>\n",
              "      <td>48.882650</td>\n",
              "      <td>709000.0</td>\n",
              "      <td>2021-10-18</td>\n",
              "    </tr>\n",
              "    <tr>\n",
              "      <th>11</th>\n",
              "      <td>NaN</td>\n",
              "      <td>NaN</td>\n",
              "      <td>NaN</td>\n",
              "      <td>None</td>\n",
              "      <td>None</td>\n",
              "      <td>3</td>\n",
              "      <td>Dépendance</td>\n",
              "      <td>NaN</td>\n",
              "      <td>0.0</td>\n",
              "      <td>NaN</td>\n",
              "      <td>2.350815</td>\n",
              "      <td>48.882650</td>\n",
              "      <td>709000.0</td>\n",
              "      <td>2021-10-18</td>\n",
              "    </tr>\n",
              "    <tr>\n",
              "      <th>12</th>\n",
              "      <td>NaN</td>\n",
              "      <td>NaN</td>\n",
              "      <td>NaN</td>\n",
              "      <td>None</td>\n",
              "      <td>None</td>\n",
              "      <td>3</td>\n",
              "      <td>Dépendance</td>\n",
              "      <td>NaN</td>\n",
              "      <td>0.0</td>\n",
              "      <td>NaN</td>\n",
              "      <td>2.350815</td>\n",
              "      <td>48.882650</td>\n",
              "      <td>709000.0</td>\n",
              "      <td>2021-10-18</td>\n",
              "    </tr>\n",
              "    <tr>\n",
              "      <th>13</th>\n",
              "      <td>60.90</td>\n",
              "      <td>NaN</td>\n",
              "      <td>NaN</td>\n",
              "      <td>None</td>\n",
              "      <td>None</td>\n",
              "      <td>2</td>\n",
              "      <td>Appartement</td>\n",
              "      <td>64.0</td>\n",
              "      <td>3.0</td>\n",
              "      <td>NaN</td>\n",
              "      <td>2.350823</td>\n",
              "      <td>48.883014</td>\n",
              "      <td>574700.0</td>\n",
              "      <td>2021-10-15</td>\n",
              "    </tr>\n",
              "    <tr>\n",
              "      <th>14</th>\n",
              "      <td>60.90</td>\n",
              "      <td>NaN</td>\n",
              "      <td>NaN</td>\n",
              "      <td>None</td>\n",
              "      <td>None</td>\n",
              "      <td>3</td>\n",
              "      <td>Dépendance</td>\n",
              "      <td>NaN</td>\n",
              "      <td>0.0</td>\n",
              "      <td>NaN</td>\n",
              "      <td>2.350823</td>\n",
              "      <td>48.883014</td>\n",
              "      <td>574700.0</td>\n",
              "      <td>2021-10-15</td>\n",
              "    </tr>\n",
              "    <tr>\n",
              "      <th>15</th>\n",
              "      <td>60.90</td>\n",
              "      <td>NaN</td>\n",
              "      <td>NaN</td>\n",
              "      <td>None</td>\n",
              "      <td>None</td>\n",
              "      <td>3</td>\n",
              "      <td>Dépendance</td>\n",
              "      <td>NaN</td>\n",
              "      <td>0.0</td>\n",
              "      <td>NaN</td>\n",
              "      <td>2.350823</td>\n",
              "      <td>48.883014</td>\n",
              "      <td>574700.0</td>\n",
              "      <td>2021-10-15</td>\n",
              "    </tr>\n",
              "    <tr>\n",
              "      <th>16</th>\n",
              "      <td>NaN</td>\n",
              "      <td>57.18</td>\n",
              "      <td>NaN</td>\n",
              "      <td>None</td>\n",
              "      <td>None</td>\n",
              "      <td>2</td>\n",
              "      <td>Appartement</td>\n",
              "      <td>55.0</td>\n",
              "      <td>3.0</td>\n",
              "      <td>NaN</td>\n",
              "      <td>2.349900</td>\n",
              "      <td>48.882605</td>\n",
              "      <td>300000.0</td>\n",
              "      <td>2021-09-30</td>\n",
              "    </tr>\n",
              "    <tr>\n",
              "      <th>17</th>\n",
              "      <td>NaN</td>\n",
              "      <td>57.18</td>\n",
              "      <td>NaN</td>\n",
              "      <td>None</td>\n",
              "      <td>None</td>\n",
              "      <td>3</td>\n",
              "      <td>Dépendance</td>\n",
              "      <td>NaN</td>\n",
              "      <td>0.0</td>\n",
              "      <td>NaN</td>\n",
              "      <td>2.349900</td>\n",
              "      <td>48.882605</td>\n",
              "      <td>300000.0</td>\n",
              "      <td>2021-09-30</td>\n",
              "    </tr>\n",
              "    <tr>\n",
              "      <th>18</th>\n",
              "      <td>NaN</td>\n",
              "      <td>57.18</td>\n",
              "      <td>NaN</td>\n",
              "      <td>None</td>\n",
              "      <td>None</td>\n",
              "      <td>3</td>\n",
              "      <td>Dépendance</td>\n",
              "      <td>NaN</td>\n",
              "      <td>0.0</td>\n",
              "      <td>NaN</td>\n",
              "      <td>2.349900</td>\n",
              "      <td>48.882605</td>\n",
              "      <td>300000.0</td>\n",
              "      <td>2021-09-30</td>\n",
              "    </tr>\n",
              "    <tr>\n",
              "      <th>19</th>\n",
              "      <td>58.89</td>\n",
              "      <td>NaN</td>\n",
              "      <td>NaN</td>\n",
              "      <td>None</td>\n",
              "      <td>None</td>\n",
              "      <td>2</td>\n",
              "      <td>Appartement</td>\n",
              "      <td>60.0</td>\n",
              "      <td>2.0</td>\n",
              "      <td>NaN</td>\n",
              "      <td>2.350850</td>\n",
              "      <td>48.882880</td>\n",
              "      <td>613900.0</td>\n",
              "      <td>2021-09-06</td>\n",
              "    </tr>\n",
              "  </tbody>\n",
              "</table>\n",
              "</div>\n",
              "      <button class=\"colab-df-convert\" onclick=\"convertToInteractive('df-a693ae35-bda1-48dd-a4a6-ff0442c2796d')\"\n",
              "              title=\"Convert this dataframe to an interactive table.\"\n",
              "              style=\"display:none;\">\n",
              "        \n",
              "  <svg xmlns=\"http://www.w3.org/2000/svg\" height=\"24px\"viewBox=\"0 0 24 24\"\n",
              "       width=\"24px\">\n",
              "    <path d=\"M0 0h24v24H0V0z\" fill=\"none\"/>\n",
              "    <path d=\"M18.56 5.44l.94 2.06.94-2.06 2.06-.94-2.06-.94-.94-2.06-.94 2.06-2.06.94zm-11 1L8.5 8.5l.94-2.06 2.06-.94-2.06-.94L8.5 2.5l-.94 2.06-2.06.94zm10 10l.94 2.06.94-2.06 2.06-.94-2.06-.94-.94-2.06-.94 2.06-2.06.94z\"/><path d=\"M17.41 7.96l-1.37-1.37c-.4-.4-.92-.59-1.43-.59-.52 0-1.04.2-1.43.59L10.3 9.45l-7.72 7.72c-.78.78-.78 2.05 0 2.83L4 21.41c.39.39.9.59 1.41.59.51 0 1.02-.2 1.41-.59l7.78-7.78 2.81-2.81c.8-.78.8-2.07 0-2.86zM5.41 20L4 18.59l7.72-7.72 1.47 1.35L5.41 20z\"/>\n",
              "  </svg>\n",
              "      </button>\n",
              "      \n",
              "  <style>\n",
              "    .colab-df-container {\n",
              "      display:flex;\n",
              "      flex-wrap:wrap;\n",
              "      gap: 12px;\n",
              "    }\n",
              "\n",
              "    .colab-df-convert {\n",
              "      background-color: #E8F0FE;\n",
              "      border: none;\n",
              "      border-radius: 50%;\n",
              "      cursor: pointer;\n",
              "      display: none;\n",
              "      fill: #1967D2;\n",
              "      height: 32px;\n",
              "      padding: 0 0 0 0;\n",
              "      width: 32px;\n",
              "    }\n",
              "\n",
              "    .colab-df-convert:hover {\n",
              "      background-color: #E2EBFA;\n",
              "      box-shadow: 0px 1px 2px rgba(60, 64, 67, 0.3), 0px 1px 3px 1px rgba(60, 64, 67, 0.15);\n",
              "      fill: #174EA6;\n",
              "    }\n",
              "\n",
              "    [theme=dark] .colab-df-convert {\n",
              "      background-color: #3B4455;\n",
              "      fill: #D2E3FC;\n",
              "    }\n",
              "\n",
              "    [theme=dark] .colab-df-convert:hover {\n",
              "      background-color: #434B5C;\n",
              "      box-shadow: 0px 1px 3px 1px rgba(0, 0, 0, 0.15);\n",
              "      filter: drop-shadow(0px 1px 2px rgba(0, 0, 0, 0.3));\n",
              "      fill: #FFFFFF;\n",
              "    }\n",
              "  </style>\n",
              "\n",
              "      <script>\n",
              "        const buttonEl =\n",
              "          document.querySelector('#df-a693ae35-bda1-48dd-a4a6-ff0442c2796d button.colab-df-convert');\n",
              "        buttonEl.style.display =\n",
              "          google.colab.kernel.accessAllowed ? 'block' : 'none';\n",
              "\n",
              "        async function convertToInteractive(key) {\n",
              "          const element = document.querySelector('#df-a693ae35-bda1-48dd-a4a6-ff0442c2796d');\n",
              "          const dataTable =\n",
              "            await google.colab.kernel.invokeFunction('convertToInteractive',\n",
              "                                                     [key], {});\n",
              "          if (!dataTable) return;\n",
              "\n",
              "          const docLinkHtml = 'Like what you see? Visit the ' +\n",
              "            '<a target=\"_blank\" href=https://colab.research.google.com/notebooks/data_table.ipynb>data table notebook</a>'\n",
              "            + ' to learn more about interactive tables.';\n",
              "          element.innerHTML = '';\n",
              "          dataTable['output_type'] = 'display_data';\n",
              "          await google.colab.output.renderOutput(dataTable, element);\n",
              "          const docLink = document.createElement('div');\n",
              "          docLink.innerHTML = docLinkHtml;\n",
              "          element.appendChild(docLink);\n",
              "        }\n",
              "      </script>\n",
              "    </div>\n",
              "  </div>\n",
              "  "
            ]
          },
          "metadata": {},
          "execution_count": 13
        }
      ]
    },
    {
      "cell_type": "code",
      "source": [
        "data.lot1_surface_carrez=data.lot1_surface_carrez.replace(to_replace=['None',np.nan],value=0)\n",
        "data.lot2_surface_carrez=data.lot2_surface_carrez.replace(to_replace=['None',np.nan],value=0)\n",
        "data.lot3_surface_carrez=data.lot3_surface_carrez.replace(to_replace=['None',np.nan],value=0)\n",
        "data.lot4_surface_carrez=data.lot4_surface_carrez.replace(to_replace=['None',np.nan],value=0)\n",
        "data.lot5_surface_carrez=data.lot5_surface_carrez.replace(to_replace=['None',np.nan],value=0)"
      ],
      "metadata": {
        "id": "L9HYr_V-ynGW"
      },
      "execution_count": null,
      "outputs": []
    },
    {
      "cell_type": "code",
      "source": [
        "data.info()"
      ],
      "metadata": {
        "colab": {
          "base_uri": "https://localhost:8080/"
        },
        "id": "D-WOmBkIayvA",
        "outputId": "da47ad9e-0b34-4f7e-a8a5-2eaf597c9235"
      },
      "execution_count": null,
      "outputs": [
        {
          "output_type": "stream",
          "name": "stdout",
          "text": [
            "<class 'pandas.core.frame.DataFrame'>\n",
            "RangeIndex: 16601 entries, 0 to 16600\n",
            "Data columns (total 14 columns):\n",
            " #   Column                     Non-Null Count  Dtype  \n",
            "---  ------                     --------------  -----  \n",
            " 0   lot1_surface_carrez        16601 non-null  float64\n",
            " 1   lot2_surface_carrez        16601 non-null  object \n",
            " 2   lot3_surface_carrez        16601 non-null  object \n",
            " 3   lot4_surface_carrez        16601 non-null  object \n",
            " 4   lot5_surface_carrez        16601 non-null  object \n",
            " 5   code_type_local            16601 non-null  object \n",
            " 6   type_local                 16601 non-null  object \n",
            " 7   surface_reelle_bati        12855 non-null  float64\n",
            " 8   nombre_pieces_principales  16526 non-null  float64\n",
            " 9   surface_terrain            4505 non-null   object \n",
            " 10  longitude                  16581 non-null  float64\n",
            " 11  latitude                   16581 non-null  float64\n",
            " 12  valeur_fonciere            16599 non-null  float64\n",
            " 13  date_mutation              16601 non-null  object \n",
            "dtypes: float64(6), object(8)\n",
            "memory usage: 1.8+ MB\n"
          ]
        }
      ]
    },
    {
      "cell_type": "code",
      "source": [
        "data['lot2_surface_carrez']=data['lot2_surface_carrez'].astype(float)\n",
        "data['lot3_surface_carrez']=data['lot3_surface_carrez'].astype(float)\n",
        "data['lot4_surface_carrez']=data['lot4_surface_carrez'].astype(float)\n",
        "data['lot5_surface_carrez']=data['lot5_surface_carrez'].astype(float)"
      ],
      "metadata": {
        "id": "olRNczDL26a1"
      },
      "execution_count": null,
      "outputs": []
    },
    {
      "cell_type": "code",
      "source": [
        "data.info()"
      ],
      "metadata": {
        "colab": {
          "base_uri": "https://localhost:8080/"
        },
        "id": "azsgd11d2mxZ",
        "outputId": "facdab55-033e-4dca-90f9-69255d352400"
      },
      "execution_count": null,
      "outputs": [
        {
          "output_type": "stream",
          "name": "stdout",
          "text": [
            "<class 'pandas.core.frame.DataFrame'>\n",
            "RangeIndex: 16601 entries, 0 to 16600\n",
            "Data columns (total 14 columns):\n",
            " #   Column                     Non-Null Count  Dtype  \n",
            "---  ------                     --------------  -----  \n",
            " 0   lot1_surface_carrez        16601 non-null  float64\n",
            " 1   lot2_surface_carrez        16601 non-null  float64\n",
            " 2   lot3_surface_carrez        16601 non-null  float64\n",
            " 3   lot4_surface_carrez        16601 non-null  float64\n",
            " 4   lot5_surface_carrez        16601 non-null  float64\n",
            " 5   code_type_local            16601 non-null  object \n",
            " 6   type_local                 16601 non-null  object \n",
            " 7   surface_reelle_bati        12855 non-null  float64\n",
            " 8   nombre_pieces_principales  16526 non-null  float64\n",
            " 9   surface_terrain            4505 non-null   object \n",
            " 10  longitude                  16581 non-null  float64\n",
            " 11  latitude                   16581 non-null  float64\n",
            " 12  valeur_fonciere            16599 non-null  float64\n",
            " 13  date_mutation              16601 non-null  object \n",
            "dtypes: float64(10), object(4)\n",
            "memory usage: 1.8+ MB\n"
          ]
        }
      ]
    },
    {
      "cell_type": "code",
      "source": [
        "data.loc[:,'total_lots_surface_carrez']=data[['lot1_surface_carrez','lot2_surface_carrez','lot3_surface_carrez','lot4_surface_carrez',\n",
        "                                              'lot5_surface_carrez']].sum(axis=1)\n"
      ],
      "metadata": {
        "id": "Mf8XeCXT3nyB"
      },
      "execution_count": null,
      "outputs": []
    },
    {
      "cell_type": "code",
      "source": [
        "data.total_lots_surface_carrez.describe()"
      ],
      "metadata": {
        "colab": {
          "base_uri": "https://localhost:8080/"
        },
        "id": "aJc1MqLfcdP9",
        "outputId": "b5ca1cee-5c0e-4fc9-9719-8df907c60bc8"
      },
      "execution_count": null,
      "outputs": [
        {
          "output_type": "execute_result",
          "data": {
            "text/plain": [
              "count    16601.000000\n",
              "mean        27.556095\n",
              "std         65.494882\n",
              "min          0.000000\n",
              "25%          0.000000\n",
              "50%          8.570000\n",
              "75%         42.530000\n",
              "max       4100.000000\n",
              "Name: total_lots_surface_carrez, dtype: float64"
            ]
          },
          "metadata": {},
          "execution_count": 19
        }
      ]
    },
    {
      "cell_type": "code",
      "source": [
        "data.isnull().sum()\n",
        "###### suggestion: to sum the 5 lot columns because we are interested in the total surface, done\n",
        "###### find some method to fill the NaN values in nombre_pieces_principales\n",
        "###### compare sum of lots_surface with surface_reelle_bati\n",
        "###### see price/m^2"
      ],
      "metadata": {
        "colab": {
          "base_uri": "https://localhost:8080/"
        },
        "id": "rcxTd3lnWNVM",
        "outputId": "99cdf45b-7023-4ada-a667-8daa433905da"
      },
      "execution_count": null,
      "outputs": [
        {
          "output_type": "execute_result",
          "data": {
            "text/plain": [
              "lot1_surface_carrez              0\n",
              "lot2_surface_carrez              0\n",
              "lot3_surface_carrez              0\n",
              "lot4_surface_carrez              0\n",
              "lot5_surface_carrez              0\n",
              "code_type_local                  0\n",
              "type_local                       0\n",
              "surface_reelle_bati           3746\n",
              "nombre_pieces_principales       75\n",
              "surface_terrain              12096\n",
              "longitude                       20\n",
              "latitude                        20\n",
              "valeur_fonciere                  2\n",
              "date_mutation                    0\n",
              "total_lots_surface_carrez        0\n",
              "dtype: int64"
            ]
          },
          "metadata": {},
          "execution_count": 20
        }
      ]
    },
    {
      "cell_type": "markdown",
      "source": [
        "we extract the relevant columns with relatively low number of missing values"
      ],
      "metadata": {
        "id": "o9qYvjPJzVHu"
      }
    },
    {
      "cell_type": "code",
      "source": [
        "extracted_columns=data[['code_type_local','type_local','surface_reelle_bati','nombre_pieces_principales','longitude','latitude',\n",
        "                        'total_lots_surface_carrez','valeur_fonciere','date_mutation']]"
      ],
      "metadata": {
        "id": "x-nrMyifXntb"
      },
      "execution_count": null,
      "outputs": []
    },
    {
      "cell_type": "markdown",
      "source": [
        "we delete the rows with NaN values"
      ],
      "metadata": {
        "id": "NfzA2p21aZkA"
      }
    },
    {
      "cell_type": "code",
      "source": [
        "########################################################\"\"\n",
        "extracted_columns.isnull().sum()"
      ],
      "metadata": {
        "colab": {
          "base_uri": "https://localhost:8080/"
        },
        "id": "qZrU8kzsV9sU",
        "outputId": "59fdf966-eca1-4a3f-9449-3e13c36f61c7"
      },
      "execution_count": null,
      "outputs": [
        {
          "output_type": "execute_result",
          "data": {
            "text/plain": [
              "code_type_local                 0\n",
              "type_local                      0\n",
              "surface_reelle_bati          3746\n",
              "nombre_pieces_principales      75\n",
              "longitude                      20\n",
              "latitude                       20\n",
              "total_lots_surface_carrez       0\n",
              "valeur_fonciere                 2\n",
              "date_mutation                   0\n",
              "dtype: int64"
            ]
          },
          "metadata": {},
          "execution_count": 22
        }
      ]
    },
    {
      "cell_type": "code",
      "source": [
        "final_data=extracted_columns.dropna()"
      ],
      "metadata": {
        "id": "SNyUsGqYaIBJ"
      },
      "execution_count": null,
      "outputs": []
    },
    {
      "cell_type": "code",
      "source": [
        "#########################################################\n",
        "final_data.info()"
      ],
      "metadata": {
        "colab": {
          "base_uri": "https://localhost:8080/"
        },
        "id": "y363V0xRaRip",
        "outputId": "4b9efa5f-f7df-4e97-d91d-3f0f198328da"
      },
      "execution_count": null,
      "outputs": [
        {
          "output_type": "stream",
          "name": "stdout",
          "text": [
            "<class 'pandas.core.frame.DataFrame'>\n",
            "Int64Index: 12836 entries, 0 to 16600\n",
            "Data columns (total 9 columns):\n",
            " #   Column                     Non-Null Count  Dtype  \n",
            "---  ------                     --------------  -----  \n",
            " 0   code_type_local            12836 non-null  object \n",
            " 1   type_local                 12836 non-null  object \n",
            " 2   surface_reelle_bati        12836 non-null  float64\n",
            " 3   nombre_pieces_principales  12836 non-null  float64\n",
            " 4   longitude                  12836 non-null  float64\n",
            " 5   latitude                   12836 non-null  float64\n",
            " 6   total_lots_surface_carrez  12836 non-null  float64\n",
            " 7   valeur_fonciere            12836 non-null  float64\n",
            " 8   date_mutation              12836 non-null  object \n",
            "dtypes: float64(6), object(3)\n",
            "memory usage: 1002.8+ KB\n"
          ]
        }
      ]
    },
    {
      "cell_type": "code",
      "source": [
        "final_data.isnull().sum()"
      ],
      "metadata": {
        "colab": {
          "base_uri": "https://localhost:8080/"
        },
        "id": "rWebm84AasGM",
        "outputId": "ff1868d6-8dc2-4915-b7aa-89e422ac0d61"
      },
      "execution_count": null,
      "outputs": [
        {
          "output_type": "execute_result",
          "data": {
            "text/plain": [
              "code_type_local              0\n",
              "type_local                   0\n",
              "surface_reelle_bati          0\n",
              "nombre_pieces_principales    0\n",
              "longitude                    0\n",
              "latitude                     0\n",
              "total_lots_surface_carrez    0\n",
              "valeur_fonciere              0\n",
              "date_mutation                0\n",
              "dtype: int64"
            ]
          },
          "metadata": {},
          "execution_count": 25
        }
      ]
    },
    {
      "cell_type": "markdown",
      "source": [
        "compare surface_reelle_bati with sum_lots"
      ],
      "metadata": {
        "id": "D2tpf_JQQldh"
      }
    },
    {
      "cell_type": "code",
      "source": [
        "final_data.surface_reelle_bati.describe()"
      ],
      "metadata": {
        "colab": {
          "base_uri": "https://localhost:8080/"
        },
        "id": "5dmAPsIEdlaH",
        "outputId": "e63b956c-f376-4d88-d452-143266623a25"
      },
      "execution_count": null,
      "outputs": [
        {
          "output_type": "execute_result",
          "data": {
            "text/plain": [
              "count    12836.000000\n",
              "mean        60.334762\n",
              "std        178.847481\n",
              "min          2.000000\n",
              "25%         24.000000\n",
              "50%         40.000000\n",
              "75%         65.000000\n",
              "max       8965.000000\n",
              "Name: surface_reelle_bati, dtype: float64"
            ]
          },
          "metadata": {},
          "execution_count": 26
        }
      ]
    },
    {
      "cell_type": "code",
      "source": [
        "final_data.total_lots_surface_carrez.describe()"
      ],
      "metadata": {
        "colab": {
          "base_uri": "https://localhost:8080/"
        },
        "id": "cTvZ-M9zeJFV",
        "outputId": "011f0efe-80fc-4524-b0e1-e93b8543a344"
      },
      "execution_count": null,
      "outputs": [
        {
          "output_type": "execute_result",
          "data": {
            "text/plain": [
              "count    12836.000000\n",
              "mean        32.689723\n",
              "std         72.469736\n",
              "min          0.000000\n",
              "25%          0.000000\n",
              "50%         20.575000\n",
              "75%         48.745000\n",
              "max       4100.000000\n",
              "Name: total_lots_surface_carrez, dtype: float64"
            ]
          },
          "metadata": {},
          "execution_count": 27
        }
      ]
    },
    {
      "cell_type": "markdown",
      "source": [
        "remark the zeros in first 25%"
      ],
      "metadata": {
        "id": "9iZwowueQsjI"
      }
    },
    {
      "cell_type": "code",
      "source": [
        "quantiles25=final_data.loc[final_data.total_lots_surface_carrez==0]"
      ],
      "metadata": {
        "id": "ZfCBbYNafqBu"
      },
      "execution_count": null,
      "outputs": []
    },
    {
      "cell_type": "code",
      "source": [
        "quantiles25['type_local'].unique()"
      ],
      "metadata": {
        "colab": {
          "base_uri": "https://localhost:8080/"
        },
        "id": "JBjoRGoukMa3",
        "outputId": "a9eb61a5-ff87-4b3b-8334-23e33083123f"
      },
      "execution_count": null,
      "outputs": [
        {
          "output_type": "execute_result",
          "data": {
            "text/plain": [
              "array(['Appartement', 'Local industriel. commercial ou assimilé'],\n",
              "      dtype=object)"
            ]
          },
          "metadata": {},
          "execution_count": 29
        }
      ]
    },
    {
      "cell_type": "code",
      "source": [
        "quantiles25['surface_reelle_bati'].describe()"
      ],
      "metadata": {
        "colab": {
          "base_uri": "https://localhost:8080/"
        },
        "id": "SDeoF2v7lLgx",
        "outputId": "c49df10b-d265-4aee-d8e2-1195f1ce243a"
      },
      "execution_count": null,
      "outputs": [
        {
          "output_type": "execute_result",
          "data": {
            "text/plain": [
              "count    5126.000000\n",
              "mean       72.555209\n",
              "std       268.871094\n",
              "min         2.000000\n",
              "25%        21.000000\n",
              "50%        38.000000\n",
              "75%        65.000000\n",
              "max      8965.000000\n",
              "Name: surface_reelle_bati, dtype: float64"
            ]
          },
          "metadata": {},
          "execution_count": 30
        }
      ]
    },
    {
      "cell_type": "markdown",
      "source": [
        "we see that the first 25% percentiles of total_lots_surface_carrez are zeros which is absurd."
      ],
      "metadata": {
        "id": "a4I39UcDfWUF"
      }
    },
    {
      "cell_type": "markdown",
      "source": [
        "compare when total_surface_lots>0"
      ],
      "metadata": {
        "id": "4gyqNTBRQ0La"
      }
    },
    {
      "cell_type": "code",
      "source": [
        "final_data.loc[final_data.total_lots_surface_carrez>0].total_lots_surface_carrez.describe()"
      ],
      "metadata": {
        "colab": {
          "base_uri": "https://localhost:8080/"
        },
        "id": "kqJzH2mYeYVT",
        "outputId": "aef48f04-b716-46de-9380-543b114f4944"
      },
      "execution_count": null,
      "outputs": [
        {
          "output_type": "execute_result",
          "data": {
            "text/plain": [
              "count    7710.000000\n",
              "mean       54.423514\n",
              "std        86.954231\n",
              "min         0.200000\n",
              "25%        26.220000\n",
              "50%        41.800000\n",
              "75%        67.190000\n",
              "max      4100.000000\n",
              "Name: total_lots_surface_carrez, dtype: float64"
            ]
          },
          "metadata": {},
          "execution_count": 31
        }
      ]
    },
    {
      "cell_type": "code",
      "source": [
        "final_data.loc[final_data.total_lots_surface_carrez>0].surface_reelle_bati.describe()"
      ],
      "metadata": {
        "colab": {
          "base_uri": "https://localhost:8080/"
        },
        "id": "zkqc4_-rgcLI",
        "outputId": "7cd08e38-11c5-4294-fb59-bb8d333a083f"
      },
      "execution_count": null,
      "outputs": [
        {
          "output_type": "execute_result",
          "data": {
            "text/plain": [
              "count    7710.000000\n",
              "mean       52.209987\n",
              "std        70.922675\n",
              "min         2.000000\n",
              "25%        25.000000\n",
              "50%        41.000000\n",
              "75%        65.000000\n",
              "max      4000.000000\n",
              "Name: surface_reelle_bati, dtype: float64"
            ]
          },
          "metadata": {},
          "execution_count": 32
        }
      ]
    },
    {
      "cell_type": "code",
      "source": [
        "plt.hist(final_data.loc[final_data.total_lots_surface_carrez>0].surface_reelle_bati, bins=500,label='surface_reelle_bati')\n",
        "plt.hist(final_data.loc[final_data.total_lots_surface_carrez>0].total_lots_surface_carrez, bins=500,label='total_lots_surface_carrez')\n",
        "plt.legend(loc='upper right')\n",
        "plt.show()"
      ],
      "metadata": {
        "colab": {
          "base_uri": "https://localhost:8080/",
          "height": 265
        },
        "id": "4tqdLqERgw-Y",
        "outputId": "e8062635-7cf6-46b2-8e45-01c011cf9b2b"
      },
      "execution_count": null,
      "outputs": [
        {
          "output_type": "display_data",
          "data": {
            "text/plain": [
              "<Figure size 432x288 with 1 Axes>"
            ],
            "image/png": "[encoded data removed]"
          },
          "metadata": {
            "needs_background": "light"
          }
        }
      ]
    },
    {
      "cell_type": "code",
      "source": [
        "#compute Pearson correlation between both variables\n",
        "np.corrcoef(final_data.loc[final_data.total_lots_surface_carrez>0].surface_reelle_bati,\n",
        "            final_data.loc[final_data.total_lots_surface_carrez>0].total_lots_surface_carrez)"
      ],
      "metadata": {
        "colab": {
          "base_uri": "https://localhost:8080/"
        },
        "id": "dlQXPeYUhtgr",
        "outputId": "37e7c631-f53d-4289-ca81-28da585f75ca"
      },
      "execution_count": null,
      "outputs": [
        {
          "output_type": "execute_result",
          "data": {
            "text/plain": [
              "array([[1.       , 0.6598064],\n",
              "       [0.6598064, 1.       ]])"
            ]
          },
          "metadata": {},
          "execution_count": 34
        }
      ]
    },
    {
      "cell_type": "markdown",
      "source": [
        "--> surface_reelle_bati and total_lots_surface_carrez almost have similar distributions and they are highly correlated. Thus we have to keep only one of them as a feature."
      ],
      "metadata": {
        "id": "isXnyOcShngE"
      }
    },
    {
      "cell_type": "markdown",
      "source": [
        "if we consider all buildings even those with total_lots_surface_carrez=0 then there is significant difference between both distributions (see statistics below)"
      ],
      "metadata": {
        "id": "U9kTrUHYmQQU"
      }
    },
    {
      "cell_type": "code",
      "source": [
        "final_data.total_lots_surface_carrez.describe()"
      ],
      "metadata": {
        "colab": {
          "base_uri": "https://localhost:8080/"
        },
        "id": "dekMcXeok4B7",
        "outputId": "e4d62dd4-2ede-44c1-8487-b00460d1a0f0"
      },
      "execution_count": null,
      "outputs": [
        {
          "output_type": "execute_result",
          "data": {
            "text/plain": [
              "count    12836.000000\n",
              "mean        32.689723\n",
              "std         72.469736\n",
              "min          0.000000\n",
              "25%          0.000000\n",
              "50%         20.575000\n",
              "75%         48.745000\n",
              "max       4100.000000\n",
              "Name: total_lots_surface_carrez, dtype: float64"
            ]
          },
          "metadata": {},
          "execution_count": 35
        }
      ]
    },
    {
      "cell_type": "code",
      "source": [
        "final_data.surface_reelle_bati.describe()"
      ],
      "metadata": {
        "colab": {
          "base_uri": "https://localhost:8080/"
        },
        "id": "-UkOu2r9lFt0",
        "outputId": "e1b2f675-1016-49b0-95a9-aa9439f442bb"
      },
      "execution_count": null,
      "outputs": [
        {
          "output_type": "execute_result",
          "data": {
            "text/plain": [
              "count    12836.000000\n",
              "mean        60.334762\n",
              "std        178.847481\n",
              "min          2.000000\n",
              "25%         24.000000\n",
              "50%         40.000000\n",
              "75%         65.000000\n",
              "max       8965.000000\n",
              "Name: surface_reelle_bati, dtype: float64"
            ]
          },
          "metadata": {},
          "execution_count": 36
        }
      ]
    },
    {
      "cell_type": "markdown",
      "source": [
        "we drop total_lots_surface_carrez and we keep surface_reelle_bati"
      ],
      "metadata": {
        "id": "99u8QVidjZ68"
      }
    },
    {
      "cell_type": "code",
      "source": [
        "final_data=final_data.loc[final_data.total_lots_surface_carrez>0]\n",
        "final_data=final_data.drop(['total_lots_surface_carrez'],axis=1)"
      ],
      "metadata": {
        "id": "DS_0IJBHi_QD"
      },
      "execution_count": null,
      "outputs": []
    },
    {
      "cell_type": "code",
      "source": [
        "final_data.info()"
      ],
      "metadata": {
        "colab": {
          "base_uri": "https://localhost:8080/"
        },
        "id": "g5TmpDaXkBLF",
        "outputId": "c7b86070-c3b8-42e5-858f-8b04e2052838"
      },
      "execution_count": null,
      "outputs": [
        {
          "output_type": "stream",
          "name": "stdout",
          "text": [
            "<class 'pandas.core.frame.DataFrame'>\n",
            "Int64Index: 7710 entries, 0 to 16600\n",
            "Data columns (total 8 columns):\n",
            " #   Column                     Non-Null Count  Dtype  \n",
            "---  ------                     --------------  -----  \n",
            " 0   code_type_local            7710 non-null   object \n",
            " 1   type_local                 7710 non-null   object \n",
            " 2   surface_reelle_bati        7710 non-null   float64\n",
            " 3   nombre_pieces_principales  7710 non-null   float64\n",
            " 4   longitude                  7710 non-null   float64\n",
            " 5   latitude                   7710 non-null   float64\n",
            " 6   valeur_fonciere            7710 non-null   float64\n",
            " 7   date_mutation              7710 non-null   object \n",
            "dtypes: float64(5), object(3)\n",
            "memory usage: 542.1+ KB\n"
          ]
        }
      ]
    },
    {
      "cell_type": "markdown",
      "source": [
        "# data preprocessing"
      ],
      "metadata": {
        "id": "kzCoHHp0a42u"
      }
    },
    {
      "cell_type": "markdown",
      "source": [
        "let's go feature by feature"
      ],
      "metadata": {
        "id": "gg17L4N2boXc"
      }
    },
    {
      "cell_type": "markdown",
      "source": [
        "we start by code_type_local (building type code)"
      ],
      "metadata": {
        "id": "An2BVpB_er0J"
      }
    },
    {
      "cell_type": "code",
      "source": [
        "final_data.code_type_local"
      ],
      "metadata": {
        "colab": {
          "base_uri": "https://localhost:8080/"
        },
        "id": "wn1l7ZjIa0NF",
        "outputId": "1b9035ca-74c3-4201-a75d-d1304a1cb484"
      },
      "execution_count": null,
      "outputs": [
        {
          "output_type": "execute_result",
          "data": {
            "text/plain": [
              "0        2\n",
              "2        2\n",
              "5        2\n",
              "7        2\n",
              "13       2\n",
              "        ..\n",
              "16593    2\n",
              "16595    2\n",
              "16596    2\n",
              "16599    2\n",
              "16600    2\n",
              "Name: code_type_local, Length: 7710, dtype: object"
            ]
          },
          "metadata": {},
          "execution_count": 39
        }
      ]
    },
    {
      "cell_type": "code",
      "source": [
        "#the number of unique values for this feature\n",
        "final_data.code_type_local.nunique()"
      ],
      "metadata": {
        "colab": {
          "base_uri": "https://localhost:8080/"
        },
        "id": "zBknEQH-bukF",
        "outputId": "22819d39-aecc-4c1f-e01b-d470509e8eaf"
      },
      "execution_count": null,
      "outputs": [
        {
          "output_type": "execute_result",
          "data": {
            "text/plain": [
              "5"
            ]
          },
          "metadata": {},
          "execution_count": 40
        }
      ]
    },
    {
      "cell_type": "code",
      "source": [
        "final_data.code_type_local.unique()"
      ],
      "metadata": {
        "colab": {
          "base_uri": "https://localhost:8080/"
        },
        "id": "UXPdVcYccXyK",
        "outputId": "a2d3da9c-3e09-4aa7-9409-d1856d191bbe"
      },
      "execution_count": null,
      "outputs": [
        {
          "output_type": "execute_result",
          "data": {
            "text/plain": [
              "array(['2', '4', '1', 2, 4], dtype=object)"
            ]
          },
          "metadata": {},
          "execution_count": 41
        }
      ]
    },
    {
      "cell_type": "markdown",
      "source": [
        "*   we see that for 'code_type_local' there are three unique values but python identifies five unique values because string!=integer.\n",
        "*   Thus we have to convert the string values to numerical values ('4'--> 4 & '2' --> 2) because our ML model can only recognize numbers\n",
        "\n",
        "\n"
      ],
      "metadata": {
        "id": "-UTfUZjwckYI"
      }
    },
    {
      "cell_type": "code",
      "source": [
        "final_data['code_type_local']=final_data['code_type_local'].astype(int)"
      ],
      "metadata": {
        "id": "mmBqcM-LdarZ"
      },
      "execution_count": null,
      "outputs": []
    },
    {
      "cell_type": "code",
      "source": [
        "final_data['code_type_local']"
      ],
      "metadata": {
        "colab": {
          "base_uri": "https://localhost:8080/"
        },
        "id": "8iOxuJfpeEkk",
        "outputId": "aeadf158-b193-43ac-e6d4-f38c6a0fa307"
      },
      "execution_count": null,
      "outputs": [
        {
          "output_type": "execute_result",
          "data": {
            "text/plain": [
              "0        2\n",
              "2        2\n",
              "5        2\n",
              "7        2\n",
              "13       2\n",
              "        ..\n",
              "16593    2\n",
              "16595    2\n",
              "16596    2\n",
              "16599    2\n",
              "16600    2\n",
              "Name: code_type_local, Length: 7710, dtype: int64"
            ]
          },
          "metadata": {},
          "execution_count": 43
        }
      ]
    },
    {
      "cell_type": "code",
      "source": [
        "final_data.code_type_local.unique()"
      ],
      "metadata": {
        "colab": {
          "base_uri": "https://localhost:8080/"
        },
        "id": "-vnNjSvUd_vk",
        "outputId": "33851d50-baa8-4830-c1ae-3776696196bb"
      },
      "execution_count": null,
      "outputs": [
        {
          "output_type": "execute_result",
          "data": {
            "text/plain": [
              "array([2, 4, 1])"
            ]
          },
          "metadata": {},
          "execution_count": 44
        }
      ]
    },
    {
      "cell_type": "markdown",
      "source": [
        "normally code_type_local is a traduction of type_local. Let's verify it !"
      ],
      "metadata": {
        "id": "9v3J25Q_e1Ck"
      }
    },
    {
      "cell_type": "code",
      "source": [
        "final_data.type_local"
      ],
      "metadata": {
        "colab": {
          "base_uri": "https://localhost:8080/"
        },
        "id": "i1cTMpszb0KI",
        "outputId": "a983d38a-0d96-43e0-fc9a-453a2397ee8e"
      },
      "execution_count": null,
      "outputs": [
        {
          "output_type": "execute_result",
          "data": {
            "text/plain": [
              "0        Appartement\n",
              "2        Appartement\n",
              "5        Appartement\n",
              "7        Appartement\n",
              "13       Appartement\n",
              "            ...     \n",
              "16593    Appartement\n",
              "16595    Appartement\n",
              "16596    Appartement\n",
              "16599    Appartement\n",
              "16600    Appartement\n",
              "Name: type_local, Length: 7710, dtype: object"
            ]
          },
          "metadata": {},
          "execution_count": 45
        }
      ]
    },
    {
      "cell_type": "code",
      "source": [
        "final_data.type_local.nunique()"
      ],
      "metadata": {
        "colab": {
          "base_uri": "https://localhost:8080/"
        },
        "id": "C0VTwMyBb8_g",
        "outputId": "88d62f4f-aeeb-4378-c5dc-5c5740ddf748"
      },
      "execution_count": null,
      "outputs": [
        {
          "output_type": "execute_result",
          "data": {
            "text/plain": [
              "3"
            ]
          },
          "metadata": {},
          "execution_count": 46
        }
      ]
    },
    {
      "cell_type": "markdown",
      "source": [
        "we see that final_data.type_local has three unique values as well"
      ],
      "metadata": {
        "id": "SIL9-Y_Rf3zY"
      }
    },
    {
      "cell_type": "code",
      "source": [
        "final_data.type_local.unique()"
      ],
      "metadata": {
        "colab": {
          "base_uri": "https://localhost:8080/"
        },
        "id": "A_LXGCHkcBiY",
        "outputId": "444679a5-2a2e-484d-9131-f7b91bd44127"
      },
      "execution_count": null,
      "outputs": [
        {
          "output_type": "execute_result",
          "data": {
            "text/plain": [
              "array(['Appartement', 'Local industriel. commercial ou assimilé',\n",
              "       'Maison'], dtype=object)"
            ]
          },
          "metadata": {},
          "execution_count": 47
        }
      ]
    },
    {
      "cell_type": "markdown",
      "source": [
        "let's verify the correspondance between type_local and code_type_local"
      ],
      "metadata": {
        "id": "_KFZ1AcPgNHd"
      }
    },
    {
      "cell_type": "code",
      "source": [
        "final_data[final_data.type_local=='Appartement'].code_type_local.unique()"
      ],
      "metadata": {
        "colab": {
          "base_uri": "https://localhost:8080/"
        },
        "id": "UTS5NVYdgJKJ",
        "outputId": "a5b96ec2-dcc7-463d-913b-7930ab549ac8"
      },
      "execution_count": null,
      "outputs": [
        {
          "output_type": "execute_result",
          "data": {
            "text/plain": [
              "array([2])"
            ]
          },
          "metadata": {},
          "execution_count": 48
        }
      ]
    },
    {
      "cell_type": "markdown",
      "source": [
        "so 'Appartement' <-> 2"
      ],
      "metadata": {
        "id": "j_hJeItyhhA7"
      }
    },
    {
      "cell_type": "code",
      "source": [
        "final_data[final_data.type_local=='Local industriel. commercial ou assimilé'].code_type_local.unique()"
      ],
      "metadata": {
        "colab": {
          "base_uri": "https://localhost:8080/"
        },
        "id": "HNl1VQdChfyI",
        "outputId": "892a0135-eb39-4d0b-f75e-b8ae31e882f4"
      },
      "execution_count": null,
      "outputs": [
        {
          "output_type": "execute_result",
          "data": {
            "text/plain": [
              "array([4])"
            ]
          },
          "metadata": {},
          "execution_count": 49
        }
      ]
    },
    {
      "cell_type": "markdown",
      "source": [
        "*  'Local industriel. commercial ou assimilé' <-> 4\n",
        "*  intuitively 'Maison' <-> 1, let's verify it"
      ],
      "metadata": {
        "id": "IeHfRwrQhwBo"
      }
    },
    {
      "cell_type": "code",
      "source": [
        "final_data[final_data.type_local=='Maison'].code_type_local.unique()"
      ],
      "metadata": {
        "colab": {
          "base_uri": "https://localhost:8080/"
        },
        "id": "j9TMSTtPhuzv",
        "outputId": "4b5c7907-36ae-4a76-e3b0-941c8818a7b1"
      },
      "execution_count": null,
      "outputs": [
        {
          "output_type": "execute_result",
          "data": {
            "text/plain": [
              "array([1])"
            ]
          },
          "metadata": {},
          "execution_count": 50
        }
      ]
    },
    {
      "cell_type": "markdown",
      "source": [
        "we proved that code_type_local is a numeric translation of type_local. So let's remove type_local"
      ],
      "metadata": {
        "id": "OYAYtXtBiPcX"
      }
    },
    {
      "cell_type": "code",
      "source": [
        "final_data=final_data.drop(['type_local'], axis=1)"
      ],
      "metadata": {
        "id": "qp1dMFapiM8u"
      },
      "execution_count": null,
      "outputs": []
    },
    {
      "cell_type": "code",
      "source": [
        "final_data"
      ],
      "metadata": {
        "colab": {
          "base_uri": "https://localhost:8080/",
          "height": 424
        },
        "id": "T63DjKNMivq2",
        "outputId": "1d3e0f99-3479-4878-a155-379b8de6fdcf"
      },
      "execution_count": null,
      "outputs": [
        {
          "output_type": "execute_result",
          "data": {
            "text/plain": [
              "       code_type_local  surface_reelle_bati  nombre_pieces_principales  \\\n",
              "0                    2                 22.0                        1.0   \n",
              "2                    2                 36.0                        2.0   \n",
              "5                    2                 58.0                        3.0   \n",
              "7                    2                 32.0                        2.0   \n",
              "13                   2                 64.0                        3.0   \n",
              "...                ...                  ...                        ...   \n",
              "16593                2                 35.0                        2.0   \n",
              "16595                2                115.0                        4.0   \n",
              "16596                2                 27.0                        2.0   \n",
              "16599                2                 58.0                        3.0   \n",
              "16600                2                 26.0                        1.0   \n",
              "\n",
              "       longitude   latitude  valeur_fonciere date_mutation  \n",
              "0       2.350194  48.882282         330000.0    2021-12-28  \n",
              "2       2.350692  48.883416         110000.0    2021-12-23  \n",
              "5       2.350043  48.883399         660000.0    2021-10-27  \n",
              "7       2.350692  48.883416         283500.0    2021-10-21  \n",
              "13      2.350823  48.883014         574700.0    2021-10-15  \n",
              "...          ...        ...              ...           ...  \n",
              "16593   2.367354  48.882305         208000.0    2017-03-13  \n",
              "16595   2.368478  48.882067        1065000.0    2017-02-23  \n",
              "16596   2.368337  48.883334         135000.0    2017-02-23  \n",
              "16599   2.368919  48.883058         458000.0    2017-02-15  \n",
              "16600   2.367354  48.882305         126000.0    2017-02-14  \n",
              "\n",
              "[7710 rows x 7 columns]"
            ],
            "text/html": [
              "\n",
              "  <div id=\"df-2b499e83-fe39-4fb5-80e6-79d172122b14\">\n",
              "    <div class=\"colab-df-container\">\n",
              "      <div>\n",
              "<style scoped>\n",
              "    .dataframe tbody tr th:only-of-type {\n",
              "        vertical-align: middle;\n",
              "    }\n",
              "\n",
              "    .dataframe tbody tr th {\n",
              "        vertical-align: top;\n",
              "    }\n",
              "\n",
              "    .dataframe thead th {\n",
              "        text-align: right;\n",
              "    }\n",
              "</style>\n",
              "<table border=\"1\" class=\"dataframe\">\n",
              "  <thead>\n",
              "    <tr style=\"text-align: right;\">\n",
              "      <th></th>\n",
              "      <th>code_type_local</th>\n",
              "      <th>surface_reelle_bati</th>\n",
              "      <th>nombre_pieces_principales</th>\n",
              "      <th>longitude</th>\n",
              "      <th>latitude</th>\n",
              "      <th>valeur_fonciere</th>\n",
              "      <th>date_mutation</th>\n",
              "    </tr>\n",
              "  </thead>\n",
              "  <tbody>\n",
              "    <tr>\n",
              "      <th>0</th>\n",
              "      <td>2</td>\n",
              "      <td>22.0</td>\n",
              "      <td>1.0</td>\n",
              "      <td>2.350194</td>\n",
              "      <td>48.882282</td>\n",
              "      <td>330000.0</td>\n",
              "      <td>2021-12-28</td>\n",
              "    </tr>\n",
              "    <tr>\n",
              "      <th>2</th>\n",
              "      <td>2</td>\n",
              "      <td>36.0</td>\n",
              "      <td>2.0</td>\n",
              "      <td>2.350692</td>\n",
              "      <td>48.883416</td>\n",
              "      <td>110000.0</td>\n",
              "      <td>2021-12-23</td>\n",
              "    </tr>\n",
              "    <tr>\n",
              "      <th>5</th>\n",
              "      <td>2</td>\n",
              "      <td>58.0</td>\n",
              "      <td>3.0</td>\n",
              "      <td>2.350043</td>\n",
              "      <td>48.883399</td>\n",
              "      <td>660000.0</td>\n",
              "      <td>2021-10-27</td>\n",
              "    </tr>\n",
              "    <tr>\n",
              "      <th>7</th>\n",
              "      <td>2</td>\n",
              "      <td>32.0</td>\n",
              "      <td>2.0</td>\n",
              "      <td>2.350692</td>\n",
              "      <td>48.883416</td>\n",
              "      <td>283500.0</td>\n",
              "      <td>2021-10-21</td>\n",
              "    </tr>\n",
              "    <tr>\n",
              "      <th>13</th>\n",
              "      <td>2</td>\n",
              "      <td>64.0</td>\n",
              "      <td>3.0</td>\n",
              "      <td>2.350823</td>\n",
              "      <td>48.883014</td>\n",
              "      <td>574700.0</td>\n",
              "      <td>2021-10-15</td>\n",
              "    </tr>\n",
              "    <tr>\n",
              "      <th>...</th>\n",
              "      <td>...</td>\n",
              "      <td>...</td>\n",
              "      <td>...</td>\n",
              "      <td>...</td>\n",
              "      <td>...</td>\n",
              "      <td>...</td>\n",
              "      <td>...</td>\n",
              "    </tr>\n",
              "    <tr>\n",
              "      <th>16593</th>\n",
              "      <td>2</td>\n",
              "      <td>35.0</td>\n",
              "      <td>2.0</td>\n",
              "      <td>2.367354</td>\n",
              "      <td>48.882305</td>\n",
              "      <td>208000.0</td>\n",
              "      <td>2017-03-13</td>\n",
              "    </tr>\n",
              "    <tr>\n",
              "      <th>16595</th>\n",
              "      <td>2</td>\n",
              "      <td>115.0</td>\n",
              "      <td>4.0</td>\n",
              "      <td>2.368478</td>\n",
              "      <td>48.882067</td>\n",
              "      <td>1065000.0</td>\n",
              "      <td>2017-02-23</td>\n",
              "    </tr>\n",
              "    <tr>\n",
              "      <th>16596</th>\n",
              "      <td>2</td>\n",
              "      <td>27.0</td>\n",
              "      <td>2.0</td>\n",
              "      <td>2.368337</td>\n",
              "      <td>48.883334</td>\n",
              "      <td>135000.0</td>\n",
              "      <td>2017-02-23</td>\n",
              "    </tr>\n",
              "    <tr>\n",
              "      <th>16599</th>\n",
              "      <td>2</td>\n",
              "      <td>58.0</td>\n",
              "      <td>3.0</td>\n",
              "      <td>2.368919</td>\n",
              "      <td>48.883058</td>\n",
              "      <td>458000.0</td>\n",
              "      <td>2017-02-15</td>\n",
              "    </tr>\n",
              "    <tr>\n",
              "      <th>16600</th>\n",
              "      <td>2</td>\n",
              "      <td>26.0</td>\n",
              "      <td>1.0</td>\n",
              "      <td>2.367354</td>\n",
              "      <td>48.882305</td>\n",
              "      <td>126000.0</td>\n",
              "      <td>2017-02-14</td>\n",
              "    </tr>\n",
              "  </tbody>\n",
              "</table>\n",
              "<p>7710 rows × 7 columns</p>\n",
              "</div>\n",
              "      <button class=\"colab-df-convert\" onclick=\"convertToInteractive('df-2b499e83-fe39-4fb5-80e6-79d172122b14')\"\n",
              "              title=\"Convert this dataframe to an interactive table.\"\n",
              "              style=\"display:none;\">\n",
              "        \n",
              "  <svg xmlns=\"http://www.w3.org/2000/svg\" height=\"24px\"viewBox=\"0 0 24 24\"\n",
              "       width=\"24px\">\n",
              "    <path d=\"M0 0h24v24H0V0z\" fill=\"none\"/>\n",
              "    <path d=\"M18.56 5.44l.94 2.06.94-2.06 2.06-.94-2.06-.94-.94-2.06-.94 2.06-2.06.94zm-11 1L8.5 8.5l.94-2.06 2.06-.94-2.06-.94L8.5 2.5l-.94 2.06-2.06.94zm10 10l.94 2.06.94-2.06 2.06-.94-2.06-.94-.94-2.06-.94 2.06-2.06.94z\"/><path d=\"M17.41 7.96l-1.37-1.37c-.4-.4-.92-.59-1.43-.59-.52 0-1.04.2-1.43.59L10.3 9.45l-7.72 7.72c-.78.78-.78 2.05 0 2.83L4 21.41c.39.39.9.59 1.41.59.51 0 1.02-.2 1.41-.59l7.78-7.78 2.81-2.81c.8-.78.8-2.07 0-2.86zM5.41 20L4 18.59l7.72-7.72 1.47 1.35L5.41 20z\"/>\n",
              "  </svg>\n",
              "      </button>\n",
              "      \n",
              "  <style>\n",
              "    .colab-df-container {\n",
              "      display:flex;\n",
              "      flex-wrap:wrap;\n",
              "      gap: 12px;\n",
              "    }\n",
              "\n",
              "    .colab-df-convert {\n",
              "      background-color: #E8F0FE;\n",
              "      border: none;\n",
              "      border-radius: 50%;\n",
              "      cursor: pointer;\n",
              "      display: none;\n",
              "      fill: #1967D2;\n",
              "      height: 32px;\n",
              "      padding: 0 0 0 0;\n",
              "      width: 32px;\n",
              "    }\n",
              "\n",
              "    .colab-df-convert:hover {\n",
              "      background-color: #E2EBFA;\n",
              "      box-shadow: 0px 1px 2px rgba(60, 64, 67, 0.3), 0px 1px 3px 1px rgba(60, 64, 67, 0.15);\n",
              "      fill: #174EA6;\n",
              "    }\n",
              "\n",
              "    [theme=dark] .colab-df-convert {\n",
              "      background-color: #3B4455;\n",
              "      fill: #D2E3FC;\n",
              "    }\n",
              "\n",
              "    [theme=dark] .colab-df-convert:hover {\n",
              "      background-color: #434B5C;\n",
              "      box-shadow: 0px 1px 3px 1px rgba(0, 0, 0, 0.15);\n",
              "      filter: drop-shadow(0px 1px 2px rgba(0, 0, 0, 0.3));\n",
              "      fill: #FFFFFF;\n",
              "    }\n",
              "  </style>\n",
              "\n",
              "      <script>\n",
              "        const buttonEl =\n",
              "          document.querySelector('#df-2b499e83-fe39-4fb5-80e6-79d172122b14 button.colab-df-convert');\n",
              "        buttonEl.style.display =\n",
              "          google.colab.kernel.accessAllowed ? 'block' : 'none';\n",
              "\n",
              "        async function convertToInteractive(key) {\n",
              "          const element = document.querySelector('#df-2b499e83-fe39-4fb5-80e6-79d172122b14');\n",
              "          const dataTable =\n",
              "            await google.colab.kernel.invokeFunction('convertToInteractive',\n",
              "                                                     [key], {});\n",
              "          if (!dataTable) return;\n",
              "\n",
              "          const docLinkHtml = 'Like what you see? Visit the ' +\n",
              "            '<a target=\"_blank\" href=https://colab.research.google.com/notebooks/data_table.ipynb>data table notebook</a>'\n",
              "            + ' to learn more about interactive tables.';\n",
              "          element.innerHTML = '';\n",
              "          dataTable['output_type'] = 'display_data';\n",
              "          await google.colab.output.renderOutput(dataTable, element);\n",
              "          const docLink = document.createElement('div');\n",
              "          docLink.innerHTML = docLinkHtml;\n",
              "          element.appendChild(docLink);\n",
              "        }\n",
              "      </script>\n",
              "    </div>\n",
              "  </div>\n",
              "  "
            ]
          },
          "metadata": {},
          "execution_count": 52
        }
      ]
    },
    {
      "cell_type": "markdown",
      "source": [
        "we saw that:\n",
        "\n",
        "\n",
        "*   Local industriel. commercial ou assimilé <-> 4\n",
        "*   Maison <-> 1\n",
        "*   Appartement <-> 2\n",
        "\n"
      ],
      "metadata": {
        "id": "XVV3QuKxi_TX"
      }
    },
    {
      "cell_type": "markdown",
      "source": [
        "intuitive question: are the previous codes arbitrary (just a code) or is there a correlation between code_type_local and valeur_fonciere?"
      ],
      "metadata": {
        "id": "nvXwluQNjjW4"
      }
    },
    {
      "cell_type": "code",
      "source": [
        "plt.scatter(final_data.code_type_local,final_data.valeur_fonciere)"
      ],
      "metadata": {
        "colab": {
          "base_uri": "https://localhost:8080/",
          "height": 293
        },
        "id": "KJitaUXyixzh",
        "outputId": "9f6ff1f6-2149-4d5f-ab38-4010a638b2dc"
      },
      "execution_count": null,
      "outputs": [
        {
          "output_type": "execute_result",
          "data": {
            "text/plain": [
              "<matplotlib.collections.PathCollection at 0x7f85537c6990>"
            ]
          },
          "metadata": {},
          "execution_count": 53
        },
        {
          "output_type": "display_data",
          "data": {
            "text/plain": [
              "<Figure size 432x288 with 1 Axes>"
            ],
            "image/png": "[encoded data removed]"
          },
          "metadata": {
            "needs_background": "light"
          }
        }
      ]
    },
    {
      "cell_type": "code",
      "source": [
        "len(final_data[final_data.code_type_local==1])"
      ],
      "metadata": {
        "colab": {
          "base_uri": "https://localhost:8080/"
        },
        "id": "MeWrSeOPldZr",
        "outputId": "42d8afc6-36a9-41b4-cc46-0a755cb9f09a"
      },
      "execution_count": null,
      "outputs": [
        {
          "output_type": "execute_result",
          "data": {
            "text/plain": [
              "1"
            ]
          },
          "metadata": {},
          "execution_count": 54
        }
      ]
    },
    {
      "cell_type": "markdown",
      "source": [
        "First we remarked from the scatter plot that code_type_local==1(maison) is represented by only one single building among 12836 buildings. As a result we remove this building class in order to avoid the issue of **data imbalance**"
      ],
      "metadata": {
        "id": "nFA93V7VlyHZ"
      }
    },
    {
      "cell_type": "code",
      "source": [
        "#show the index of the row to be removed\n",
        "final_data[final_data.code_type_local==1]"
      ],
      "metadata": {
        "colab": {
          "base_uri": "https://localhost:8080/",
          "height": 81
        },
        "id": "IEUdcBrmnCTO",
        "outputId": "43f5fe5a-9618-4e65-c872-4e04f6c19e34"
      },
      "execution_count": null,
      "outputs": [
        {
          "output_type": "execute_result",
          "data": {
            "text/plain": [
              "      code_type_local  surface_reelle_bati  nombre_pieces_principales  \\\n",
              "9940                1                 60.0                        2.0   \n",
              "\n",
              "      longitude   latitude  valeur_fonciere date_mutation  \n",
              "9940   2.361436  48.872326         425500.0    2017-10-23  "
            ],
            "text/html": [
              "\n",
              "  <div id=\"df-be87ca52-9c52-4e93-9def-5538cbf777ae\">\n",
              "    <div class=\"colab-df-container\">\n",
              "      <div>\n",
              "<style scoped>\n",
              "    .dataframe tbody tr th:only-of-type {\n",
              "        vertical-align: middle;\n",
              "    }\n",
              "\n",
              "    .dataframe tbody tr th {\n",
              "        vertical-align: top;\n",
              "    }\n",
              "\n",
              "    .dataframe thead th {\n",
              "        text-align: right;\n",
              "    }\n",
              "</style>\n",
              "<table border=\"1\" class=\"dataframe\">\n",
              "  <thead>\n",
              "    <tr style=\"text-align: right;\">\n",
              "      <th></th>\n",
              "      <th>code_type_local</th>\n",
              "      <th>surface_reelle_bati</th>\n",
              "      <th>nombre_pieces_principales</th>\n",
              "      <th>longitude</th>\n",
              "      <th>latitude</th>\n",
              "      <th>valeur_fonciere</th>\n",
              "      <th>date_mutation</th>\n",
              "    </tr>\n",
              "  </thead>\n",
              "  <tbody>\n",
              "    <tr>\n",
              "      <th>9940</th>\n",
              "      <td>1</td>\n",
              "      <td>60.0</td>\n",
              "      <td>2.0</td>\n",
              "      <td>2.361436</td>\n",
              "      <td>48.872326</td>\n",
              "      <td>425500.0</td>\n",
              "      <td>2017-10-23</td>\n",
              "    </tr>\n",
              "  </tbody>\n",
              "</table>\n",
              "</div>\n",
              "      <button class=\"colab-df-convert\" onclick=\"convertToInteractive('df-be87ca52-9c52-4e93-9def-5538cbf777ae')\"\n",
              "              title=\"Convert this dataframe to an interactive table.\"\n",
              "              style=\"display:none;\">\n",
              "        \n",
              "  <svg xmlns=\"http://www.w3.org/2000/svg\" height=\"24px\"viewBox=\"0 0 24 24\"\n",
              "       width=\"24px\">\n",
              "    <path d=\"M0 0h24v24H0V0z\" fill=\"none\"/>\n",
              "    <path d=\"M18.56 5.44l.94 2.06.94-2.06 2.06-.94-2.06-.94-.94-2.06-.94 2.06-2.06.94zm-11 1L8.5 8.5l.94-2.06 2.06-.94-2.06-.94L8.5 2.5l-.94 2.06-2.06.94zm10 10l.94 2.06.94-2.06 2.06-.94-2.06-.94-.94-2.06-.94 2.06-2.06.94z\"/><path d=\"M17.41 7.96l-1.37-1.37c-.4-.4-.92-.59-1.43-.59-.52 0-1.04.2-1.43.59L10.3 9.45l-7.72 7.72c-.78.78-.78 2.05 0 2.83L4 21.41c.39.39.9.59 1.41.59.51 0 1.02-.2 1.41-.59l7.78-7.78 2.81-2.81c.8-.78.8-2.07 0-2.86zM5.41 20L4 18.59l7.72-7.72 1.47 1.35L5.41 20z\"/>\n",
              "  </svg>\n",
              "      </button>\n",
              "      \n",
              "  <style>\n",
              "    .colab-df-container {\n",
              "      display:flex;\n",
              "      flex-wrap:wrap;\n",
              "      gap: 12px;\n",
              "    }\n",
              "\n",
              "    .colab-df-convert {\n",
              "      background-color: #E8F0FE;\n",
              "      border: none;\n",
              "      border-radius: 50%;\n",
              "      cursor: pointer;\n",
              "      display: none;\n",
              "      fill: #1967D2;\n",
              "      height: 32px;\n",
              "      padding: 0 0 0 0;\n",
              "      width: 32px;\n",
              "    }\n",
              "\n",
              "    .colab-df-convert:hover {\n",
              "      background-color: #E2EBFA;\n",
              "      box-shadow: 0px 1px 2px rgba(60, 64, 67, 0.3), 0px 1px 3px 1px rgba(60, 64, 67, 0.15);\n",
              "      fill: #174EA6;\n",
              "    }\n",
              "\n",
              "    [theme=dark] .colab-df-convert {\n",
              "      background-color: #3B4455;\n",
              "      fill: #D2E3FC;\n",
              "    }\n",
              "\n",
              "    [theme=dark] .colab-df-convert:hover {\n",
              "      background-color: #434B5C;\n",
              "      box-shadow: 0px 1px 3px 1px rgba(0, 0, 0, 0.15);\n",
              "      filter: drop-shadow(0px 1px 2px rgba(0, 0, 0, 0.3));\n",
              "      fill: #FFFFFF;\n",
              "    }\n",
              "  </style>\n",
              "\n",
              "      <script>\n",
              "        const buttonEl =\n",
              "          document.querySelector('#df-be87ca52-9c52-4e93-9def-5538cbf777ae button.colab-df-convert');\n",
              "        buttonEl.style.display =\n",
              "          google.colab.kernel.accessAllowed ? 'block' : 'none';\n",
              "\n",
              "        async function convertToInteractive(key) {\n",
              "          const element = document.querySelector('#df-be87ca52-9c52-4e93-9def-5538cbf777ae');\n",
              "          const dataTable =\n",
              "            await google.colab.kernel.invokeFunction('convertToInteractive',\n",
              "                                                     [key], {});\n",
              "          if (!dataTable) return;\n",
              "\n",
              "          const docLinkHtml = 'Like what you see? Visit the ' +\n",
              "            '<a target=\"_blank\" href=https://colab.research.google.com/notebooks/data_table.ipynb>data table notebook</a>'\n",
              "            + ' to learn more about interactive tables.';\n",
              "          element.innerHTML = '';\n",
              "          dataTable['output_type'] = 'display_data';\n",
              "          await google.colab.output.renderOutput(dataTable, element);\n",
              "          const docLink = document.createElement('div');\n",
              "          docLink.innerHTML = docLinkHtml;\n",
              "          element.appendChild(docLink);\n",
              "        }\n",
              "      </script>\n",
              "    </div>\n",
              "  </div>\n",
              "  "
            ]
          },
          "metadata": {},
          "execution_count": 55
        }
      ]
    },
    {
      "cell_type": "code",
      "source": [
        "final_data=final_data.drop([9940])"
      ],
      "metadata": {
        "id": "LhWal51RlrR0"
      },
      "execution_count": null,
      "outputs": []
    },
    {
      "cell_type": "code",
      "source": [
        "#we verify that the row has been removed\n",
        "final_data[final_data.code_type_local==1]"
      ],
      "metadata": {
        "colab": {
          "base_uri": "https://localhost:8080/",
          "height": 49
        },
        "id": "jS9NzIZ_nUVJ",
        "outputId": "74944545-f9b6-40f3-99ec-7145b2e85e79"
      },
      "execution_count": null,
      "outputs": [
        {
          "output_type": "execute_result",
          "data": {
            "text/plain": [
              "Empty DataFrame\n",
              "Columns: [code_type_local, surface_reelle_bati, nombre_pieces_principales, longitude, latitude, valeur_fonciere, date_mutation]\n",
              "Index: []"
            ],
            "text/html": [
              "\n",
              "  <div id=\"df-4e57e923-551e-4542-9de0-ba5cbb7ab6db\">\n",
              "    <div class=\"colab-df-container\">\n",
              "      <div>\n",
              "<style scoped>\n",
              "    .dataframe tbody tr th:only-of-type {\n",
              "        vertical-align: middle;\n",
              "    }\n",
              "\n",
              "    .dataframe tbody tr th {\n",
              "        vertical-align: top;\n",
              "    }\n",
              "\n",
              "    .dataframe thead th {\n",
              "        text-align: right;\n",
              "    }\n",
              "</style>\n",
              "<table border=\"1\" class=\"dataframe\">\n",
              "  <thead>\n",
              "    <tr style=\"text-align: right;\">\n",
              "      <th></th>\n",
              "      <th>code_type_local</th>\n",
              "      <th>surface_reelle_bati</th>\n",
              "      <th>nombre_pieces_principales</th>\n",
              "      <th>longitude</th>\n",
              "      <th>latitude</th>\n",
              "      <th>valeur_fonciere</th>\n",
              "      <th>date_mutation</th>\n",
              "    </tr>\n",
              "  </thead>\n",
              "  <tbody>\n",
              "  </tbody>\n",
              "</table>\n",
              "</div>\n",
              "      <button class=\"colab-df-convert\" onclick=\"convertToInteractive('df-4e57e923-551e-4542-9de0-ba5cbb7ab6db')\"\n",
              "              title=\"Convert this dataframe to an interactive table.\"\n",
              "              style=\"display:none;\">\n",
              "        \n",
              "  <svg xmlns=\"http://www.w3.org/2000/svg\" height=\"24px\"viewBox=\"0 0 24 24\"\n",
              "       width=\"24px\">\n",
              "    <path d=\"M0 0h24v24H0V0z\" fill=\"none\"/>\n",
              "    <path d=\"M18.56 5.44l.94 2.06.94-2.06 2.06-.94-2.06-.94-.94-2.06-.94 2.06-2.06.94zm-11 1L8.5 8.5l.94-2.06 2.06-.94-2.06-.94L8.5 2.5l-.94 2.06-2.06.94zm10 10l.94 2.06.94-2.06 2.06-.94-2.06-.94-.94-2.06-.94 2.06-2.06.94z\"/><path d=\"M17.41 7.96l-1.37-1.37c-.4-.4-.92-.59-1.43-.59-.52 0-1.04.2-1.43.59L10.3 9.45l-7.72 7.72c-.78.78-.78 2.05 0 2.83L4 21.41c.39.39.9.59 1.41.59.51 0 1.02-.2 1.41-.59l7.78-7.78 2.81-2.81c.8-.78.8-2.07 0-2.86zM5.41 20L4 18.59l7.72-7.72 1.47 1.35L5.41 20z\"/>\n",
              "  </svg>\n",
              "      </button>\n",
              "      \n",
              "  <style>\n",
              "    .colab-df-container {\n",
              "      display:flex;\n",
              "      flex-wrap:wrap;\n",
              "      gap: 12px;\n",
              "    }\n",
              "\n",
              "    .colab-df-convert {\n",
              "      background-color: #E8F0FE;\n",
              "      border: none;\n",
              "      border-radius: 50%;\n",
              "      cursor: pointer;\n",
              "      display: none;\n",
              "      fill: #1967D2;\n",
              "      height: 32px;\n",
              "      padding: 0 0 0 0;\n",
              "      width: 32px;\n",
              "    }\n",
              "\n",
              "    .colab-df-convert:hover {\n",
              "      background-color: #E2EBFA;\n",
              "      box-shadow: 0px 1px 2px rgba(60, 64, 67, 0.3), 0px 1px 3px 1px rgba(60, 64, 67, 0.15);\n",
              "      fill: #174EA6;\n",
              "    }\n",
              "\n",
              "    [theme=dark] .colab-df-convert {\n",
              "      background-color: #3B4455;\n",
              "      fill: #D2E3FC;\n",
              "    }\n",
              "\n",
              "    [theme=dark] .colab-df-convert:hover {\n",
              "      background-color: #434B5C;\n",
              "      box-shadow: 0px 1px 3px 1px rgba(0, 0, 0, 0.15);\n",
              "      filter: drop-shadow(0px 1px 2px rgba(0, 0, 0, 0.3));\n",
              "      fill: #FFFFFF;\n",
              "    }\n",
              "  </style>\n",
              "\n",
              "      <script>\n",
              "        const buttonEl =\n",
              "          document.querySelector('#df-4e57e923-551e-4542-9de0-ba5cbb7ab6db button.colab-df-convert');\n",
              "        buttonEl.style.display =\n",
              "          google.colab.kernel.accessAllowed ? 'block' : 'none';\n",
              "\n",
              "        async function convertToInteractive(key) {\n",
              "          const element = document.querySelector('#df-4e57e923-551e-4542-9de0-ba5cbb7ab6db');\n",
              "          const dataTable =\n",
              "            await google.colab.kernel.invokeFunction('convertToInteractive',\n",
              "                                                     [key], {});\n",
              "          if (!dataTable) return;\n",
              "\n",
              "          const docLinkHtml = 'Like what you see? Visit the ' +\n",
              "            '<a target=\"_blank\" href=https://colab.research.google.com/notebooks/data_table.ipynb>data table notebook</a>'\n",
              "            + ' to learn more about interactive tables.';\n",
              "          element.innerHTML = '';\n",
              "          dataTable['output_type'] = 'display_data';\n",
              "          await google.colab.output.renderOutput(dataTable, element);\n",
              "          const docLink = document.createElement('div');\n",
              "          docLink.innerHTML = docLinkHtml;\n",
              "          element.appendChild(docLink);\n",
              "        }\n",
              "      </script>\n",
              "    </div>\n",
              "  </div>\n",
              "  "
            ]
          },
          "metadata": {},
          "execution_count": 57
        }
      ]
    },
    {
      "cell_type": "markdown",
      "source": [
        "Let's come back to the scatter plot"
      ],
      "metadata": {
        "id": "2Mb_Y5cingRZ"
      }
    },
    {
      "cell_type": "code",
      "source": [
        "plt.scatter(final_data.code_type_local,final_data.valeur_fonciere)"
      ],
      "metadata": {
        "colab": {
          "base_uri": "https://localhost:8080/",
          "height": 293
        },
        "id": "0gNuDWTNnXDG",
        "outputId": "a497a057-48ad-4c26-84fd-e93ef9a834a3"
      },
      "execution_count": null,
      "outputs": [
        {
          "output_type": "execute_result",
          "data": {
            "text/plain": [
              "<matplotlib.collections.PathCollection at 0x7f85537c6790>"
            ]
          },
          "metadata": {},
          "execution_count": 58
        },
        {
          "output_type": "display_data",
          "data": {
            "text/plain": [
              "<Figure size 432x288 with 1 Axes>"
            ],
            "image/png": "[encoded data removed]"
          },
          "metadata": {
            "needs_background": "light"
          }
        }
      ]
    },
    {
      "cell_type": "code",
      "source": [
        "final_data.code_type_local.value_counts().plot(kind='bar')\n"
      ],
      "metadata": {
        "colab": {
          "base_uri": "https://localhost:8080/",
          "height": 279
        },
        "id": "khalXqljLhMV",
        "outputId": "90f31259-c253-4972-d71b-1dfaf32dae52"
      },
      "execution_count": null,
      "outputs": [
        {
          "output_type": "execute_result",
          "data": {
            "text/plain": [
              "<matplotlib.axes._subplots.AxesSubplot at 0x7f8553723ad0>"
            ]
          },
          "metadata": {},
          "execution_count": 59
        },
        {
          "output_type": "display_data",
          "data": {
            "text/plain": [
              "<Figure size 432x288 with 1 Axes>"
            ],
            "image/png": "[encoded data removed]"
          },
          "metadata": {
            "needs_background": "light"
          }
        }
      ]
    },
    {
      "cell_type": "markdown",
      "source": [
        "(we can ask a question about class imbalance and wether to keep this column or not!)"
      ],
      "metadata": {
        "id": "7MZGJ3uQ68AZ"
      }
    },
    {
      "cell_type": "markdown",
      "source": [
        "we recall that:\n",
        "\n",
        "*   Local industriel. commercial ou assimilé <-> 4\n",
        "*   Appartement <-> 2"
      ],
      "metadata": {
        "id": "YTvNblCwnpX3"
      }
    },
    {
      "cell_type": "code",
      "source": [
        "print('% of appartments in the dataset=  '+str(len(final_data[final_data.code_type_local==2])/len(final_data)*100)+' %')\n",
        "print('% of local industrial, commercial & assimilated buildings in the dataset=  '+str(len(final_data[final_data.code_type_local==4])/len(final_data)*100)+' %')"
      ],
      "metadata": {
        "colab": {
          "base_uri": "https://localhost:8080/"
        },
        "id": "i1Z5Ego8nkq4",
        "outputId": "5cfb7559-03d5-4f06-88ff-9cdbd7cf312d"
      },
      "execution_count": null,
      "outputs": [
        {
          "output_type": "stream",
          "name": "stdout",
          "text": [
            "% of appartments in the dataset=  90.36191464521988 %\n",
            "% of local industrial, commercial & assimilated buildings in the dataset=  9.638085354780127 %\n"
          ]
        }
      ]
    },
    {
      "cell_type": "markdown",
      "source": [
        "**surface_reelle_bati**"
      ],
      "metadata": {
        "id": "MDqscbeg74Ir"
      }
    },
    {
      "cell_type": "code",
      "source": [
        "final_data.surface_reelle_bati.describe()"
      ],
      "metadata": {
        "colab": {
          "base_uri": "https://localhost:8080/"
        },
        "id": "AMZheqJh7siC",
        "outputId": "56b4478a-28dd-4d67-d0a2-fd2e80a663ea"
      },
      "execution_count": null,
      "outputs": [
        {
          "output_type": "execute_result",
          "data": {
            "text/plain": [
              "count    7709.000000\n",
              "mean       52.208977\n",
              "std        70.927220\n",
              "min         2.000000\n",
              "25%        25.000000\n",
              "50%        41.000000\n",
              "75%        65.000000\n",
              "max      4000.000000\n",
              "Name: surface_reelle_bati, dtype: float64"
            ]
          },
          "metadata": {},
          "execution_count": 61
        }
      ]
    },
    {
      "cell_type": "code",
      "source": [
        "final_data.loc[final_data.surface_reelle_bati<=25].surface_reelle_bati.describe()"
      ],
      "metadata": {
        "colab": {
          "base_uri": "https://localhost:8080/"
        },
        "id": "G6Z0pEf_ZBVy",
        "outputId": "f7ec223a-8dc5-4c16-daed-c5bf63263ac7"
      },
      "execution_count": null,
      "outputs": [
        {
          "output_type": "execute_result",
          "data": {
            "text/plain": [
              "count    1983.000000\n",
              "mean       17.233485\n",
              "std         5.366812\n",
              "min         2.000000\n",
              "25%        13.000000\n",
              "50%        18.000000\n",
              "75%        22.000000\n",
              "max        25.000000\n",
              "Name: surface_reelle_bati, dtype: float64"
            ]
          },
          "metadata": {},
          "execution_count": 62
        }
      ]
    },
    {
      "cell_type": "code",
      "source": [
        "#want to see which buildings have surface_reelle_bati < 13 (1st quartile)\n",
        "final_data.loc[final_data.surface_reelle_bati<=13]"
      ],
      "metadata": {
        "colab": {
          "base_uri": "https://localhost:8080/",
          "height": 424
        },
        "id": "ELGpYP_7ZdzY",
        "outputId": "18ecc28f-e0e1-47ad-d7c4-2414388a279e"
      },
      "execution_count": null,
      "outputs": [
        {
          "output_type": "execute_result",
          "data": {
            "text/plain": [
              "       code_type_local  surface_reelle_bati  nombre_pieces_principales  \\\n",
              "102                  2                 11.0                        1.0   \n",
              "120                  2                 12.0                        1.0   \n",
              "185                  2                  6.0                        1.0   \n",
              "187                  2                 12.0                        1.0   \n",
              "197                  2                 12.0                        1.0   \n",
              "...                ...                  ...                        ...   \n",
              "16477                2                 12.0                        1.0   \n",
              "16505                2                 13.0                        1.0   \n",
              "16535                2                 13.0                        1.0   \n",
              "16567                4                  9.0                        0.0   \n",
              "16590                2                  9.0                        1.0   \n",
              "\n",
              "       longitude   latitude  valeur_fonciere date_mutation  \n",
              "102     2.350900  48.882459          80000.0    2017-05-18  \n",
              "120     2.352982  48.881137         370500.0    2021-12-16  \n",
              "185     2.352226  48.881062         220000.0    2021-06-07  \n",
              "187     2.350888  48.880724          91000.0    2021-06-03  \n",
              "197     2.350984  48.881206         140000.0    2021-05-07  \n",
              "...          ...        ...              ...           ...  \n",
              "16477   2.368337  48.883334         193000.0    2019-10-28  \n",
              "16505   2.368047  48.882474         135500.0    2019-02-07  \n",
              "16535   2.367354  48.882305         128000.0    2018-06-22  \n",
              "16567   2.368040  48.882832          20000.0    2017-10-10  \n",
              "16590   2.368305  48.882543          42500.0    2017-03-17  \n",
              "\n",
              "[532 rows x 7 columns]"
            ],
            "text/html": [
              "\n",
              "  <div id=\"df-d821d0c8-2aab-4106-9f46-2c94e3740037\">\n",
              "    <div class=\"colab-df-container\">\n",
              "      <div>\n",
              "<style scoped>\n",
              "    .dataframe tbody tr th:only-of-type {\n",
              "        vertical-align: middle;\n",
              "    }\n",
              "\n",
              "    .dataframe tbody tr th {\n",
              "        vertical-align: top;\n",
              "    }\n",
              "\n",
              "    .dataframe thead th {\n",
              "        text-align: right;\n",
              "    }\n",
              "</style>\n",
              "<table border=\"1\" class=\"dataframe\">\n",
              "  <thead>\n",
              "    <tr style=\"text-align: right;\">\n",
              "      <th></th>\n",
              "      <th>code_type_local</th>\n",
              "      <th>surface_reelle_bati</th>\n",
              "      <th>nombre_pieces_principales</th>\n",
              "      <th>longitude</th>\n",
              "      <th>latitude</th>\n",
              "      <th>valeur_fonciere</th>\n",
              "      <th>date_mutation</th>\n",
              "    </tr>\n",
              "  </thead>\n",
              "  <tbody>\n",
              "    <tr>\n",
              "      <th>102</th>\n",
              "      <td>2</td>\n",
              "      <td>11.0</td>\n",
              "      <td>1.0</td>\n",
              "      <td>2.350900</td>\n",
              "      <td>48.882459</td>\n",
              "      <td>80000.0</td>\n",
              "      <td>2017-05-18</td>\n",
              "    </tr>\n",
              "    <tr>\n",
              "      <th>120</th>\n",
              "      <td>2</td>\n",
              "      <td>12.0</td>\n",
              "      <td>1.0</td>\n",
              "      <td>2.352982</td>\n",
              "      <td>48.881137</td>\n",
              "      <td>370500.0</td>\n",
              "      <td>2021-12-16</td>\n",
              "    </tr>\n",
              "    <tr>\n",
              "      <th>185</th>\n",
              "      <td>2</td>\n",
              "      <td>6.0</td>\n",
              "      <td>1.0</td>\n",
              "      <td>2.352226</td>\n",
              "      <td>48.881062</td>\n",
              "      <td>220000.0</td>\n",
              "      <td>2021-06-07</td>\n",
              "    </tr>\n",
              "    <tr>\n",
              "      <th>187</th>\n",
              "      <td>2</td>\n",
              "      <td>12.0</td>\n",
              "      <td>1.0</td>\n",
              "      <td>2.350888</td>\n",
              "      <td>48.880724</td>\n",
              "      <td>91000.0</td>\n",
              "      <td>2021-06-03</td>\n",
              "    </tr>\n",
              "    <tr>\n",
              "      <th>197</th>\n",
              "      <td>2</td>\n",
              "      <td>12.0</td>\n",
              "      <td>1.0</td>\n",
              "      <td>2.350984</td>\n",
              "      <td>48.881206</td>\n",
              "      <td>140000.0</td>\n",
              "      <td>2021-05-07</td>\n",
              "    </tr>\n",
              "    <tr>\n",
              "      <th>...</th>\n",
              "      <td>...</td>\n",
              "      <td>...</td>\n",
              "      <td>...</td>\n",
              "      <td>...</td>\n",
              "      <td>...</td>\n",
              "      <td>...</td>\n",
              "      <td>...</td>\n",
              "    </tr>\n",
              "    <tr>\n",
              "      <th>16477</th>\n",
              "      <td>2</td>\n",
              "      <td>12.0</td>\n",
              "      <td>1.0</td>\n",
              "      <td>2.368337</td>\n",
              "      <td>48.883334</td>\n",
              "      <td>193000.0</td>\n",
              "      <td>2019-10-28</td>\n",
              "    </tr>\n",
              "    <tr>\n",
              "      <th>16505</th>\n",
              "      <td>2</td>\n",
              "      <td>13.0</td>\n",
              "      <td>1.0</td>\n",
              "      <td>2.368047</td>\n",
              "      <td>48.882474</td>\n",
              "      <td>135500.0</td>\n",
              "      <td>2019-02-07</td>\n",
              "    </tr>\n",
              "    <tr>\n",
              "      <th>16535</th>\n",
              "      <td>2</td>\n",
              "      <td>13.0</td>\n",
              "      <td>1.0</td>\n",
              "      <td>2.367354</td>\n",
              "      <td>48.882305</td>\n",
              "      <td>128000.0</td>\n",
              "      <td>2018-06-22</td>\n",
              "    </tr>\n",
              "    <tr>\n",
              "      <th>16567</th>\n",
              "      <td>4</td>\n",
              "      <td>9.0</td>\n",
              "      <td>0.0</td>\n",
              "      <td>2.368040</td>\n",
              "      <td>48.882832</td>\n",
              "      <td>20000.0</td>\n",
              "      <td>2017-10-10</td>\n",
              "    </tr>\n",
              "    <tr>\n",
              "      <th>16590</th>\n",
              "      <td>2</td>\n",
              "      <td>9.0</td>\n",
              "      <td>1.0</td>\n",
              "      <td>2.368305</td>\n",
              "      <td>48.882543</td>\n",
              "      <td>42500.0</td>\n",
              "      <td>2017-03-17</td>\n",
              "    </tr>\n",
              "  </tbody>\n",
              "</table>\n",
              "<p>532 rows × 7 columns</p>\n",
              "</div>\n",
              "      <button class=\"colab-df-convert\" onclick=\"convertToInteractive('df-d821d0c8-2aab-4106-9f46-2c94e3740037')\"\n",
              "              title=\"Convert this dataframe to an interactive table.\"\n",
              "              style=\"display:none;\">\n",
              "        \n",
              "  <svg xmlns=\"http://www.w3.org/2000/svg\" height=\"24px\"viewBox=\"0 0 24 24\"\n",
              "       width=\"24px\">\n",
              "    <path d=\"M0 0h24v24H0V0z\" fill=\"none\"/>\n",
              "    <path d=\"M18.56 5.44l.94 2.06.94-2.06 2.06-.94-2.06-.94-.94-2.06-.94 2.06-2.06.94zm-11 1L8.5 8.5l.94-2.06 2.06-.94-2.06-.94L8.5 2.5l-.94 2.06-2.06.94zm10 10l.94 2.06.94-2.06 2.06-.94-2.06-.94-.94-2.06-.94 2.06-2.06.94z\"/><path d=\"M17.41 7.96l-1.37-1.37c-.4-.4-.92-.59-1.43-.59-.52 0-1.04.2-1.43.59L10.3 9.45l-7.72 7.72c-.78.78-.78 2.05 0 2.83L4 21.41c.39.39.9.59 1.41.59.51 0 1.02-.2 1.41-.59l7.78-7.78 2.81-2.81c.8-.78.8-2.07 0-2.86zM5.41 20L4 18.59l7.72-7.72 1.47 1.35L5.41 20z\"/>\n",
              "  </svg>\n",
              "      </button>\n",
              "      \n",
              "  <style>\n",
              "    .colab-df-container {\n",
              "      display:flex;\n",
              "      flex-wrap:wrap;\n",
              "      gap: 12px;\n",
              "    }\n",
              "\n",
              "    .colab-df-convert {\n",
              "      background-color: #E8F0FE;\n",
              "      border: none;\n",
              "      border-radius: 50%;\n",
              "      cursor: pointer;\n",
              "      display: none;\n",
              "      fill: #1967D2;\n",
              "      height: 32px;\n",
              "      padding: 0 0 0 0;\n",
              "      width: 32px;\n",
              "    }\n",
              "\n",
              "    .colab-df-convert:hover {\n",
              "      background-color: #E2EBFA;\n",
              "      box-shadow: 0px 1px 2px rgba(60, 64, 67, 0.3), 0px 1px 3px 1px rgba(60, 64, 67, 0.15);\n",
              "      fill: #174EA6;\n",
              "    }\n",
              "\n",
              "    [theme=dark] .colab-df-convert {\n",
              "      background-color: #3B4455;\n",
              "      fill: #D2E3FC;\n",
              "    }\n",
              "\n",
              "    [theme=dark] .colab-df-convert:hover {\n",
              "      background-color: #434B5C;\n",
              "      box-shadow: 0px 1px 3px 1px rgba(0, 0, 0, 0.15);\n",
              "      filter: drop-shadow(0px 1px 2px rgba(0, 0, 0, 0.3));\n",
              "      fill: #FFFFFF;\n",
              "    }\n",
              "  </style>\n",
              "\n",
              "      <script>\n",
              "        const buttonEl =\n",
              "          document.querySelector('#df-d821d0c8-2aab-4106-9f46-2c94e3740037 button.colab-df-convert');\n",
              "        buttonEl.style.display =\n",
              "          google.colab.kernel.accessAllowed ? 'block' : 'none';\n",
              "\n",
              "        async function convertToInteractive(key) {\n",
              "          const element = document.querySelector('#df-d821d0c8-2aab-4106-9f46-2c94e3740037');\n",
              "          const dataTable =\n",
              "            await google.colab.kernel.invokeFunction('convertToInteractive',\n",
              "                                                     [key], {});\n",
              "          if (!dataTable) return;\n",
              "\n",
              "          const docLinkHtml = 'Like what you see? Visit the ' +\n",
              "            '<a target=\"_blank\" href=https://colab.research.google.com/notebooks/data_table.ipynb>data table notebook</a>'\n",
              "            + ' to learn more about interactive tables.';\n",
              "          element.innerHTML = '';\n",
              "          dataTable['output_type'] = 'display_data';\n",
              "          await google.colab.output.renderOutput(dataTable, element);\n",
              "          const docLink = document.createElement('div');\n",
              "          docLink.innerHTML = docLinkHtml;\n",
              "          element.appendChild(docLink);\n",
              "        }\n",
              "      </script>\n",
              "    </div>\n",
              "  </div>\n",
              "  "
            ]
          },
          "metadata": {},
          "execution_count": 63
        }
      ]
    },
    {
      "cell_type": "code",
      "source": [
        "final_data.loc[final_data.surface_reelle_bati<=13].nombre_pieces_principales.unique()"
      ],
      "metadata": {
        "colab": {
          "base_uri": "https://localhost:8080/"
        },
        "id": "0VWSuDTdZxvJ",
        "outputId": "84108fd9-3f4c-4c24-9310-9c6c8cb4d83f"
      },
      "execution_count": null,
      "outputs": [
        {
          "output_type": "execute_result",
          "data": {
            "text/plain": [
              "array([1., 0., 2.])"
            ]
          },
          "metadata": {},
          "execution_count": 64
        }
      ]
    },
    {
      "cell_type": "code",
      "source": [
        "final_data.loc[final_data.surface_reelle_bati<=13].code_type_local.unique()"
      ],
      "metadata": {
        "colab": {
          "base_uri": "https://localhost:8080/"
        },
        "id": "p3Ul0IlmaEHf",
        "outputId": "d3cd2a1e-f5ce-4016-d375-11c8ed0aa3ba"
      },
      "execution_count": null,
      "outputs": [
        {
          "output_type": "execute_result",
          "data": {
            "text/plain": [
              "array([2, 4])"
            ]
          },
          "metadata": {},
          "execution_count": 65
        }
      ]
    },
    {
      "cell_type": "markdown",
      "source": [
        "potentially buildings with surface_reelle_bati<=13 correspond to garages, student residence rooms,..."
      ],
      "metadata": {
        "id": "NNOO5-FRaPxM"
      }
    },
    {
      "cell_type": "code",
      "source": [
        "final_data.loc[final_data.surface_reelle_bati<=5].nombre_pieces_principales.unique()"
      ],
      "metadata": {
        "colab": {
          "base_uri": "https://localhost:8080/"
        },
        "id": "RvnlKTZYcFOt",
        "outputId": "d91c347e-7de3-425f-e42b-5cb63941fb13"
      },
      "execution_count": null,
      "outputs": [
        {
          "output_type": "execute_result",
          "data": {
            "text/plain": [
              "array([0., 1.])"
            ]
          },
          "metadata": {},
          "execution_count": 66
        }
      ]
    },
    {
      "cell_type": "code",
      "source": [
        "final_data.loc[final_data.surface_reelle_bati<=6].nombre_pieces_principales.unique()"
      ],
      "metadata": {
        "colab": {
          "base_uri": "https://localhost:8080/"
        },
        "id": "N5L9kv2fcT7F",
        "outputId": "8a49bb9a-5ce7-43f5-af6e-0c122a5dbf14"
      },
      "execution_count": null,
      "outputs": [
        {
          "output_type": "execute_result",
          "data": {
            "text/plain": [
              "array([1., 0., 2.])"
            ]
          },
          "metadata": {},
          "execution_count": 67
        }
      ]
    },
    {
      "cell_type": "code",
      "source": [
        "len(final_data.loc[final_data.surface_reelle_bati==2])"
      ],
      "metadata": {
        "colab": {
          "base_uri": "https://localhost:8080/"
        },
        "id": "7FLklJ2OalCT",
        "outputId": "ad8d6c50-6de0-4e56-984f-5d2f547ba9bf"
      },
      "execution_count": null,
      "outputs": [
        {
          "output_type": "execute_result",
          "data": {
            "text/plain": [
              "2"
            ]
          },
          "metadata": {},
          "execution_count": 68
        }
      ]
    },
    {
      "cell_type": "code",
      "source": [
        "len(final_data.loc[final_data.surface_reelle_bati<=3])"
      ],
      "metadata": {
        "colab": {
          "base_uri": "https://localhost:8080/"
        },
        "id": "FmpwwQtbax_G",
        "outputId": "af3604de-5e63-4f37-e054-b997a77ecae1"
      },
      "execution_count": null,
      "outputs": [
        {
          "output_type": "execute_result",
          "data": {
            "text/plain": [
              "8"
            ]
          },
          "metadata": {},
          "execution_count": 69
        }
      ]
    },
    {
      "cell_type": "code",
      "source": [
        "len(final_data.loc[final_data.surface_reelle_bati<=5])"
      ],
      "metadata": {
        "colab": {
          "base_uri": "https://localhost:8080/"
        },
        "id": "47S4NLLfbMP_",
        "outputId": "250b400f-93bc-4551-eb7f-bdc30e83b7c9"
      },
      "execution_count": null,
      "outputs": [
        {
          "output_type": "execute_result",
          "data": {
            "text/plain": [
              "19"
            ]
          },
          "metadata": {},
          "execution_count": 70
        }
      ]
    },
    {
      "cell_type": "code",
      "source": [
        "len(final_data.loc[final_data.surface_reelle_bati<=6])"
      ],
      "metadata": {
        "id": "e47cE0DObc43",
        "outputId": "eb43fe0e-c84c-4c56-ab00-95df1b9f8f20",
        "colab": {
          "base_uri": "https://localhost:8080/"
        }
      },
      "execution_count": null,
      "outputs": [
        {
          "output_type": "execute_result",
          "data": {
            "text/plain": [
              "46"
            ]
          },
          "metadata": {},
          "execution_count": 71
        }
      ]
    },
    {
      "cell_type": "code",
      "source": [
        "len(final_data.loc[final_data.surface_reelle_bati<=7])"
      ],
      "metadata": {
        "colab": {
          "base_uri": "https://localhost:8080/"
        },
        "id": "NvGoYeSpbUSs",
        "outputId": "b3d37866-694d-46bb-e07d-bb91aa7e46ec"
      },
      "execution_count": null,
      "outputs": [
        {
          "output_type": "execute_result",
          "data": {
            "text/plain": [
              "80"
            ]
          },
          "metadata": {},
          "execution_count": 72
        }
      ]
    },
    {
      "cell_type": "code",
      "source": [
        "len(final_data.loc[final_data.surface_reelle_bati<9])"
      ],
      "metadata": {
        "colab": {
          "base_uri": "https://localhost:8080/"
        },
        "id": "2m_LWN3IbOsE",
        "outputId": "94b15e4c-1142-40de-df69-36668062bb5b"
      },
      "execution_count": null,
      "outputs": [
        {
          "output_type": "execute_result",
          "data": {
            "text/plain": [
              "124"
            ]
          },
          "metadata": {},
          "execution_count": 73
        }
      ]
    },
    {
      "cell_type": "markdown",
      "source": [
        "**winsorisation (clipping)**"
      ],
      "metadata": {
        "id": "c_3KoYlLRkt2"
      }
    },
    {
      "cell_type": "markdown",
      "source": [
        "we set minimum_surface_reelle_bati=9. So all surface_reelle_bati values below 9 will be replaced by this min_value (clipping)"
      ],
      "metadata": {
        "id": "ZSmzOhW2bItM"
      }
    },
    {
      "cell_type": "code",
      "source": [
        "final_data.loc[final_data.surface_reelle_bati<9,'surface_reelle_bati']=9"
      ],
      "metadata": {
        "id": "C46DF8ZY5maU"
      },
      "execution_count": null,
      "outputs": []
    },
    {
      "cell_type": "code",
      "source": [
        "plt.figure(figsize=(10,10))\n",
        "sns.histplot(final_data.surface_reelle_bati,stat='density',label='distribution')\n",
        "sns.kdeplot(final_data.surface_reelle_bati,color='r',label='kde')\n",
        "plt.legend()\n",
        "plt.show()"
      ],
      "metadata": {
        "colab": {
          "base_uri": "https://localhost:8080/",
          "height": 606
        },
        "id": "k-9Su9rs7-vy",
        "outputId": "99a5f148-e837-40be-a850-973f927fb591"
      },
      "execution_count": null,
      "outputs": [
        {
          "output_type": "display_data",
          "data": {
            "text/plain": [
              "<Figure size 720x720 with 1 Axes>"
            ],
            "image/png": "[encoded data removed]"
          },
          "metadata": {
            "needs_background": "light"
          }
        }
      ]
    },
    {
      "cell_type": "markdown",
      "source": [
        "we remark that surface_reelle_bati distribution is highly spread due to outliers."
      ],
      "metadata": {
        "id": "eOaewh2052ui"
      }
    },
    {
      "cell_type": "code",
      "source": [
        "len(final_data.loc[final_data.surface_reelle_bati>=300])"
      ],
      "metadata": {
        "colab": {
          "base_uri": "https://localhost:8080/"
        },
        "id": "kQDwdZxUltsL",
        "outputId": "783c368d-ae4f-475e-bcb3-14641c193e84"
      },
      "execution_count": null,
      "outputs": [
        {
          "output_type": "execute_result",
          "data": {
            "text/plain": [
              "30"
            ]
          },
          "metadata": {},
          "execution_count": 76
        }
      ]
    },
    {
      "cell_type": "code",
      "source": [
        "final_data.loc[final_data.surface_reelle_bati>=300]"
      ],
      "metadata": {
        "colab": {
          "base_uri": "https://localhost:8080/",
          "height": 990
        },
        "id": "S7hb4oOTl9hw",
        "outputId": "48ddebb6-6add-439c-c3e7-d160428d29e4"
      },
      "execution_count": null,
      "outputs": [
        {
          "output_type": "execute_result",
          "data": {
            "text/plain": [
              "       code_type_local  surface_reelle_bati  nombre_pieces_principales  \\\n",
              "450                  4               4000.0                        0.0   \n",
              "2044                 4                533.0                        0.0   \n",
              "2188                 4                472.0                        0.0   \n",
              "2579                 4                519.0                        0.0   \n",
              "2762                 4                333.0                        0.0   \n",
              "3296                 4                434.0                        0.0   \n",
              "4780                 4               1767.0                        0.0   \n",
              "5844                 4                500.0                        0.0   \n",
              "5845                 4                530.0                        0.0   \n",
              "5846                 4                530.0                        0.0   \n",
              "6507                 4                578.0                        0.0   \n",
              "8185                 4                490.0                        0.0   \n",
              "8433                 4                570.0                        0.0   \n",
              "9269                 4                592.0                        0.0   \n",
              "9272                 4                552.0                        0.0   \n",
              "10687                4                428.0                        0.0   \n",
              "10688                4               2000.0                        0.0   \n",
              "10948                4                455.0                        0.0   \n",
              "11034                4                473.0                        0.0   \n",
              "11058                4                604.0                        0.0   \n",
              "11912                4               1000.0                        0.0   \n",
              "12089                4                320.0                        0.0   \n",
              "12592                4                323.0                        0.0   \n",
              "13351                4                430.0                        0.0   \n",
              "13961                4                460.0                        0.0   \n",
              "14124                4                787.0                        0.0   \n",
              "14459                4                317.0                        0.0   \n",
              "14787                4               1106.0                        0.0   \n",
              "16339                4                434.0                        0.0   \n",
              "16340                4                434.0                        0.0   \n",
              "\n",
              "       longitude   latitude  valeur_fonciere date_mutation  \n",
              "450     2.350548  48.881353      20000000.00    2018-10-26  \n",
              "2044    2.363313  48.881662       3700000.00    2019-03-20  \n",
              "2188    2.363524  48.880239       2583800.00    2017-03-24  \n",
              "2579    2.357215  48.876524       2875000.00    2019-09-18  \n",
              "2762    2.353517  48.878051       1842000.00    2020-10-23  \n",
              "3296    2.353182  48.878800       3700000.00    2021-04-16  \n",
              "4780    2.353717  48.874363        500000.00    2021-02-16  \n",
              "5844    2.348519  48.872668       4833752.50    2020-01-14  \n",
              "5845    2.348519  48.872668       4833752.50    2020-01-14  \n",
              "5846    2.348519  48.872668       4833752.50    2020-01-14  \n",
              "6507    2.353415  48.872960       3481820.00    2017-04-24  \n",
              "8185    2.357519  48.870676        158710.81    2020-11-09  \n",
              "8433    2.359116  48.871265       3190000.00    2017-07-18  \n",
              "9269    2.365491  48.872763       1600000.00    2020-02-28  \n",
              "9272    2.365401  48.872385       1600000.00    2020-02-28  \n",
              "10687   2.362571  48.870815       4000000.00    2019-03-06  \n",
              "10688   2.362571  48.870815       4000000.00    2019-03-06  \n",
              "10948   2.360404  48.869034       4278800.00    2020-03-16  \n",
              "11034   2.361515  48.868794        532000.00    2018-02-28  \n",
              "11058   2.360723  48.869068       6000000.00    2017-07-19  \n",
              "11912   2.364711  48.869983       7500000.00    2019-07-23  \n",
              "12089   2.365136  48.870245       1830000.00    2018-01-25  \n",
              "12592   2.373791  48.871144       1275000.00    2019-09-27  \n",
              "13351   2.371885  48.873209       3800000.00    2021-10-29  \n",
              "13961   2.371326  48.875273       3800000.00    2020-12-18  \n",
              "14124   2.370006  48.874673       1800000.00    2019-08-26  \n",
              "14459   2.364377  48.875051       1225000.00    2020-11-02  \n",
              "14787   2.363498  48.875876       5700000.00    2018-03-26  \n",
              "16339   2.369409  48.880528        998360.70    2018-08-09  \n",
              "16340   2.369409  48.880528       2880000.00    2018-08-09  "
            ],
            "text/html": [
              "\n",
              "  <div id=\"df-1ed8183e-0ca2-4418-a705-0f01a9344a1f\">\n",
              "    <div class=\"colab-df-container\">\n",
              "      <div>\n",
              "<style scoped>\n",
              "    .dataframe tbody tr th:only-of-type {\n",
              "        vertical-align: middle;\n",
              "    }\n",
              "\n",
              "    .dataframe tbody tr th {\n",
              "        vertical-align: top;\n",
              "    }\n",
              "\n",
              "    .dataframe thead th {\n",
              "        text-align: right;\n",
              "    }\n",
              "</style>\n",
              "<table border=\"1\" class=\"dataframe\">\n",
              "  <thead>\n",
              "    <tr style=\"text-align: right;\">\n",
              "      <th></th>\n",
              "      <th>code_type_local</th>\n",
              "      <th>surface_reelle_bati</th>\n",
              "      <th>nombre_pieces_principales</th>\n",
              "      <th>longitude</th>\n",
              "      <th>latitude</th>\n",
              "      <th>valeur_fonciere</th>\n",
              "      <th>date_mutation</th>\n",
              "    </tr>\n",
              "  </thead>\n",
              "  <tbody>\n",
              "    <tr>\n",
              "      <th>450</th>\n",
              "      <td>4</td>\n",
              "      <td>4000.0</td>\n",
              "      <td>0.0</td>\n",
              "      <td>2.350548</td>\n",
              "      <td>48.881353</td>\n",
              "      <td>20000000.00</td>\n",
              "      <td>2018-10-26</td>\n",
              "    </tr>\n",
              "    <tr>\n",
              "      <th>2044</th>\n",
              "      <td>4</td>\n",
              "      <td>533.0</td>\n",
              "      <td>0.0</td>\n",
              "      <td>2.363313</td>\n",
              "      <td>48.881662</td>\n",
              "      <td>3700000.00</td>\n",
              "      <td>2019-03-20</td>\n",
              "    </tr>\n",
              "    <tr>\n",
              "      <th>2188</th>\n",
              "      <td>4</td>\n",
              "      <td>472.0</td>\n",
              "      <td>0.0</td>\n",
              "      <td>2.363524</td>\n",
              "      <td>48.880239</td>\n",
              "      <td>2583800.00</td>\n",
              "      <td>2017-03-24</td>\n",
              "    </tr>\n",
              "    <tr>\n",
              "      <th>2579</th>\n",
              "      <td>4</td>\n",
              "      <td>519.0</td>\n",
              "      <td>0.0</td>\n",
              "      <td>2.357215</td>\n",
              "      <td>48.876524</td>\n",
              "      <td>2875000.00</td>\n",
              "      <td>2019-09-18</td>\n",
              "    </tr>\n",
              "    <tr>\n",
              "      <th>2762</th>\n",
              "      <td>4</td>\n",
              "      <td>333.0</td>\n",
              "      <td>0.0</td>\n",
              "      <td>2.353517</td>\n",
              "      <td>48.878051</td>\n",
              "      <td>1842000.00</td>\n",
              "      <td>2020-10-23</td>\n",
              "    </tr>\n",
              "    <tr>\n",
              "      <th>3296</th>\n",
              "      <td>4</td>\n",
              "      <td>434.0</td>\n",
              "      <td>0.0</td>\n",
              "      <td>2.353182</td>\n",
              "      <td>48.878800</td>\n",
              "      <td>3700000.00</td>\n",
              "      <td>2021-04-16</td>\n",
              "    </tr>\n",
              "    <tr>\n",
              "      <th>4780</th>\n",
              "      <td>4</td>\n",
              "      <td>1767.0</td>\n",
              "      <td>0.0</td>\n",
              "      <td>2.353717</td>\n",
              "      <td>48.874363</td>\n",
              "      <td>500000.00</td>\n",
              "      <td>2021-02-16</td>\n",
              "    </tr>\n",
              "    <tr>\n",
              "      <th>5844</th>\n",
              "      <td>4</td>\n",
              "      <td>500.0</td>\n",
              "      <td>0.0</td>\n",
              "      <td>2.348519</td>\n",
              "      <td>48.872668</td>\n",
              "      <td>4833752.50</td>\n",
              "      <td>2020-01-14</td>\n",
              "    </tr>\n",
              "    <tr>\n",
              "      <th>5845</th>\n",
              "      <td>4</td>\n",
              "      <td>530.0</td>\n",
              "      <td>0.0</td>\n",
              "      <td>2.348519</td>\n",
              "      <td>48.872668</td>\n",
              "      <td>4833752.50</td>\n",
              "      <td>2020-01-14</td>\n",
              "    </tr>\n",
              "    <tr>\n",
              "      <th>5846</th>\n",
              "      <td>4</td>\n",
              "      <td>530.0</td>\n",
              "      <td>0.0</td>\n",
              "      <td>2.348519</td>\n",
              "      <td>48.872668</td>\n",
              "      <td>4833752.50</td>\n",
              "      <td>2020-01-14</td>\n",
              "    </tr>\n",
              "    <tr>\n",
              "      <th>6507</th>\n",
              "      <td>4</td>\n",
              "      <td>578.0</td>\n",
              "      <td>0.0</td>\n",
              "      <td>2.353415</td>\n",
              "      <td>48.872960</td>\n",
              "      <td>3481820.00</td>\n",
              "      <td>2017-04-24</td>\n",
              "    </tr>\n",
              "    <tr>\n",
              "      <th>8185</th>\n",
              "      <td>4</td>\n",
              "      <td>490.0</td>\n",
              "      <td>0.0</td>\n",
              "      <td>2.357519</td>\n",
              "      <td>48.870676</td>\n",
              "      <td>158710.81</td>\n",
              "      <td>2020-11-09</td>\n",
              "    </tr>\n",
              "    <tr>\n",
              "      <th>8433</th>\n",
              "      <td>4</td>\n",
              "      <td>570.0</td>\n",
              "      <td>0.0</td>\n",
              "      <td>2.359116</td>\n",
              "      <td>48.871265</td>\n",
              "      <td>3190000.00</td>\n",
              "      <td>2017-07-18</td>\n",
              "    </tr>\n",
              "    <tr>\n",
              "      <th>9269</th>\n",
              "      <td>4</td>\n",
              "      <td>592.0</td>\n",
              "      <td>0.0</td>\n",
              "      <td>2.365491</td>\n",
              "      <td>48.872763</td>\n",
              "      <td>1600000.00</td>\n",
              "      <td>2020-02-28</td>\n",
              "    </tr>\n",
              "    <tr>\n",
              "      <th>9272</th>\n",
              "      <td>4</td>\n",
              "      <td>552.0</td>\n",
              "      <td>0.0</td>\n",
              "      <td>2.365401</td>\n",
              "      <td>48.872385</td>\n",
              "      <td>1600000.00</td>\n",
              "      <td>2020-02-28</td>\n",
              "    </tr>\n",
              "    <tr>\n",
              "      <th>10687</th>\n",
              "      <td>4</td>\n",
              "      <td>428.0</td>\n",
              "      <td>0.0</td>\n",
              "      <td>2.362571</td>\n",
              "      <td>48.870815</td>\n",
              "      <td>4000000.00</td>\n",
              "      <td>2019-03-06</td>\n",
              "    </tr>\n",
              "    <tr>\n",
              "      <th>10688</th>\n",
              "      <td>4</td>\n",
              "      <td>2000.0</td>\n",
              "      <td>0.0</td>\n",
              "      <td>2.362571</td>\n",
              "      <td>48.870815</td>\n",
              "      <td>4000000.00</td>\n",
              "      <td>2019-03-06</td>\n",
              "    </tr>\n",
              "    <tr>\n",
              "      <th>10948</th>\n",
              "      <td>4</td>\n",
              "      <td>455.0</td>\n",
              "      <td>0.0</td>\n",
              "      <td>2.360404</td>\n",
              "      <td>48.869034</td>\n",
              "      <td>4278800.00</td>\n",
              "      <td>2020-03-16</td>\n",
              "    </tr>\n",
              "    <tr>\n",
              "      <th>11034</th>\n",
              "      <td>4</td>\n",
              "      <td>473.0</td>\n",
              "      <td>0.0</td>\n",
              "      <td>2.361515</td>\n",
              "      <td>48.868794</td>\n",
              "      <td>532000.00</td>\n",
              "      <td>2018-02-28</td>\n",
              "    </tr>\n",
              "    <tr>\n",
              "      <th>11058</th>\n",
              "      <td>4</td>\n",
              "      <td>604.0</td>\n",
              "      <td>0.0</td>\n",
              "      <td>2.360723</td>\n",
              "      <td>48.869068</td>\n",
              "      <td>6000000.00</td>\n",
              "      <td>2017-07-19</td>\n",
              "    </tr>\n",
              "    <tr>\n",
              "      <th>11912</th>\n",
              "      <td>4</td>\n",
              "      <td>1000.0</td>\n",
              "      <td>0.0</td>\n",
              "      <td>2.364711</td>\n",
              "      <td>48.869983</td>\n",
              "      <td>7500000.00</td>\n",
              "      <td>2019-07-23</td>\n",
              "    </tr>\n",
              "    <tr>\n",
              "      <th>12089</th>\n",
              "      <td>4</td>\n",
              "      <td>320.0</td>\n",
              "      <td>0.0</td>\n",
              "      <td>2.365136</td>\n",
              "      <td>48.870245</td>\n",
              "      <td>1830000.00</td>\n",
              "      <td>2018-01-25</td>\n",
              "    </tr>\n",
              "    <tr>\n",
              "      <th>12592</th>\n",
              "      <td>4</td>\n",
              "      <td>323.0</td>\n",
              "      <td>0.0</td>\n",
              "      <td>2.373791</td>\n",
              "      <td>48.871144</td>\n",
              "      <td>1275000.00</td>\n",
              "      <td>2019-09-27</td>\n",
              "    </tr>\n",
              "    <tr>\n",
              "      <th>13351</th>\n",
              "      <td>4</td>\n",
              "      <td>430.0</td>\n",
              "      <td>0.0</td>\n",
              "      <td>2.371885</td>\n",
              "      <td>48.873209</td>\n",
              "      <td>3800000.00</td>\n",
              "      <td>2021-10-29</td>\n",
              "    </tr>\n",
              "    <tr>\n",
              "      <th>13961</th>\n",
              "      <td>4</td>\n",
              "      <td>460.0</td>\n",
              "      <td>0.0</td>\n",
              "      <td>2.371326</td>\n",
              "      <td>48.875273</td>\n",
              "      <td>3800000.00</td>\n",
              "      <td>2020-12-18</td>\n",
              "    </tr>\n",
              "    <tr>\n",
              "      <th>14124</th>\n",
              "      <td>4</td>\n",
              "      <td>787.0</td>\n",
              "      <td>0.0</td>\n",
              "      <td>2.370006</td>\n",
              "      <td>48.874673</td>\n",
              "      <td>1800000.00</td>\n",
              "      <td>2019-08-26</td>\n",
              "    </tr>\n",
              "    <tr>\n",
              "      <th>14459</th>\n",
              "      <td>4</td>\n",
              "      <td>317.0</td>\n",
              "      <td>0.0</td>\n",
              "      <td>2.364377</td>\n",
              "      <td>48.875051</td>\n",
              "      <td>1225000.00</td>\n",
              "      <td>2020-11-02</td>\n",
              "    </tr>\n",
              "    <tr>\n",
              "      <th>14787</th>\n",
              "      <td>4</td>\n",
              "      <td>1106.0</td>\n",
              "      <td>0.0</td>\n",
              "      <td>2.363498</td>\n",
              "      <td>48.875876</td>\n",
              "      <td>5700000.00</td>\n",
              "      <td>2018-03-26</td>\n",
              "    </tr>\n",
              "    <tr>\n",
              "      <th>16339</th>\n",
              "      <td>4</td>\n",
              "      <td>434.0</td>\n",
              "      <td>0.0</td>\n",
              "      <td>2.369409</td>\n",
              "      <td>48.880528</td>\n",
              "      <td>998360.70</td>\n",
              "      <td>2018-08-09</td>\n",
              "    </tr>\n",
              "    <tr>\n",
              "      <th>16340</th>\n",
              "      <td>4</td>\n",
              "      <td>434.0</td>\n",
              "      <td>0.0</td>\n",
              "      <td>2.369409</td>\n",
              "      <td>48.880528</td>\n",
              "      <td>2880000.00</td>\n",
              "      <td>2018-08-09</td>\n",
              "    </tr>\n",
              "  </tbody>\n",
              "</table>\n",
              "</div>\n",
              "      <button class=\"colab-df-convert\" onclick=\"convertToInteractive('df-1ed8183e-0ca2-4418-a705-0f01a9344a1f')\"\n",
              "              title=\"Convert this dataframe to an interactive table.\"\n",
              "              style=\"display:none;\">\n",
              "        \n",
              "  <svg xmlns=\"http://www.w3.org/2000/svg\" height=\"24px\"viewBox=\"0 0 24 24\"\n",
              "       width=\"24px\">\n",
              "    <path d=\"M0 0h24v24H0V0z\" fill=\"none\"/>\n",
              "    <path d=\"M18.56 5.44l.94 2.06.94-2.06 2.06-.94-2.06-.94-.94-2.06-.94 2.06-2.06.94zm-11 1L8.5 8.5l.94-2.06 2.06-.94-2.06-.94L8.5 2.5l-.94 2.06-2.06.94zm10 10l.94 2.06.94-2.06 2.06-.94-2.06-.94-.94-2.06-.94 2.06-2.06.94z\"/><path d=\"M17.41 7.96l-1.37-1.37c-.4-.4-.92-.59-1.43-.59-.52 0-1.04.2-1.43.59L10.3 9.45l-7.72 7.72c-.78.78-.78 2.05 0 2.83L4 21.41c.39.39.9.59 1.41.59.51 0 1.02-.2 1.41-.59l7.78-7.78 2.81-2.81c.8-.78.8-2.07 0-2.86zM5.41 20L4 18.59l7.72-7.72 1.47 1.35L5.41 20z\"/>\n",
              "  </svg>\n",
              "      </button>\n",
              "      \n",
              "  <style>\n",
              "    .colab-df-container {\n",
              "      display:flex;\n",
              "      flex-wrap:wrap;\n",
              "      gap: 12px;\n",
              "    }\n",
              "\n",
              "    .colab-df-convert {\n",
              "      background-color: #E8F0FE;\n",
              "      border: none;\n",
              "      border-radius: 50%;\n",
              "      cursor: pointer;\n",
              "      display: none;\n",
              "      fill: #1967D2;\n",
              "      height: 32px;\n",
              "      padding: 0 0 0 0;\n",
              "      width: 32px;\n",
              "    }\n",
              "\n",
              "    .colab-df-convert:hover {\n",
              "      background-color: #E2EBFA;\n",
              "      box-shadow: 0px 1px 2px rgba(60, 64, 67, 0.3), 0px 1px 3px 1px rgba(60, 64, 67, 0.15);\n",
              "      fill: #174EA6;\n",
              "    }\n",
              "\n",
              "    [theme=dark] .colab-df-convert {\n",
              "      background-color: #3B4455;\n",
              "      fill: #D2E3FC;\n",
              "    }\n",
              "\n",
              "    [theme=dark] .colab-df-convert:hover {\n",
              "      background-color: #434B5C;\n",
              "      box-shadow: 0px 1px 3px 1px rgba(0, 0, 0, 0.15);\n",
              "      filter: drop-shadow(0px 1px 2px rgba(0, 0, 0, 0.3));\n",
              "      fill: #FFFFFF;\n",
              "    }\n",
              "  </style>\n",
              "\n",
              "      <script>\n",
              "        const buttonEl =\n",
              "          document.querySelector('#df-1ed8183e-0ca2-4418-a705-0f01a9344a1f button.colab-df-convert');\n",
              "        buttonEl.style.display =\n",
              "          google.colab.kernel.accessAllowed ? 'block' : 'none';\n",
              "\n",
              "        async function convertToInteractive(key) {\n",
              "          const element = document.querySelector('#df-1ed8183e-0ca2-4418-a705-0f01a9344a1f');\n",
              "          const dataTable =\n",
              "            await google.colab.kernel.invokeFunction('convertToInteractive',\n",
              "                                                     [key], {});\n",
              "          if (!dataTable) return;\n",
              "\n",
              "          const docLinkHtml = 'Like what you see? Visit the ' +\n",
              "            '<a target=\"_blank\" href=https://colab.research.google.com/notebooks/data_table.ipynb>data table notebook</a>'\n",
              "            + ' to learn more about interactive tables.';\n",
              "          element.innerHTML = '';\n",
              "          dataTable['output_type'] = 'display_data';\n",
              "          await google.colab.output.renderOutput(dataTable, element);\n",
              "          const docLink = document.createElement('div');\n",
              "          docLink.innerHTML = docLinkHtml;\n",
              "          element.appendChild(docLink);\n",
              "        }\n",
              "      </script>\n",
              "    </div>\n",
              "  </div>\n",
              "  "
            ]
          },
          "metadata": {},
          "execution_count": 77
        }
      ]
    },
    {
      "cell_type": "markdown",
      "source": [
        "all buildings with area>300m2 are from class 4 (commercial, industrial or assimilated) and have 0 rooms."
      ],
      "metadata": {
        "id": "_WNLRRtT6L5x"
      }
    },
    {
      "cell_type": "markdown",
      "source": [
        "we can fix max_surface_reelle_bati=300"
      ],
      "metadata": {
        "id": "ePL0kCqBwVwP"
      }
    },
    {
      "cell_type": "code",
      "source": [
        "final_data.loc[final_data.surface_reelle_bati>=300,'surface_reelle_bati']=300"
      ],
      "metadata": {
        "id": "5pfX86boxjKQ"
      },
      "execution_count": null,
      "outputs": []
    },
    {
      "cell_type": "code",
      "source": [
        "plt.figure(figsize=(10,10))\n",
        "sns.histplot(final_data.surface_reelle_bati,stat='density',label='distribution')\n",
        "sns.kdeplot(final_data.surface_reelle_bati,color='r',label='kde')\n",
        "plt.legend()\n",
        "plt.show()"
      ],
      "metadata": {
        "colab": {
          "base_uri": "https://localhost:8080/",
          "height": 606
        },
        "id": "GtUSFWd_x1qV",
        "outputId": "926c55f3-68ed-4840-ac42-9d31735b7d21"
      },
      "execution_count": null,
      "outputs": [
        {
          "output_type": "display_data",
          "data": {
            "text/plain": [
              "<Figure size 720x720 with 1 Axes>"
            ],
            "image/png": "[encoded data removed]"
          },
          "metadata": {
            "needs_background": "light"
          }
        }
      ]
    },
    {
      "cell_type": "markdown",
      "source": [
        "**we move now to number of rooms**"
      ],
      "metadata": {
        "id": "9bFM1qJaRvqn"
      }
    },
    {
      "cell_type": "code",
      "source": [
        "final_data.nombre_pieces_principales.value_counts().plot(kind='bar')\n"
      ],
      "metadata": {
        "colab": {
          "base_uri": "https://localhost:8080/",
          "height": 294
        },
        "id": "K6XfUn5NBYC1",
        "outputId": "70e6ccf7-e9de-4a11-92d2-9cef70f43469"
      },
      "execution_count": null,
      "outputs": [
        {
          "output_type": "execute_result",
          "data": {
            "text/plain": [
              "<matplotlib.axes._subplots.AxesSubplot at 0x7f8554677550>"
            ]
          },
          "metadata": {},
          "execution_count": 80
        },
        {
          "output_type": "display_data",
          "data": {
            "text/plain": [
              "<Figure size 432x288 with 1 Axes>"
            ],
            "image/png": "[encoded data removed]"
          },
          "metadata": {
            "needs_background": "light"
          }
        }
      ]
    },
    {
      "cell_type": "code",
      "source": [
        "#remove classes with few samples (class6 and above) to avoid class imbalance problem\n",
        "final_data=final_data.drop(final_data[final_data.nombre_pieces_principales>=6].index)"
      ],
      "metadata": {
        "id": "UVUo_4w9_duR"
      },
      "execution_count": null,
      "outputs": []
    },
    {
      "cell_type": "code",
      "source": [
        "final_data.groupby(['nombre_pieces_principales']).median()['surface_reelle_bati']"
      ],
      "metadata": {
        "colab": {
          "base_uri": "https://localhost:8080/"
        },
        "id": "CHLwXIVV8ix7",
        "outputId": "c34996fd-7378-460e-e613-fbb6a4c975f6"
      },
      "execution_count": null,
      "outputs": [
        {
          "output_type": "execute_result",
          "data": {
            "text/plain": [
              "nombre_pieces_principales\n",
              "0.0     58.0\n",
              "1.0     19.0\n",
              "2.0     35.0\n",
              "3.0     60.0\n",
              "4.0     84.0\n",
              "5.0    117.0\n",
              "Name: surface_reelle_bati, dtype: float64"
            ]
          },
          "metadata": {},
          "execution_count": 82
        }
      ]
    },
    {
      "cell_type": "code",
      "source": [
        "final_data.groupby(['nombre_pieces_principales']).mean()['surface_reelle_bati']"
      ],
      "metadata": {
        "colab": {
          "base_uri": "https://localhost:8080/"
        },
        "id": "5C_kx34Z-joM",
        "outputId": "8e10d9e9-480c-45da-8b18-110811ffe4c4"
      },
      "execution_count": null,
      "outputs": [
        {
          "output_type": "execute_result",
          "data": {
            "text/plain": [
              "nombre_pieces_principales\n",
              "0.0     82.111549\n",
              "1.0     20.722879\n",
              "2.0     37.023097\n",
              "3.0     61.270595\n",
              "4.0     87.463932\n",
              "5.0    118.549180\n",
              "Name: surface_reelle_bati, dtype: float64"
            ]
          },
          "metadata": {},
          "execution_count": 83
        }
      ]
    },
    {
      "cell_type": "markdown",
      "source": [
        "we remark from #rooms=1 to #rooms=5 there is a positive correlation between #rooms and surface_reelle_bati. It may seem strange for buildings with #rooms=0 to have relatively high average area but this is normal because large commercial, industrial and assimilated buildings are considered with 0 principle rooms (see cells below)"
      ],
      "metadata": {
        "id": "VyDxVApt90zt"
      }
    },
    {
      "cell_type": "code",
      "source": [
        "final_data.loc[(final_data['surface_reelle_bati']>50)&(final_data['nombre_pieces_principales']==0)].code_type_local"
      ],
      "metadata": {
        "colab": {
          "base_uri": "https://localhost:8080/"
        },
        "id": "hclSMv71puUZ",
        "outputId": "16e0034e-33e6-4ff2-9731-6b21de40bdbf"
      },
      "execution_count": null,
      "outputs": [
        {
          "output_type": "execute_result",
          "data": {
            "text/plain": [
              "22       4\n",
              "33       4\n",
              "59       4\n",
              "88       4\n",
              "171      4\n",
              "        ..\n",
              "16331    4\n",
              "16339    4\n",
              "16340    4\n",
              "16472    4\n",
              "16516    4\n",
              "Name: code_type_local, Length: 427, dtype: int64"
            ]
          },
          "metadata": {},
          "execution_count": 84
        }
      ]
    },
    {
      "cell_type": "code",
      "source": [
        "sum(final_data.loc[(final_data['surface_reelle_bati']>50)&(final_data['nombre_pieces_principales']==0)].code_type_local==4)"
      ],
      "metadata": {
        "colab": {
          "base_uri": "https://localhost:8080/"
        },
        "id": "e4DaDVaLoxkx",
        "outputId": "192d17b4-dcd4-4b03-ebf2-74b2df06a6df"
      },
      "execution_count": null,
      "outputs": [
        {
          "output_type": "execute_result",
          "data": {
            "text/plain": [
              "425"
            ]
          },
          "metadata": {},
          "execution_count": 85
        }
      ]
    },
    {
      "cell_type": "markdown",
      "source": [
        "425 out of 427 buildings with 0 pieces_principales and area > 50m2 are classified as commercial, indusrial or assimilated  "
      ],
      "metadata": {
        "id": "A2RbpW70p0Pj"
      }
    },
    {
      "cell_type": "markdown",
      "source": [
        "**valeur_fonciere**"
      ],
      "metadata": {
        "id": "xLPpHqaoy75Q"
      }
    },
    {
      "cell_type": "code",
      "source": [
        "final_data.valeur_fonciere.describe()"
      ],
      "metadata": {
        "colab": {
          "base_uri": "https://localhost:8080/"
        },
        "id": "_LcTrj6Q31Ck",
        "outputId": "8f679381-bbb3-4ab6-e6b1-20740f7916c3"
      },
      "execution_count": null,
      "outputs": [
        {
          "output_type": "execute_result",
          "data": {
            "text/plain": [
              "count    7.659000e+03\n",
              "mean     5.518513e+05\n",
              "std      9.670494e+05\n",
              "min      1.000000e+00\n",
              "25%      2.450000e+05\n",
              "50%      3.990000e+05\n",
              "75%      6.490000e+05\n",
              "max      2.350000e+07\n",
              "Name: valeur_fonciere, dtype: float64"
            ]
          },
          "metadata": {},
          "execution_count": 86
        }
      ]
    },
    {
      "cell_type": "code",
      "source": [
        "plt.figure(figsize=(10,10))\n",
        "sns.histplot(final_data.valeur_fonciere,stat='density',label='distribution')\n",
        "sns.kdeplot(final_data.valeur_fonciere,color='r',label='kde')\n",
        "plt.legend()\n",
        "plt.show()"
      ],
      "metadata": {
        "colab": {
          "base_uri": "https://localhost:8080/",
          "height": 617
        },
        "id": "nJ8gKF8M4hSe",
        "outputId": "24f9a4e5-2d2b-465a-a415-933e1ee6df61"
      },
      "execution_count": null,
      "outputs": [
        {
          "output_type": "display_data",
          "data": {
            "text/plain": [
              "<Figure size 720x720 with 1 Axes>"
            ],
            "image/png": "[encoded data removed]"
          },
          "metadata": {
            "needs_background": "light"
          }
        }
      ]
    },
    {
      "cell_type": "markdown",
      "source": [
        "clipping"
      ],
      "metadata": {
        "id": "Yh6NVW2SSDph"
      }
    },
    {
      "cell_type": "code",
      "source": [
        "final_data.loc[final_data.valeur_fonciere<10000]"
      ],
      "metadata": {
        "colab": {
          "base_uri": "https://localhost:8080/",
          "height": 363
        },
        "id": "w6qhOxFC4hYl",
        "outputId": "fac2ffa9-4699-4a95-84eb-7d21dd2a61d9"
      },
      "execution_count": null,
      "outputs": [
        {
          "output_type": "execute_result",
          "data": {
            "text/plain": [
              "       code_type_local  surface_reelle_bati  nombre_pieces_principales  \\\n",
              "1277                 2                 20.0                        2.0   \n",
              "2693                 2                 33.0                        2.0   \n",
              "3880                 2                 24.0                        1.0   \n",
              "3881                 2                 50.0                        3.0   \n",
              "3882                 2                 18.0                        1.0   \n",
              "5816                 4                 33.0                        0.0   \n",
              "6136                 2                104.0                        5.0   \n",
              "7624                 2                 37.0                        2.0   \n",
              "9169                 2                 39.0                        3.0   \n",
              "10887                2                106.0                        5.0   \n",
              "\n",
              "       longitude   latitude  valeur_fonciere date_mutation  \n",
              "1277    2.366658  48.882928              1.0    2021-06-03  \n",
              "2693    2.355193  48.877979           1000.0    2021-09-16  \n",
              "3880    2.354796  48.876121            500.0    2021-04-27  \n",
              "3881    2.354796  48.876121            500.0    2021-04-27  \n",
              "3882    2.354796  48.876121            500.0    2021-04-27  \n",
              "5816    2.348419  48.872523              4.8    2020-11-04  \n",
              "6136    2.353418  48.871705           1000.0    2021-04-21  \n",
              "7624    2.355399  48.869437           3000.0    2020-06-03  \n",
              "9169    2.362716  48.874000           4000.0    2021-05-19  \n",
              "10887   2.360572  48.868663            500.0    2021-06-29  "
            ],
            "text/html": [
              "\n",
              "  <div id=\"df-fae7e8fa-755c-417a-9dcd-fc9b3d3c4311\">\n",
              "    <div class=\"colab-df-container\">\n",
              "      <div>\n",
              "<style scoped>\n",
              "    .dataframe tbody tr th:only-of-type {\n",
              "        vertical-align: middle;\n",
              "    }\n",
              "\n",
              "    .dataframe tbody tr th {\n",
              "        vertical-align: top;\n",
              "    }\n",
              "\n",
              "    .dataframe thead th {\n",
              "        text-align: right;\n",
              "    }\n",
              "</style>\n",
              "<table border=\"1\" class=\"dataframe\">\n",
              "  <thead>\n",
              "    <tr style=\"text-align: right;\">\n",
              "      <th></th>\n",
              "      <th>code_type_local</th>\n",
              "      <th>surface_reelle_bati</th>\n",
              "      <th>nombre_pieces_principales</th>\n",
              "      <th>longitude</th>\n",
              "      <th>latitude</th>\n",
              "      <th>valeur_fonciere</th>\n",
              "      <th>date_mutation</th>\n",
              "    </tr>\n",
              "  </thead>\n",
              "  <tbody>\n",
              "    <tr>\n",
              "      <th>1277</th>\n",
              "      <td>2</td>\n",
              "      <td>20.0</td>\n",
              "      <td>2.0</td>\n",
              "      <td>2.366658</td>\n",
              "      <td>48.882928</td>\n",
              "      <td>1.0</td>\n",
              "      <td>2021-06-03</td>\n",
              "    </tr>\n",
              "    <tr>\n",
              "      <th>2693</th>\n",
              "      <td>2</td>\n",
              "      <td>33.0</td>\n",
              "      <td>2.0</td>\n",
              "      <td>2.355193</td>\n",
              "      <td>48.877979</td>\n",
              "      <td>1000.0</td>\n",
              "      <td>2021-09-16</td>\n",
              "    </tr>\n",
              "    <tr>\n",
              "      <th>3880</th>\n",
              "      <td>2</td>\n",
              "      <td>24.0</td>\n",
              "      <td>1.0</td>\n",
              "      <td>2.354796</td>\n",
              "      <td>48.876121</td>\n",
              "      <td>500.0</td>\n",
              "      <td>2021-04-27</td>\n",
              "    </tr>\n",
              "    <tr>\n",
              "      <th>3881</th>\n",
              "      <td>2</td>\n",
              "      <td>50.0</td>\n",
              "      <td>3.0</td>\n",
              "      <td>2.354796</td>\n",
              "      <td>48.876121</td>\n",
              "      <td>500.0</td>\n",
              "      <td>2021-04-27</td>\n",
              "    </tr>\n",
              "    <tr>\n",
              "      <th>3882</th>\n",
              "      <td>2</td>\n",
              "      <td>18.0</td>\n",
              "      <td>1.0</td>\n",
              "      <td>2.354796</td>\n",
              "      <td>48.876121</td>\n",
              "      <td>500.0</td>\n",
              "      <td>2021-04-27</td>\n",
              "    </tr>\n",
              "    <tr>\n",
              "      <th>5816</th>\n",
              "      <td>4</td>\n",
              "      <td>33.0</td>\n",
              "      <td>0.0</td>\n",
              "      <td>2.348419</td>\n",
              "      <td>48.872523</td>\n",
              "      <td>4.8</td>\n",
              "      <td>2020-11-04</td>\n",
              "    </tr>\n",
              "    <tr>\n",
              "      <th>6136</th>\n",
              "      <td>2</td>\n",
              "      <td>104.0</td>\n",
              "      <td>5.0</td>\n",
              "      <td>2.353418</td>\n",
              "      <td>48.871705</td>\n",
              "      <td>1000.0</td>\n",
              "      <td>2021-04-21</td>\n",
              "    </tr>\n",
              "    <tr>\n",
              "      <th>7624</th>\n",
              "      <td>2</td>\n",
              "      <td>37.0</td>\n",
              "      <td>2.0</td>\n",
              "      <td>2.355399</td>\n",
              "      <td>48.869437</td>\n",
              "      <td>3000.0</td>\n",
              "      <td>2020-06-03</td>\n",
              "    </tr>\n",
              "    <tr>\n",
              "      <th>9169</th>\n",
              "      <td>2</td>\n",
              "      <td>39.0</td>\n",
              "      <td>3.0</td>\n",
              "      <td>2.362716</td>\n",
              "      <td>48.874000</td>\n",
              "      <td>4000.0</td>\n",
              "      <td>2021-05-19</td>\n",
              "    </tr>\n",
              "    <tr>\n",
              "      <th>10887</th>\n",
              "      <td>2</td>\n",
              "      <td>106.0</td>\n",
              "      <td>5.0</td>\n",
              "      <td>2.360572</td>\n",
              "      <td>48.868663</td>\n",
              "      <td>500.0</td>\n",
              "      <td>2021-06-29</td>\n",
              "    </tr>\n",
              "  </tbody>\n",
              "</table>\n",
              "</div>\n",
              "      <button class=\"colab-df-convert\" onclick=\"convertToInteractive('df-fae7e8fa-755c-417a-9dcd-fc9b3d3c4311')\"\n",
              "              title=\"Convert this dataframe to an interactive table.\"\n",
              "              style=\"display:none;\">\n",
              "        \n",
              "  <svg xmlns=\"http://www.w3.org/2000/svg\" height=\"24px\"viewBox=\"0 0 24 24\"\n",
              "       width=\"24px\">\n",
              "    <path d=\"M0 0h24v24H0V0z\" fill=\"none\"/>\n",
              "    <path d=\"M18.56 5.44l.94 2.06.94-2.06 2.06-.94-2.06-.94-.94-2.06-.94 2.06-2.06.94zm-11 1L8.5 8.5l.94-2.06 2.06-.94-2.06-.94L8.5 2.5l-.94 2.06-2.06.94zm10 10l.94 2.06.94-2.06 2.06-.94-2.06-.94-.94-2.06-.94 2.06-2.06.94z\"/><path d=\"M17.41 7.96l-1.37-1.37c-.4-.4-.92-.59-1.43-.59-.52 0-1.04.2-1.43.59L10.3 9.45l-7.72 7.72c-.78.78-.78 2.05 0 2.83L4 21.41c.39.39.9.59 1.41.59.51 0 1.02-.2 1.41-.59l7.78-7.78 2.81-2.81c.8-.78.8-2.07 0-2.86zM5.41 20L4 18.59l7.72-7.72 1.47 1.35L5.41 20z\"/>\n",
              "  </svg>\n",
              "      </button>\n",
              "      \n",
              "  <style>\n",
              "    .colab-df-container {\n",
              "      display:flex;\n",
              "      flex-wrap:wrap;\n",
              "      gap: 12px;\n",
              "    }\n",
              "\n",
              "    .colab-df-convert {\n",
              "      background-color: #E8F0FE;\n",
              "      border: none;\n",
              "      border-radius: 50%;\n",
              "      cursor: pointer;\n",
              "      display: none;\n",
              "      fill: #1967D2;\n",
              "      height: 32px;\n",
              "      padding: 0 0 0 0;\n",
              "      width: 32px;\n",
              "    }\n",
              "\n",
              "    .colab-df-convert:hover {\n",
              "      background-color: #E2EBFA;\n",
              "      box-shadow: 0px 1px 2px rgba(60, 64, 67, 0.3), 0px 1px 3px 1px rgba(60, 64, 67, 0.15);\n",
              "      fill: #174EA6;\n",
              "    }\n",
              "\n",
              "    [theme=dark] .colab-df-convert {\n",
              "      background-color: #3B4455;\n",
              "      fill: #D2E3FC;\n",
              "    }\n",
              "\n",
              "    [theme=dark] .colab-df-convert:hover {\n",
              "      background-color: #434B5C;\n",
              "      box-shadow: 0px 1px 3px 1px rgba(0, 0, 0, 0.15);\n",
              "      filter: drop-shadow(0px 1px 2px rgba(0, 0, 0, 0.3));\n",
              "      fill: #FFFFFF;\n",
              "    }\n",
              "  </style>\n",
              "\n",
              "      <script>\n",
              "        const buttonEl =\n",
              "          document.querySelector('#df-fae7e8fa-755c-417a-9dcd-fc9b3d3c4311 button.colab-df-convert');\n",
              "        buttonEl.style.display =\n",
              "          google.colab.kernel.accessAllowed ? 'block' : 'none';\n",
              "\n",
              "        async function convertToInteractive(key) {\n",
              "          const element = document.querySelector('#df-fae7e8fa-755c-417a-9dcd-fc9b3d3c4311');\n",
              "          const dataTable =\n",
              "            await google.colab.kernel.invokeFunction('convertToInteractive',\n",
              "                                                     [key], {});\n",
              "          if (!dataTable) return;\n",
              "\n",
              "          const docLinkHtml = 'Like what you see? Visit the ' +\n",
              "            '<a target=\"_blank\" href=https://colab.research.google.com/notebooks/data_table.ipynb>data table notebook</a>'\n",
              "            + ' to learn more about interactive tables.';\n",
              "          element.innerHTML = '';\n",
              "          dataTable['output_type'] = 'display_data';\n",
              "          await google.colab.output.renderOutput(dataTable, element);\n",
              "          const docLink = document.createElement('div');\n",
              "          docLink.innerHTML = docLinkHtml;\n",
              "          element.appendChild(docLink);\n",
              "        }\n",
              "      </script>\n",
              "    </div>\n",
              "  </div>\n",
              "  "
            ]
          },
          "metadata": {},
          "execution_count": 88
        }
      ]
    },
    {
      "cell_type": "code",
      "source": [
        "#replace all valuer_fonciere values below 10000 by 10000\n",
        "#in a further step we can replace by median_valeur_fonciere per number of rooms/area\n",
        "final_data.loc[final_data.valeur_fonciere<10000,'valeur_fonciere']=10000"
      ],
      "metadata": {
        "id": "Tr7xaEDp4ham"
      },
      "execution_count": null,
      "outputs": []
    },
    {
      "cell_type": "code",
      "source": [
        "len(final_data.loc[final_data.valeur_fonciere>0.3*10**7])"
      ],
      "metadata": {
        "colab": {
          "base_uri": "https://localhost:8080/"
        },
        "id": "lhfY3Bh94hgZ",
        "outputId": "21a56274-95ee-48b6-df4d-6e892554ee40"
      },
      "execution_count": null,
      "outputs": [
        {
          "output_type": "execute_result",
          "data": {
            "text/plain": [
              "52"
            ]
          },
          "metadata": {},
          "execution_count": 90
        }
      ]
    },
    {
      "cell_type": "code",
      "source": [
        "final_data.loc[final_data.valeur_fonciere>0.3*10**7,'valeur_fonciere']=0.3*10**7"
      ],
      "metadata": {
        "id": "0R_5HWfK6Zif"
      },
      "execution_count": null,
      "outputs": []
    },
    {
      "cell_type": "code",
      "source": [
        "plt.figure(figsize=(10,10))\n",
        "sns.histplot(final_data.valeur_fonciere,stat='density',label='distribution')\n",
        "sns.kdeplot(final_data.valeur_fonciere,color='r',label='kde')\n",
        "plt.legend()\n",
        "plt.show()"
      ],
      "metadata": {
        "colab": {
          "base_uri": "https://localhost:8080/",
          "height": 617
        },
        "id": "8nwSbIJD6Z3t",
        "outputId": "fc29ff00-4a09-4b22-f9d6-b2dd3606eeb2"
      },
      "execution_count": null,
      "outputs": [
        {
          "output_type": "display_data",
          "data": {
            "text/plain": [
              "<Figure size 720x720 with 1 Axes>"
            ],
            "image/png": "[encoded data removed]"
          },
          "metadata": {
            "needs_background": "light"
          }
        }
      ]
    },
    {
      "cell_type": "code",
      "source": [
        "final_data.valeur_fonciere.describe()"
      ],
      "metadata": {
        "colab": {
          "base_uri": "https://localhost:8080/"
        },
        "id": "uucrl8yp6z8d",
        "outputId": "13f3869e-e8e6-453f-a994-d2973d7427c1"
      },
      "execution_count": null,
      "outputs": [
        {
          "output_type": "execute_result",
          "data": {
            "text/plain": [
              "count    7.659000e+03\n",
              "mean     5.104995e+05\n",
              "std      4.210194e+05\n",
              "min      1.000000e+04\n",
              "25%      2.450000e+05\n",
              "50%      3.990000e+05\n",
              "75%      6.490000e+05\n",
              "max      3.000000e+06\n",
              "Name: valeur_fonciere, dtype: float64"
            ]
          },
          "metadata": {},
          "execution_count": 93
        }
      ]
    },
    {
      "cell_type": "code",
      "source": [
        "final_data['date_mutation']"
      ],
      "metadata": {
        "colab": {
          "base_uri": "https://localhost:8080/"
        },
        "id": "crXHoGdoo-fI",
        "outputId": "2b5b5e04-ba64-429b-f173-f03101481513"
      },
      "execution_count": null,
      "outputs": [
        {
          "output_type": "execute_result",
          "data": {
            "text/plain": [
              "0        2021-12-28\n",
              "2        2021-12-23\n",
              "5        2021-10-27\n",
              "7        2021-10-21\n",
              "13       2021-10-15\n",
              "            ...    \n",
              "16593    2017-03-13\n",
              "16595    2017-02-23\n",
              "16596    2017-02-23\n",
              "16599    2017-02-15\n",
              "16600    2017-02-14\n",
              "Name: date_mutation, Length: 7659, dtype: object"
            ]
          },
          "metadata": {},
          "execution_count": 94
        }
      ]
    },
    {
      "cell_type": "code",
      "source": [
        "final_data['date_mutation'] =  pd.to_datetime(final_data['date_mutation'])"
      ],
      "metadata": {
        "id": "oNaURRLstGN4"
      },
      "execution_count": null,
      "outputs": []
    },
    {
      "cell_type": "code",
      "source": [
        "final_data['date_mutation']"
      ],
      "metadata": {
        "colab": {
          "base_uri": "https://localhost:8080/"
        },
        "outputId": "a3224b3d-7fbb-4b3d-f5bd-6829a33bfc20",
        "id": "5tJKWWjOuSKC"
      },
      "execution_count": null,
      "outputs": [
        {
          "output_type": "execute_result",
          "data": {
            "text/plain": [
              "0       2021-12-28\n",
              "2       2021-12-23\n",
              "5       2021-10-27\n",
              "7       2021-10-21\n",
              "13      2021-10-15\n",
              "           ...    \n",
              "16593   2017-03-13\n",
              "16595   2017-02-23\n",
              "16596   2017-02-23\n",
              "16599   2017-02-15\n",
              "16600   2017-02-14\n",
              "Name: date_mutation, Length: 7659, dtype: datetime64[ns]"
            ]
          },
          "metadata": {},
          "execution_count": 96
        }
      ]
    },
    {
      "cell_type": "code",
      "source": [
        "final_data['date_mutation'].dt.year"
      ],
      "metadata": {
        "colab": {
          "base_uri": "https://localhost:8080/"
        },
        "id": "_n1A6hOjuQ7Y",
        "outputId": "abccb659-3ad9-47b3-d72d-dfeff630ba6c"
      },
      "execution_count": null,
      "outputs": [
        {
          "output_type": "execute_result",
          "data": {
            "text/plain": [
              "0        2021\n",
              "2        2021\n",
              "5        2021\n",
              "7        2021\n",
              "13       2021\n",
              "         ... \n",
              "16593    2017\n",
              "16595    2017\n",
              "16596    2017\n",
              "16599    2017\n",
              "16600    2017\n",
              "Name: date_mutation, Length: 7659, dtype: int64"
            ]
          },
          "metadata": {},
          "execution_count": 97
        }
      ]
    },
    {
      "cell_type": "code",
      "source": [
        "final_data['date_mutation'].dt.year.value_counts().plot(kind='bar')"
      ],
      "metadata": {
        "colab": {
          "base_uri": "https://localhost:8080/",
          "height": 298
        },
        "id": "aCshcQq3vKPi",
        "outputId": "916bff3f-819c-4405-a94a-2c492ba983c6"
      },
      "execution_count": null,
      "outputs": [
        {
          "output_type": "execute_result",
          "data": {
            "text/plain": [
              "<matplotlib.axes._subplots.AxesSubplot at 0x7f855462bc90>"
            ]
          },
          "metadata": {},
          "execution_count": 98
        },
        {
          "output_type": "display_data",
          "data": {
            "text/plain": [
              "<Figure size 432x288 with 1 Axes>"
            ],
            "image/png": "[encoded data removed]"
          },
          "metadata": {
            "needs_background": "light"
          }
        }
      ]
    },
    {
      "cell_type": "code",
      "source": [
        "final_data['date_mutation']=final_data['date_mutation'].dt.year"
      ],
      "metadata": {
        "id": "2reO9ZA4vT3b"
      },
      "execution_count": null,
      "outputs": []
    },
    {
      "cell_type": "code",
      "source": [
        "final_data['date_mutation']"
      ],
      "metadata": {
        "colab": {
          "base_uri": "https://localhost:8080/"
        },
        "id": "7m7mpet8vdjp",
        "outputId": "a4cea0b1-d96b-4cfb-c86c-4cdb5415aba1"
      },
      "execution_count": null,
      "outputs": [
        {
          "output_type": "execute_result",
          "data": {
            "text/plain": [
              "0        2021\n",
              "2        2021\n",
              "5        2021\n",
              "7        2021\n",
              "13       2021\n",
              "         ... \n",
              "16593    2017\n",
              "16595    2017\n",
              "16596    2017\n",
              "16599    2017\n",
              "16600    2017\n",
              "Name: date_mutation, Length: 7659, dtype: int64"
            ]
          },
          "metadata": {},
          "execution_count": 100
        }
      ]
    },
    {
      "cell_type": "markdown",
      "source": [
        "now than we cleaned valeur_fonciere and surface_reelle_bati we can create a new column \"price_m2\""
      ],
      "metadata": {
        "id": "ZEPwRqep76YG"
      }
    },
    {
      "cell_type": "code",
      "source": [
        "#final_data.loc[:,'price_m2']=final_data.valeur_fonciere/final_data.surface_reelle_bati"
      ],
      "metadata": {
        "id": "d3b-50KQ7iau"
      },
      "execution_count": null,
      "outputs": []
    },
    {
      "cell_type": "code",
      "source": [
        "#final_data"
      ],
      "metadata": {
        "id": "DLfcocp68P6K"
      },
      "execution_count": null,
      "outputs": []
    },
    {
      "cell_type": "markdown",
      "source": [
        "# data understanding"
      ],
      "metadata": {
        "id": "Rq_NZSN88kj1"
      }
    },
    {
      "cell_type": "markdown",
      "source": [
        "**Feature engineering: clustering buildings taking into account: building position**"
      ],
      "metadata": {
        "id": "nMeR2gOo-2Mt"
      }
    },
    {
      "cell_type": "code",
      "source": [
        "X_clustering=final_data[['valeur_fonciere','latitude','longitude']]"
      ],
      "metadata": {
        "id": "carTRV1wF86a"
      },
      "execution_count": null,
      "outputs": []
    },
    {
      "cell_type": "code",
      "source": [
        "scaler = preprocessing.StandardScaler().fit(X_clustering)\n",
        "X_scaled= scaler.transform(X_clustering)"
      ],
      "metadata": {
        "id": "e3IOSr8cv9vU"
      },
      "execution_count": null,
      "outputs": []
    },
    {
      "cell_type": "markdown",
      "source": [
        "*the elbow method for optimal k*"
      ],
      "metadata": {
        "id": "mwMgs1gG3-v8"
      }
    },
    {
      "cell_type": "code",
      "source": [
        "sse = []#sum of squared errors\n",
        "k_range = range(1,11)#list of # of clusters=19 values from 1 to 19\n",
        "for k in k_range:\n",
        "    km = KMeans(n_clusters=k)\n",
        "    km.fit_predict(X_scaled)\n",
        "    sse.append(km.inertia_)#inertia_ is Sum of squared distances of samples to their closest cluster center,\n",
        "    #weighted by the sample weights if provided"
      ],
      "metadata": {
        "id": "You8YfGA7Bts"
      },
      "execution_count": null,
      "outputs": []
    },
    {
      "cell_type": "code",
      "source": [
        "plt.xlabel('K')\n",
        "plt.ylabel('Sum of squared distances')\n",
        "plt.xticks(range(1,11))\n",
        "plt.plot(k_range,sse)\n",
        "plt.show()"
      ],
      "metadata": {
        "colab": {
          "base_uri": "https://localhost:8080/",
          "height": 279
        },
        "id": "hmDhN1bA9aG8",
        "outputId": "f799e1ac-10c3-43b2-9804-4902a83766ee"
      },
      "execution_count": null,
      "outputs": [
        {
          "output_type": "display_data",
          "data": {
            "text/plain": [
              "<Figure size 432x288 with 1 Axes>"
            ],
            "image/png": "[encoded data removed]"
          },
          "metadata": {
            "needs_background": "light"
          }
        }
      ]
    },
    {
      "cell_type": "code",
      "source": [
        "# Create cluster feature\n",
        "kmeans = KMeans(n_clusters=4,random_state=10)\n",
        "X_clustering[\"Cluster\"] = kmeans.fit_predict(X_scaled)\n",
        "X_clustering[\"Cluster\"] = X_clustering[\"Cluster\"].astype(\"category\")\n",
        "#cluster = kmeans.fit_predict(X_clustering)\n",
        "#X_clustering[\"Cluster\"] = X_clustering[\"Cluster\"].astype(\"category\")"
      ],
      "metadata": {
        "colab": {
          "base_uri": "https://localhost:8080/"
        },
        "id": "BMU9H99MGvl4",
        "outputId": "5c925f3a-ce63-459c-f814-c34ba2718b66"
      },
      "execution_count": null,
      "outputs": [
        {
          "output_type": "stream",
          "name": "stderr",
          "text": [
            "/usr/local/lib/python3.7/dist-packages/ipykernel_launcher.py:3: SettingWithCopyWarning: \n",
            "A value is trying to be set on a copy of a slice from a DataFrame.\n",
            "Try using .loc[row_indexer,col_indexer] = value instead\n",
            "\n",
            "See the caveats in the documentation: https://pandas.pydata.org/pandas-docs/stable/user_guide/indexing.html#returning-a-view-versus-a-copy\n",
            "  This is separate from the ipykernel package so we can avoid doing imports until\n",
            "/usr/local/lib/python3.7/dist-packages/ipykernel_launcher.py:4: SettingWithCopyWarning: \n",
            "A value is trying to be set on a copy of a slice from a DataFrame.\n",
            "Try using .loc[row_indexer,col_indexer] = value instead\n",
            "\n",
            "See the caveats in the documentation: https://pandas.pydata.org/pandas-docs/stable/user_guide/indexing.html#returning-a-view-versus-a-copy\n",
            "  after removing the cwd from sys.path.\n"
          ]
        }
      ]
    },
    {
      "cell_type": "code",
      "source": [
        "X_clustering.info()"
      ],
      "metadata": {
        "colab": {
          "base_uri": "https://localhost:8080/"
        },
        "id": "8hAEmeSq8Fp1",
        "outputId": "e543bc57-dbe1-442e-f0c7-121d40e1e865"
      },
      "execution_count": null,
      "outputs": [
        {
          "output_type": "stream",
          "name": "stdout",
          "text": [
            "<class 'pandas.core.frame.DataFrame'>\n",
            "Int64Index: 7659 entries, 0 to 16600\n",
            "Data columns (total 4 columns):\n",
            " #   Column           Non-Null Count  Dtype   \n",
            "---  ------           --------------  -----   \n",
            " 0   valeur_fonciere  7659 non-null   float64 \n",
            " 1   latitude         7659 non-null   float64 \n",
            " 2   longitude        7659 non-null   float64 \n",
            " 3   Cluster          7659 non-null   category\n",
            "dtypes: category(1), float64(3)\n",
            "memory usage: 505.1 KB\n"
          ]
        }
      ]
    },
    {
      "cell_type": "code",
      "source": [
        "sns.relplot(\n",
        "    x=\"latitude\", y=\"longitude\", hue=\"Cluster\", data=X_clustering, #height=number_of_clusters,\n",
        ");"
      ],
      "metadata": {
        "colab": {
          "base_uri": "https://localhost:8080/",
          "height": 369
        },
        "id": "lKkY0VYaH4lY",
        "outputId": "1eeca913-3a14-4714-a19f-2127e4475752"
      },
      "execution_count": null,
      "outputs": [
        {
          "output_type": "display_data",
          "data": {
            "text/plain": [
              "<Figure size 403.5x360 with 1 Axes>"
            ],
            "image/png": "[encoded data removed]"
          },
          "metadata": {
            "needs_background": "light"
          }
        }
      ]
    },
    {
      "cell_type": "code",
      "source": [
        "sns.catplot(x=\"valeur_fonciere\", y=\"Cluster\", data=X_clustering, kind=\"box\", height=6)"
      ],
      "metadata": {
        "id": "VwoupbPesUji",
        "colab": {
          "base_uri": "https://localhost:8080/",
          "height": 458
        },
        "outputId": "3dff0b22-2974-461f-bc92-0f7019d27102"
      },
      "execution_count": null,
      "outputs": [
        {
          "output_type": "execute_result",
          "data": {
            "text/plain": [
              "<seaborn.axisgrid.FacetGrid at 0x7f8548ab0ad0>"
            ]
          },
          "metadata": {},
          "execution_count": 234
        },
        {
          "output_type": "display_data",
          "data": {
            "text/plain": [
              "<Figure size 432x432 with 1 Axes>"
            ],
            "image/png": "[encoded data removed]"
          },
          "metadata": {
            "needs_background": "light"
          }
        }
      ]
    },
    {
      "cell_type": "code",
      "source": [
        "final_data.loc[:,'Cluster']=X_clustering['Cluster'].astype(int)"
      ],
      "metadata": {
        "id": "tu98a8gZLPMN"
      },
      "execution_count": null,
      "outputs": []
    },
    {
      "cell_type": "code",
      "source": [
        "y0=final_data.loc[final_data.Cluster==0]['valeur_fonciere']\n",
        "y1=final_data.loc[final_data.Cluster==1]['valeur_fonciere']\n",
        "y2=final_data.loc[final_data.Cluster==2]['valeur_fonciere']\n",
        "y3=final_data.loc[final_data.Cluster==3]['valeur_fonciere']"
      ],
      "metadata": {
        "id": "pzl7Iyz_Db0T"
      },
      "execution_count": null,
      "outputs": []
    },
    {
      "cell_type": "code",
      "source": [
        "final_data.loc[final_data.Cluster==3]['code_type_local'].value_counts().plot(kind='bar')"
      ],
      "metadata": {
        "colab": {
          "base_uri": "https://localhost:8080/",
          "height": 279
        },
        "id": "6ATlVwDrJneX",
        "outputId": "58e33a3c-b0e6-4a40-a27e-f5e6520b4791"
      },
      "execution_count": null,
      "outputs": [
        {
          "output_type": "execute_result",
          "data": {
            "text/plain": [
              "<matplotlib.axes._subplots.AxesSubplot at 0x7f85487ee110>"
            ]
          },
          "metadata": {},
          "execution_count": 239
        },
        {
          "output_type": "display_data",
          "data": {
            "text/plain": [
              "<Figure size 432x288 with 1 Axes>"
            ],
            "image/png": "[encoded data removed]"
          },
          "metadata": {
            "needs_background": "light"
          }
        }
      ]
    },
    {
      "cell_type": "code",
      "source": [
        "y0.describe()"
      ],
      "metadata": {
        "colab": {
          "base_uri": "https://localhost:8080/"
        },
        "id": "rTTKuBm5EHY3",
        "outputId": "91420bb6-1c9d-4c49-cda1-3b0da686c074"
      },
      "execution_count": null,
      "outputs": [
        {
          "output_type": "execute_result",
          "data": {
            "text/plain": [
              "count    2.180000e+03\n",
              "mean     4.415716e+05\n",
              "std      2.443665e+05\n",
              "min      1.000000e+04\n",
              "25%      2.500000e+05\n",
              "50%      3.989385e+05\n",
              "75%      6.100000e+05\n",
              "max      1.330000e+06\n",
              "Name: valeur_fonciere, dtype: float64"
            ]
          },
          "metadata": {},
          "execution_count": 222
        }
      ]
    },
    {
      "cell_type": "code",
      "source": [
        "y1.describe()"
      ],
      "metadata": {
        "colab": {
          "base_uri": "https://localhost:8080/"
        },
        "id": "IKatZxxBENby",
        "outputId": "85ce7583-04bf-4bc1-da46-e73be6e7e0a8"
      },
      "execution_count": null,
      "outputs": [
        {
          "output_type": "execute_result",
          "data": {
            "text/plain": [
              "count    2.725000e+03\n",
              "mean     4.149560e+05\n",
              "std      2.373171e+05\n",
              "min      1.000000e+04\n",
              "25%      2.230000e+05\n",
              "50%      3.750000e+05\n",
              "75%      5.840190e+05\n",
              "max      1.020000e+06\n",
              "Name: valeur_fonciere, dtype: float64"
            ]
          },
          "metadata": {},
          "execution_count": 223
        }
      ]
    },
    {
      "cell_type": "code",
      "source": [
        "y2.describe()"
      ],
      "metadata": {
        "colab": {
          "base_uri": "https://localhost:8080/"
        },
        "id": "K37NOI2VER_K",
        "outputId": "84bc000e-6838-40df-a75d-40c2af0f5e0b"
      },
      "execution_count": null,
      "outputs": [
        {
          "output_type": "execute_result",
          "data": {
            "text/plain": [
              "count    2.114000e+03\n",
              "mean     3.941559e+05\n",
              "std      2.306767e+05\n",
              "min      1.000000e+04\n",
              "25%      2.300000e+05\n",
              "50%      3.350000e+05\n",
              "75%      5.070150e+05\n",
              "max      1.315000e+06\n",
              "Name: valeur_fonciere, dtype: float64"
            ]
          },
          "metadata": {},
          "execution_count": 224
        }
      ]
    },
    {
      "cell_type": "markdown",
      "source": [
        "explore the relationship between valeur_fonciere and year!!"
      ],
      "metadata": {
        "id": "wHw8zdxcVRqE"
      }
    },
    {
      "cell_type": "code",
      "source": [
        "final_data.groupby(['date_mutation']).median()['valeur_fonciere']"
      ],
      "metadata": {
        "colab": {
          "base_uri": "https://localhost:8080/"
        },
        "id": "vlllxytYm-b0",
        "outputId": "b23ddfe6-3efc-4785-c7fc-c89aecc502bf"
      },
      "execution_count": null,
      "outputs": [
        {
          "output_type": "execute_result",
          "data": {
            "text/plain": [
              "date_mutation\n",
              "2017    345000.0\n",
              "2018    380000.0\n",
              "2019    409580.0\n",
              "2020    440000.0\n",
              "2021    420000.0\n",
              "Name: valeur_fonciere, dtype: float64"
            ]
          },
          "metadata": {},
          "execution_count": 116
        }
      ]
    },
    {
      "cell_type": "code",
      "source": [
        "final_data.groupby(['date_mutation']).mean()['valeur_fonciere']"
      ],
      "metadata": {
        "colab": {
          "base_uri": "https://localhost:8080/"
        },
        "id": "80bVQ8vnoYIK",
        "outputId": "2e27e436-33fb-426f-c4af-b7f103e86054"
      },
      "execution_count": null,
      "outputs": [
        {
          "output_type": "execute_result",
          "data": {
            "text/plain": [
              "date_mutation\n",
              "2017    453622.666049\n",
              "2018    502890.231387\n",
              "2019    519180.784168\n",
              "2020    549713.466826\n",
              "2021    537957.957203\n",
              "Name: valeur_fonciere, dtype: float64"
            ]
          },
          "metadata": {},
          "execution_count": 117
        }
      ]
    },
    {
      "cell_type": "code",
      "source": [
        "final_data.groupby(['date_mutation']).std()['valeur_fonciere']"
      ],
      "metadata": {
        "colab": {
          "base_uri": "https://localhost:8080/"
        },
        "id": "LkQMR4bnoMWR",
        "outputId": "b2c05006-6e8d-4b5c-a0cb-78ef2f9e75d6"
      },
      "execution_count": null,
      "outputs": [
        {
          "output_type": "execute_result",
          "data": {
            "text/plain": [
              "date_mutation\n",
              "2017    414446.908473\n",
              "2018    421775.917958\n",
              "2019    404177.178029\n",
              "2020    421150.175583\n",
              "2021    436493.813145\n",
              "Name: valeur_fonciere, dtype: float64"
            ]
          },
          "metadata": {},
          "execution_count": 118
        }
      ]
    },
    {
      "cell_type": "code",
      "source": [
        "pearson_corr=final_data.corr(method='pearson')\n",
        "sns.heatmap(pearson_corr,cmap='GnBu',annot=True)"
      ],
      "metadata": {
        "colab": {
          "base_uri": "https://localhost:8080/",
          "height": 411
        },
        "outputId": "b9032dcc-b952-4af1-aaad-5a8e8399452c",
        "id": "TNpGpDVPzG0c"
      },
      "execution_count": null,
      "outputs": [
        {
          "output_type": "execute_result",
          "data": {
            "text/plain": [
              "<matplotlib.axes._subplots.AxesSubplot at 0x7f85488d0110>"
            ]
          },
          "metadata": {},
          "execution_count": 240
        },
        {
          "output_type": "display_data",
          "data": {
            "text/plain": [
              "<Figure size 432x288 with 2 Axes>"
            ],
            "image/png": "[encoded data removed]"
          },
          "metadata": {
            "needs_background": "light"
          }
        }
      ]
    },
    {
      "cell_type": "code",
      "source": [
        "plt.scatter(final_data.Cluster,final_data.valeur_fonciere)\n",
        "plt.show()"
      ],
      "metadata": {
        "colab": {
          "base_uri": "https://localhost:8080/",
          "height": 276
        },
        "id": "yp6mMLWALxDQ",
        "outputId": "9691135a-65c7-4d80-ef23-523d2e296553"
      },
      "execution_count": null,
      "outputs": [
        {
          "output_type": "display_data",
          "data": {
            "text/plain": [
              "<Figure size 432x288 with 1 Axes>"
            ],
            "image/png": "[encoded data removed]"
          },
          "metadata": {
            "needs_background": "light"
          }
        }
      ]
    },
    {
      "cell_type": "code",
      "source": [
        "plt.scatter(final_data.surface_reelle_bati,final_data.valeur_fonciere)\n",
        "plt.show()"
      ],
      "metadata": {
        "id": "TqzsAKsssUaa",
        "colab": {
          "base_uri": "https://localhost:8080/",
          "height": 276
        },
        "outputId": "614af42d-434f-4477-a98f-72fca8eeeb25"
      },
      "execution_count": null,
      "outputs": [
        {
          "output_type": "display_data",
          "data": {
            "text/plain": [
              "<Figure size 432x288 with 1 Axes>"
            ],
            "image/png": "[encoded data removed]"
          },
          "metadata": {
            "needs_background": "light"
          }
        }
      ]
    },
    {
      "cell_type": "markdown",
      "source": [
        "we remark that:\n",
        "\n",
        "*   the features code_type_local, surface_reelle_bati, nombre_pieces_principales, longitude, latitude are decorrelated, which satisfies the assumption of **feature independence**\n",
        "*   valeur_fonciere is highly linearly correlated with cluster and surface_reelle_bati and lowly linearly correlated with nombre_pieces_principales and code_type_local. Pearson correlation with longitude and latitude is not observed.\n",
        "*    price_m2 has no correlation with our predictor features.\n",
        "\n"
      ],
      "metadata": {
        "id": "sfdotut1zcvT"
      }
    },
    {
      "cell_type": "markdown",
      "source": [
        "Thus we set valeur_fonciere as our target and for now we set code_type_local, surface_reelle_bati and nombre_pieces_principales as our features."
      ],
      "metadata": {
        "id": "DD9qHK8t0j4u"
      }
    },
    {
      "cell_type": "markdown",
      "source": [
        "**2-Spearman correlation:** assesses how well the relationship between two variables can be described using a monotonic function. It takes also values between -1 and 1."
      ],
      "metadata": {
        "id": "xx1XbBDVZJF2"
      }
    },
    {
      "cell_type": "code",
      "source": [
        "final_data.corr(method='spearman')"
      ],
      "metadata": {
        "id": "INGELUNSBB3c",
        "colab": {
          "base_uri": "https://localhost:8080/",
          "height": 300
        },
        "outputId": "e46c7b93-1d03-489a-d09a-9b3e98a71487"
      },
      "execution_count": null,
      "outputs": [
        {
          "output_type": "execute_result",
          "data": {
            "text/plain": [
              "                           code_type_local  surface_reelle_bati  \\\n",
              "code_type_local                   1.000000             0.168938   \n",
              "surface_reelle_bati               0.168938             1.000000   \n",
              "nombre_pieces_principales        -0.526415             0.587958   \n",
              "longitude                        -0.117502            -0.157247   \n",
              "latitude                         -0.039331             0.056021   \n",
              "valeur_fonciere                   0.133238             0.820872   \n",
              "date_mutation                    -0.010095             0.005726   \n",
              "Cluster                           0.087630             0.085430   \n",
              "\n",
              "                           nombre_pieces_principales  longitude  latitude  \\\n",
              "code_type_local                            -0.526415  -0.117502 -0.039331   \n",
              "surface_reelle_bati                         0.587958  -0.157247  0.056021   \n",
              "nombre_pieces_principales                   1.000000  -0.038523  0.074635   \n",
              "longitude                                  -0.038523   1.000000 -0.035986   \n",
              "latitude                                    0.074635  -0.035986  1.000000   \n",
              "valeur_fonciere                             0.519180  -0.174064  0.001553   \n",
              "date_mutation                               0.020127   0.015865  0.002454   \n",
              "Cluster                                    -0.010338   0.233340 -0.604889   \n",
              "\n",
              "                           valeur_fonciere  date_mutation   Cluster  \n",
              "code_type_local                   0.133238      -0.010095  0.087630  \n",
              "surface_reelle_bati               0.820872       0.005726  0.085430  \n",
              "nombre_pieces_principales         0.519180       0.020127 -0.010338  \n",
              "longitude                        -0.174064       0.015865  0.233340  \n",
              "latitude                          0.001553       0.002454 -0.604889  \n",
              "valeur_fonciere                   1.000000       0.102909  0.178961  \n",
              "date_mutation                     0.102909       1.000000  0.035000  \n",
              "Cluster                           0.178961       0.035000  1.000000  "
            ],
            "text/html": [
              "\n",
              "  <div id=\"df-9b4b46f7-d56d-4f93-8426-fbb03baf6ba2\">\n",
              "    <div class=\"colab-df-container\">\n",
              "      <div>\n",
              "<style scoped>\n",
              "    .dataframe tbody tr th:only-of-type {\n",
              "        vertical-align: middle;\n",
              "    }\n",
              "\n",
              "    .dataframe tbody tr th {\n",
              "        vertical-align: top;\n",
              "    }\n",
              "\n",
              "    .dataframe thead th {\n",
              "        text-align: right;\n",
              "    }\n",
              "</style>\n",
              "<table border=\"1\" class=\"dataframe\">\n",
              "  <thead>\n",
              "    <tr style=\"text-align: right;\">\n",
              "      <th></th>\n",
              "      <th>code_type_local</th>\n",
              "      <th>surface_reelle_bati</th>\n",
              "      <th>nombre_pieces_principales</th>\n",
              "      <th>longitude</th>\n",
              "      <th>latitude</th>\n",
              "      <th>valeur_fonciere</th>\n",
              "      <th>date_mutation</th>\n",
              "      <th>Cluster</th>\n",
              "    </tr>\n",
              "  </thead>\n",
              "  <tbody>\n",
              "    <tr>\n",
              "      <th>code_type_local</th>\n",
              "      <td>1.000000</td>\n",
              "      <td>0.168938</td>\n",
              "      <td>-0.526415</td>\n",
              "      <td>-0.117502</td>\n",
              "      <td>-0.039331</td>\n",
              "      <td>0.133238</td>\n",
              "      <td>-0.010095</td>\n",
              "      <td>0.087630</td>\n",
              "    </tr>\n",
              "    <tr>\n",
              "      <th>surface_reelle_bati</th>\n",
              "      <td>0.168938</td>\n",
              "      <td>1.000000</td>\n",
              "      <td>0.587958</td>\n",
              "      <td>-0.157247</td>\n",
              "      <td>0.056021</td>\n",
              "      <td>0.820872</td>\n",
              "      <td>0.005726</td>\n",
              "      <td>0.085430</td>\n",
              "    </tr>\n",
              "    <tr>\n",
              "      <th>nombre_pieces_principales</th>\n",
              "      <td>-0.526415</td>\n",
              "      <td>0.587958</td>\n",
              "      <td>1.000000</td>\n",
              "      <td>-0.038523</td>\n",
              "      <td>0.074635</td>\n",
              "      <td>0.519180</td>\n",
              "      <td>0.020127</td>\n",
              "      <td>-0.010338</td>\n",
              "    </tr>\n",
              "    <tr>\n",
              "      <th>longitude</th>\n",
              "      <td>-0.117502</td>\n",
              "      <td>-0.157247</td>\n",
              "      <td>-0.038523</td>\n",
              "      <td>1.000000</td>\n",
              "      <td>-0.035986</td>\n",
              "      <td>-0.174064</td>\n",
              "      <td>0.015865</td>\n",
              "      <td>0.233340</td>\n",
              "    </tr>\n",
              "    <tr>\n",
              "      <th>latitude</th>\n",
              "      <td>-0.039331</td>\n",
              "      <td>0.056021</td>\n",
              "      <td>0.074635</td>\n",
              "      <td>-0.035986</td>\n",
              "      <td>1.000000</td>\n",
              "      <td>0.001553</td>\n",
              "      <td>0.002454</td>\n",
              "      <td>-0.604889</td>\n",
              "    </tr>\n",
              "    <tr>\n",
              "      <th>valeur_fonciere</th>\n",
              "      <td>0.133238</td>\n",
              "      <td>0.820872</td>\n",
              "      <td>0.519180</td>\n",
              "      <td>-0.174064</td>\n",
              "      <td>0.001553</td>\n",
              "      <td>1.000000</td>\n",
              "      <td>0.102909</td>\n",
              "      <td>0.178961</td>\n",
              "    </tr>\n",
              "    <tr>\n",
              "      <th>date_mutation</th>\n",
              "      <td>-0.010095</td>\n",
              "      <td>0.005726</td>\n",
              "      <td>0.020127</td>\n",
              "      <td>0.015865</td>\n",
              "      <td>0.002454</td>\n",
              "      <td>0.102909</td>\n",
              "      <td>1.000000</td>\n",
              "      <td>0.035000</td>\n",
              "    </tr>\n",
              "    <tr>\n",
              "      <th>Cluster</th>\n",
              "      <td>0.087630</td>\n",
              "      <td>0.085430</td>\n",
              "      <td>-0.010338</td>\n",
              "      <td>0.233340</td>\n",
              "      <td>-0.604889</td>\n",
              "      <td>0.178961</td>\n",
              "      <td>0.035000</td>\n",
              "      <td>1.000000</td>\n",
              "    </tr>\n",
              "  </tbody>\n",
              "</table>\n",
              "</div>\n",
              "      <button class=\"colab-df-convert\" onclick=\"convertToInteractive('df-9b4b46f7-d56d-4f93-8426-fbb03baf6ba2')\"\n",
              "              title=\"Convert this dataframe to an interactive table.\"\n",
              "              style=\"display:none;\">\n",
              "        \n",
              "  <svg xmlns=\"http://www.w3.org/2000/svg\" height=\"24px\"viewBox=\"0 0 24 24\"\n",
              "       width=\"24px\">\n",
              "    <path d=\"M0 0h24v24H0V0z\" fill=\"none\"/>\n",
              "    <path d=\"M18.56 5.44l.94 2.06.94-2.06 2.06-.94-2.06-.94-.94-2.06-.94 2.06-2.06.94zm-11 1L8.5 8.5l.94-2.06 2.06-.94-2.06-.94L8.5 2.5l-.94 2.06-2.06.94zm10 10l.94 2.06.94-2.06 2.06-.94-2.06-.94-.94-2.06-.94 2.06-2.06.94z\"/><path d=\"M17.41 7.96l-1.37-1.37c-.4-.4-.92-.59-1.43-.59-.52 0-1.04.2-1.43.59L10.3 9.45l-7.72 7.72c-.78.78-.78 2.05 0 2.83L4 21.41c.39.39.9.59 1.41.59.51 0 1.02-.2 1.41-.59l7.78-7.78 2.81-2.81c.8-.78.8-2.07 0-2.86zM5.41 20L4 18.59l7.72-7.72 1.47 1.35L5.41 20z\"/>\n",
              "  </svg>\n",
              "      </button>\n",
              "      \n",
              "  <style>\n",
              "    .colab-df-container {\n",
              "      display:flex;\n",
              "      flex-wrap:wrap;\n",
              "      gap: 12px;\n",
              "    }\n",
              "\n",
              "    .colab-df-convert {\n",
              "      background-color: #E8F0FE;\n",
              "      border: none;\n",
              "      border-radius: 50%;\n",
              "      cursor: pointer;\n",
              "      display: none;\n",
              "      fill: #1967D2;\n",
              "      height: 32px;\n",
              "      padding: 0 0 0 0;\n",
              "      width: 32px;\n",
              "    }\n",
              "\n",
              "    .colab-df-convert:hover {\n",
              "      background-color: #E2EBFA;\n",
              "      box-shadow: 0px 1px 2px rgba(60, 64, 67, 0.3), 0px 1px 3px 1px rgba(60, 64, 67, 0.15);\n",
              "      fill: #174EA6;\n",
              "    }\n",
              "\n",
              "    [theme=dark] .colab-df-convert {\n",
              "      background-color: #3B4455;\n",
              "      fill: #D2E3FC;\n",
              "    }\n",
              "\n",
              "    [theme=dark] .colab-df-convert:hover {\n",
              "      background-color: #434B5C;\n",
              "      box-shadow: 0px 1px 3px 1px rgba(0, 0, 0, 0.15);\n",
              "      filter: drop-shadow(0px 1px 2px rgba(0, 0, 0, 0.3));\n",
              "      fill: #FFFFFF;\n",
              "    }\n",
              "  </style>\n",
              "\n",
              "      <script>\n",
              "        const buttonEl =\n",
              "          document.querySelector('#df-9b4b46f7-d56d-4f93-8426-fbb03baf6ba2 button.colab-df-convert');\n",
              "        buttonEl.style.display =\n",
              "          google.colab.kernel.accessAllowed ? 'block' : 'none';\n",
              "\n",
              "        async function convertToInteractive(key) {\n",
              "          const element = document.querySelector('#df-9b4b46f7-d56d-4f93-8426-fbb03baf6ba2');\n",
              "          const dataTable =\n",
              "            await google.colab.kernel.invokeFunction('convertToInteractive',\n",
              "                                                     [key], {});\n",
              "          if (!dataTable) return;\n",
              "\n",
              "          const docLinkHtml = 'Like what you see? Visit the ' +\n",
              "            '<a target=\"_blank\" href=https://colab.research.google.com/notebooks/data_table.ipynb>data table notebook</a>'\n",
              "            + ' to learn more about interactive tables.';\n",
              "          element.innerHTML = '';\n",
              "          dataTable['output_type'] = 'display_data';\n",
              "          await google.colab.output.renderOutput(dataTable, element);\n",
              "          const docLink = document.createElement('div');\n",
              "          docLink.innerHTML = docLinkHtml;\n",
              "          element.appendChild(docLink);\n",
              "        }\n",
              "      </script>\n",
              "    </div>\n",
              "  </div>\n",
              "  "
            ]
          },
          "metadata": {},
          "execution_count": 208
        }
      ]
    },
    {
      "cell_type": "markdown",
      "source": [
        "Cluster and surface_reelle_bati show the highest Spearman correlation with the target."
      ],
      "metadata": {
        "id": "V5FT_rO4B-6z"
      }
    },
    {
      "cell_type": "markdown",
      "source": [
        "*    **3-Kendall rank correlation:** is a measure of rank correlation.\n",
        "*    Spearman and Kendall can be formulated as special cases of a more general correlation coefficient."
      ],
      "metadata": {
        "id": "4SLW8aP7clTD"
      }
    },
    {
      "cell_type": "code",
      "source": [
        "final_data.corr(method='kendall')"
      ],
      "metadata": {
        "id": "SdSdE2uxCEli",
        "colab": {
          "base_uri": "https://localhost:8080/",
          "height": 300
        },
        "outputId": "b60ca012-2982-4c3b-e15b-5cac58a28b16"
      },
      "execution_count": null,
      "outputs": [
        {
          "output_type": "execute_result",
          "data": {
            "text/plain": [
              "                           code_type_local  surface_reelle_bati  \\\n",
              "code_type_local                   1.000000             0.138817   \n",
              "surface_reelle_bati               0.138817             1.000000   \n",
              "nombre_pieces_principales        -0.473926             0.514705   \n",
              "longitude                        -0.095996            -0.106981   \n",
              "latitude                         -0.032133             0.037845   \n",
              "valeur_fonciere                   0.108897             0.680795   \n",
              "date_mutation                    -0.009039             0.004179   \n",
              "Cluster                           0.134602             0.610073   \n",
              "\n",
              "                           nombre_pieces_principales  longitude  latitude  \\\n",
              "code_type_local                            -0.473926  -0.095996 -0.032133   \n",
              "surface_reelle_bati                         0.514705  -0.106981  0.037845   \n",
              "nombre_pieces_principales                   1.000000  -0.029847  0.054850   \n",
              "longitude                                  -0.029847   1.000000 -0.023656   \n",
              "latitude                                    0.054850  -0.023656  1.000000   \n",
              "valeur_fonciere                             0.438674  -0.118044  0.000903   \n",
              "date_mutation                               0.016169   0.011532  0.001783   \n",
              "Cluster                                     0.413703  -0.158388 -0.012860   \n",
              "\n",
              "                           valeur_fonciere  date_mutation   Cluster  \n",
              "code_type_local                   0.108897      -0.009039  0.134602  \n",
              "surface_reelle_bati               0.680795       0.004179  0.610073  \n",
              "nombre_pieces_principales         0.438674       0.016169  0.413703  \n",
              "longitude                        -0.118044       0.011532 -0.158388  \n",
              "latitude                          0.000903       0.001783 -0.012860  \n",
              "valeur_fonciere                   1.000000       0.075524  0.757489  \n",
              "date_mutation                     0.075524       1.000000  0.067676  \n",
              "Cluster                           0.757489       0.067676  1.000000  "
            ],
            "text/html": [
              "\n",
              "  <div id=\"df-c15741bc-590d-44dd-a09b-a0ec64da9f3c\">\n",
              "    <div class=\"colab-df-container\">\n",
              "      <div>\n",
              "<style scoped>\n",
              "    .dataframe tbody tr th:only-of-type {\n",
              "        vertical-align: middle;\n",
              "    }\n",
              "\n",
              "    .dataframe tbody tr th {\n",
              "        vertical-align: top;\n",
              "    }\n",
              "\n",
              "    .dataframe thead th {\n",
              "        text-align: right;\n",
              "    }\n",
              "</style>\n",
              "<table border=\"1\" class=\"dataframe\">\n",
              "  <thead>\n",
              "    <tr style=\"text-align: right;\">\n",
              "      <th></th>\n",
              "      <th>code_type_local</th>\n",
              "      <th>surface_reelle_bati</th>\n",
              "      <th>nombre_pieces_principales</th>\n",
              "      <th>longitude</th>\n",
              "      <th>latitude</th>\n",
              "      <th>valeur_fonciere</th>\n",
              "      <th>date_mutation</th>\n",
              "      <th>Cluster</th>\n",
              "    </tr>\n",
              "  </thead>\n",
              "  <tbody>\n",
              "    <tr>\n",
              "      <th>code_type_local</th>\n",
              "      <td>1.000000</td>\n",
              "      <td>0.138817</td>\n",
              "      <td>-0.473926</td>\n",
              "      <td>-0.095996</td>\n",
              "      <td>-0.032133</td>\n",
              "      <td>0.108897</td>\n",
              "      <td>-0.009039</td>\n",
              "      <td>0.134602</td>\n",
              "    </tr>\n",
              "    <tr>\n",
              "      <th>surface_reelle_bati</th>\n",
              "      <td>0.138817</td>\n",
              "      <td>1.000000</td>\n",
              "      <td>0.514705</td>\n",
              "      <td>-0.106981</td>\n",
              "      <td>0.037845</td>\n",
              "      <td>0.680795</td>\n",
              "      <td>0.004179</td>\n",
              "      <td>0.610073</td>\n",
              "    </tr>\n",
              "    <tr>\n",
              "      <th>nombre_pieces_principales</th>\n",
              "      <td>-0.473926</td>\n",
              "      <td>0.514705</td>\n",
              "      <td>1.000000</td>\n",
              "      <td>-0.029847</td>\n",
              "      <td>0.054850</td>\n",
              "      <td>0.438674</td>\n",
              "      <td>0.016169</td>\n",
              "      <td>0.413703</td>\n",
              "    </tr>\n",
              "    <tr>\n",
              "      <th>longitude</th>\n",
              "      <td>-0.095996</td>\n",
              "      <td>-0.106981</td>\n",
              "      <td>-0.029847</td>\n",
              "      <td>1.000000</td>\n",
              "      <td>-0.023656</td>\n",
              "      <td>-0.118044</td>\n",
              "      <td>0.011532</td>\n",
              "      <td>-0.158388</td>\n",
              "    </tr>\n",
              "    <tr>\n",
              "      <th>latitude</th>\n",
              "      <td>-0.032133</td>\n",
              "      <td>0.037845</td>\n",
              "      <td>0.054850</td>\n",
              "      <td>-0.023656</td>\n",
              "      <td>1.000000</td>\n",
              "      <td>0.000903</td>\n",
              "      <td>0.001783</td>\n",
              "      <td>-0.012860</td>\n",
              "    </tr>\n",
              "    <tr>\n",
              "      <th>valeur_fonciere</th>\n",
              "      <td>0.108897</td>\n",
              "      <td>0.680795</td>\n",
              "      <td>0.438674</td>\n",
              "      <td>-0.118044</td>\n",
              "      <td>0.000903</td>\n",
              "      <td>1.000000</td>\n",
              "      <td>0.075524</td>\n",
              "      <td>0.757489</td>\n",
              "    </tr>\n",
              "    <tr>\n",
              "      <th>date_mutation</th>\n",
              "      <td>-0.009039</td>\n",
              "      <td>0.004179</td>\n",
              "      <td>0.016169</td>\n",
              "      <td>0.011532</td>\n",
              "      <td>0.001783</td>\n",
              "      <td>0.075524</td>\n",
              "      <td>1.000000</td>\n",
              "      <td>0.067676</td>\n",
              "    </tr>\n",
              "    <tr>\n",
              "      <th>Cluster</th>\n",
              "      <td>0.134602</td>\n",
              "      <td>0.610073</td>\n",
              "      <td>0.413703</td>\n",
              "      <td>-0.158388</td>\n",
              "      <td>-0.012860</td>\n",
              "      <td>0.757489</td>\n",
              "      <td>0.067676</td>\n",
              "      <td>1.000000</td>\n",
              "    </tr>\n",
              "  </tbody>\n",
              "</table>\n",
              "</div>\n",
              "      <button class=\"colab-df-convert\" onclick=\"convertToInteractive('df-c15741bc-590d-44dd-a09b-a0ec64da9f3c')\"\n",
              "              title=\"Convert this dataframe to an interactive table.\"\n",
              "              style=\"display:none;\">\n",
              "        \n",
              "  <svg xmlns=\"http://www.w3.org/2000/svg\" height=\"24px\"viewBox=\"0 0 24 24\"\n",
              "       width=\"24px\">\n",
              "    <path d=\"M0 0h24v24H0V0z\" fill=\"none\"/>\n",
              "    <path d=\"M18.56 5.44l.94 2.06.94-2.06 2.06-.94-2.06-.94-.94-2.06-.94 2.06-2.06.94zm-11 1L8.5 8.5l.94-2.06 2.06-.94-2.06-.94L8.5 2.5l-.94 2.06-2.06.94zm10 10l.94 2.06.94-2.06 2.06-.94-2.06-.94-.94-2.06-.94 2.06-2.06.94z\"/><path d=\"M17.41 7.96l-1.37-1.37c-.4-.4-.92-.59-1.43-.59-.52 0-1.04.2-1.43.59L10.3 9.45l-7.72 7.72c-.78.78-.78 2.05 0 2.83L4 21.41c.39.39.9.59 1.41.59.51 0 1.02-.2 1.41-.59l7.78-7.78 2.81-2.81c.8-.78.8-2.07 0-2.86zM5.41 20L4 18.59l7.72-7.72 1.47 1.35L5.41 20z\"/>\n",
              "  </svg>\n",
              "      </button>\n",
              "      \n",
              "  <style>\n",
              "    .colab-df-container {\n",
              "      display:flex;\n",
              "      flex-wrap:wrap;\n",
              "      gap: 12px;\n",
              "    }\n",
              "\n",
              "    .colab-df-convert {\n",
              "      background-color: #E8F0FE;\n",
              "      border: none;\n",
              "      border-radius: 50%;\n",
              "      cursor: pointer;\n",
              "      display: none;\n",
              "      fill: #1967D2;\n",
              "      height: 32px;\n",
              "      padding: 0 0 0 0;\n",
              "      width: 32px;\n",
              "    }\n",
              "\n",
              "    .colab-df-convert:hover {\n",
              "      background-color: #E2EBFA;\n",
              "      box-shadow: 0px 1px 2px rgba(60, 64, 67, 0.3), 0px 1px 3px 1px rgba(60, 64, 67, 0.15);\n",
              "      fill: #174EA6;\n",
              "    }\n",
              "\n",
              "    [theme=dark] .colab-df-convert {\n",
              "      background-color: #3B4455;\n",
              "      fill: #D2E3FC;\n",
              "    }\n",
              "\n",
              "    [theme=dark] .colab-df-convert:hover {\n",
              "      background-color: #434B5C;\n",
              "      box-shadow: 0px 1px 3px 1px rgba(0, 0, 0, 0.15);\n",
              "      filter: drop-shadow(0px 1px 2px rgba(0, 0, 0, 0.3));\n",
              "      fill: #FFFFFF;\n",
              "    }\n",
              "  </style>\n",
              "\n",
              "      <script>\n",
              "        const buttonEl =\n",
              "          document.querySelector('#df-c15741bc-590d-44dd-a09b-a0ec64da9f3c button.colab-df-convert');\n",
              "        buttonEl.style.display =\n",
              "          google.colab.kernel.accessAllowed ? 'block' : 'none';\n",
              "\n",
              "        async function convertToInteractive(key) {\n",
              "          const element = document.querySelector('#df-c15741bc-590d-44dd-a09b-a0ec64da9f3c');\n",
              "          const dataTable =\n",
              "            await google.colab.kernel.invokeFunction('convertToInteractive',\n",
              "                                                     [key], {});\n",
              "          if (!dataTable) return;\n",
              "\n",
              "          const docLinkHtml = 'Like what you see? Visit the ' +\n",
              "            '<a target=\"_blank\" href=https://colab.research.google.com/notebooks/data_table.ipynb>data table notebook</a>'\n",
              "            + ' to learn more about interactive tables.';\n",
              "          element.innerHTML = '';\n",
              "          dataTable['output_type'] = 'display_data';\n",
              "          await google.colab.output.renderOutput(dataTable, element);\n",
              "          const docLink = document.createElement('div');\n",
              "          docLink.innerHTML = docLinkHtml;\n",
              "          element.appendChild(docLink);\n",
              "        }\n",
              "      </script>\n",
              "    </div>\n",
              "  </div>\n",
              "  "
            ]
          },
          "metadata": {},
          "execution_count": 123
        }
      ]
    },
    {
      "cell_type": "markdown",
      "source": [
        "Cluster and surface_reelle_bati shows the highest Kendall correlation with the target."
      ],
      "metadata": {
        "id": "eIcH5sBodAEi"
      }
    },
    {
      "cell_type": "markdown",
      "source": [
        "**the correlation tests confirm that cluster is the most correlated feature with valeur_fonciere followed by surface_reelle_bati.**"
      ],
      "metadata": {
        "id": "yYRNK8Re15x5"
      }
    },
    {
      "cell_type": "markdown",
      "source": [
        "**Mutual information**"
      ],
      "metadata": {
        "id": "Fytdss6Heeik"
      }
    },
    {
      "cell_type": "code",
      "source": [
        "final_data.columns"
      ],
      "metadata": {
        "colab": {
          "base_uri": "https://localhost:8080/"
        },
        "id": "uQEGZw2k8-Q4",
        "outputId": "601b5877-25c5-4a6f-e4fa-71ce90f4173a"
      },
      "execution_count": null,
      "outputs": [
        {
          "output_type": "execute_result",
          "data": {
            "text/plain": [
              "Index(['code_type_local', 'surface_reelle_bati', 'nombre_pieces_principales',\n",
              "       'longitude', 'latitude', 'valeur_fonciere', 'date_mutation', 'Cluster'],\n",
              "      dtype='object')"
            ]
          },
          "metadata": {},
          "execution_count": 209
        }
      ]
    },
    {
      "cell_type": "markdown",
      "source": [
        "first let's initialize the feature matrix X and the target y"
      ],
      "metadata": {
        "id": "A7tIR4qRABik"
      }
    },
    {
      "cell_type": "code",
      "source": [
        "X=final_data.drop(['valeur_fonciere'], axis=1)\n",
        "y=final_data[['valeur_fonciere']]"
      ],
      "metadata": {
        "id": "6cRkcpQYAA0k"
      },
      "execution_count": null,
      "outputs": []
    },
    {
      "cell_type": "code",
      "source": [
        "X"
      ],
      "metadata": {
        "colab": {
          "base_uri": "https://localhost:8080/",
          "height": 424
        },
        "id": "gc6meH9y2NAO",
        "outputId": "e8a3ff71-fdb5-4366-e944-07e6b82fcd09"
      },
      "execution_count": null,
      "outputs": [
        {
          "output_type": "execute_result",
          "data": {
            "text/plain": [
              "       code_type_local  surface_reelle_bati  nombre_pieces_principales  \\\n",
              "0                    2                 22.0                        1.0   \n",
              "2                    2                 36.0                        2.0   \n",
              "5                    2                 58.0                        3.0   \n",
              "7                    2                 32.0                        2.0   \n",
              "13                   2                 64.0                        3.0   \n",
              "...                ...                  ...                        ...   \n",
              "16593                2                 35.0                        2.0   \n",
              "16595                2                115.0                        4.0   \n",
              "16596                2                 27.0                        2.0   \n",
              "16599                2                 58.0                        3.0   \n",
              "16600                2                 26.0                        1.0   \n",
              "\n",
              "       longitude   latitude  date_mutation  Cluster  \n",
              "0       2.350194  48.882282           2021        4  \n",
              "2       2.350692  48.883416           2021        4  \n",
              "5       2.350043  48.883399           2021        5  \n",
              "7       2.350692  48.883416           2021        4  \n",
              "13      2.350823  48.883014           2021        5  \n",
              "...          ...        ...            ...      ...  \n",
              "16593   2.367354  48.882305           2017        4  \n",
              "16595   2.368478  48.882067           2017        6  \n",
              "16596   2.368337  48.883334           2017        4  \n",
              "16599   2.368919  48.883058           2017        5  \n",
              "16600   2.367354  48.882305           2017        4  \n",
              "\n",
              "[7659 rows x 7 columns]"
            ],
            "text/html": [
              "\n",
              "  <div id=\"df-29603648-8fc3-4886-877c-05d38f781714\">\n",
              "    <div class=\"colab-df-container\">\n",
              "      <div>\n",
              "<style scoped>\n",
              "    .dataframe tbody tr th:only-of-type {\n",
              "        vertical-align: middle;\n",
              "    }\n",
              "\n",
              "    .dataframe tbody tr th {\n",
              "        vertical-align: top;\n",
              "    }\n",
              "\n",
              "    .dataframe thead th {\n",
              "        text-align: right;\n",
              "    }\n",
              "</style>\n",
              "<table border=\"1\" class=\"dataframe\">\n",
              "  <thead>\n",
              "    <tr style=\"text-align: right;\">\n",
              "      <th></th>\n",
              "      <th>code_type_local</th>\n",
              "      <th>surface_reelle_bati</th>\n",
              "      <th>nombre_pieces_principales</th>\n",
              "      <th>longitude</th>\n",
              "      <th>latitude</th>\n",
              "      <th>date_mutation</th>\n",
              "      <th>Cluster</th>\n",
              "    </tr>\n",
              "  </thead>\n",
              "  <tbody>\n",
              "    <tr>\n",
              "      <th>0</th>\n",
              "      <td>2</td>\n",
              "      <td>22.0</td>\n",
              "      <td>1.0</td>\n",
              "      <td>2.350194</td>\n",
              "      <td>48.882282</td>\n",
              "      <td>2021</td>\n",
              "      <td>4</td>\n",
              "    </tr>\n",
              "    <tr>\n",
              "      <th>2</th>\n",
              "      <td>2</td>\n",
              "      <td>36.0</td>\n",
              "      <td>2.0</td>\n",
              "      <td>2.350692</td>\n",
              "      <td>48.883416</td>\n",
              "      <td>2021</td>\n",
              "      <td>4</td>\n",
              "    </tr>\n",
              "    <tr>\n",
              "      <th>5</th>\n",
              "      <td>2</td>\n",
              "      <td>58.0</td>\n",
              "      <td>3.0</td>\n",
              "      <td>2.350043</td>\n",
              "      <td>48.883399</td>\n",
              "      <td>2021</td>\n",
              "      <td>5</td>\n",
              "    </tr>\n",
              "    <tr>\n",
              "      <th>7</th>\n",
              "      <td>2</td>\n",
              "      <td>32.0</td>\n",
              "      <td>2.0</td>\n",
              "      <td>2.350692</td>\n",
              "      <td>48.883416</td>\n",
              "      <td>2021</td>\n",
              "      <td>4</td>\n",
              "    </tr>\n",
              "    <tr>\n",
              "      <th>13</th>\n",
              "      <td>2</td>\n",
              "      <td>64.0</td>\n",
              "      <td>3.0</td>\n",
              "      <td>2.350823</td>\n",
              "      <td>48.883014</td>\n",
              "      <td>2021</td>\n",
              "      <td>5</td>\n",
              "    </tr>\n",
              "    <tr>\n",
              "      <th>...</th>\n",
              "      <td>...</td>\n",
              "      <td>...</td>\n",
              "      <td>...</td>\n",
              "      <td>...</td>\n",
              "      <td>...</td>\n",
              "      <td>...</td>\n",
              "      <td>...</td>\n",
              "    </tr>\n",
              "    <tr>\n",
              "      <th>16593</th>\n",
              "      <td>2</td>\n",
              "      <td>35.0</td>\n",
              "      <td>2.0</td>\n",
              "      <td>2.367354</td>\n",
              "      <td>48.882305</td>\n",
              "      <td>2017</td>\n",
              "      <td>4</td>\n",
              "    </tr>\n",
              "    <tr>\n",
              "      <th>16595</th>\n",
              "      <td>2</td>\n",
              "      <td>115.0</td>\n",
              "      <td>4.0</td>\n",
              "      <td>2.368478</td>\n",
              "      <td>48.882067</td>\n",
              "      <td>2017</td>\n",
              "      <td>6</td>\n",
              "    </tr>\n",
              "    <tr>\n",
              "      <th>16596</th>\n",
              "      <td>2</td>\n",
              "      <td>27.0</td>\n",
              "      <td>2.0</td>\n",
              "      <td>2.368337</td>\n",
              "      <td>48.883334</td>\n",
              "      <td>2017</td>\n",
              "      <td>4</td>\n",
              "    </tr>\n",
              "    <tr>\n",
              "      <th>16599</th>\n",
              "      <td>2</td>\n",
              "      <td>58.0</td>\n",
              "      <td>3.0</td>\n",
              "      <td>2.368919</td>\n",
              "      <td>48.883058</td>\n",
              "      <td>2017</td>\n",
              "      <td>5</td>\n",
              "    </tr>\n",
              "    <tr>\n",
              "      <th>16600</th>\n",
              "      <td>2</td>\n",
              "      <td>26.0</td>\n",
              "      <td>1.0</td>\n",
              "      <td>2.367354</td>\n",
              "      <td>48.882305</td>\n",
              "      <td>2017</td>\n",
              "      <td>4</td>\n",
              "    </tr>\n",
              "  </tbody>\n",
              "</table>\n",
              "<p>7659 rows × 7 columns</p>\n",
              "</div>\n",
              "      <button class=\"colab-df-convert\" onclick=\"convertToInteractive('df-29603648-8fc3-4886-877c-05d38f781714')\"\n",
              "              title=\"Convert this dataframe to an interactive table.\"\n",
              "              style=\"display:none;\">\n",
              "        \n",
              "  <svg xmlns=\"http://www.w3.org/2000/svg\" height=\"24px\"viewBox=\"0 0 24 24\"\n",
              "       width=\"24px\">\n",
              "    <path d=\"M0 0h24v24H0V0z\" fill=\"none\"/>\n",
              "    <path d=\"M18.56 5.44l.94 2.06.94-2.06 2.06-.94-2.06-.94-.94-2.06-.94 2.06-2.06.94zm-11 1L8.5 8.5l.94-2.06 2.06-.94-2.06-.94L8.5 2.5l-.94 2.06-2.06.94zm10 10l.94 2.06.94-2.06 2.06-.94-2.06-.94-.94-2.06-.94 2.06-2.06.94z\"/><path d=\"M17.41 7.96l-1.37-1.37c-.4-.4-.92-.59-1.43-.59-.52 0-1.04.2-1.43.59L10.3 9.45l-7.72 7.72c-.78.78-.78 2.05 0 2.83L4 21.41c.39.39.9.59 1.41.59.51 0 1.02-.2 1.41-.59l7.78-7.78 2.81-2.81c.8-.78.8-2.07 0-2.86zM5.41 20L4 18.59l7.72-7.72 1.47 1.35L5.41 20z\"/>\n",
              "  </svg>\n",
              "      </button>\n",
              "      \n",
              "  <style>\n",
              "    .colab-df-container {\n",
              "      display:flex;\n",
              "      flex-wrap:wrap;\n",
              "      gap: 12px;\n",
              "    }\n",
              "\n",
              "    .colab-df-convert {\n",
              "      background-color: #E8F0FE;\n",
              "      border: none;\n",
              "      border-radius: 50%;\n",
              "      cursor: pointer;\n",
              "      display: none;\n",
              "      fill: #1967D2;\n",
              "      height: 32px;\n",
              "      padding: 0 0 0 0;\n",
              "      width: 32px;\n",
              "    }\n",
              "\n",
              "    .colab-df-convert:hover {\n",
              "      background-color: #E2EBFA;\n",
              "      box-shadow: 0px 1px 2px rgba(60, 64, 67, 0.3), 0px 1px 3px 1px rgba(60, 64, 67, 0.15);\n",
              "      fill: #174EA6;\n",
              "    }\n",
              "\n",
              "    [theme=dark] .colab-df-convert {\n",
              "      background-color: #3B4455;\n",
              "      fill: #D2E3FC;\n",
              "    }\n",
              "\n",
              "    [theme=dark] .colab-df-convert:hover {\n",
              "      background-color: #434B5C;\n",
              "      box-shadow: 0px 1px 3px 1px rgba(0, 0, 0, 0.15);\n",
              "      filter: drop-shadow(0px 1px 2px rgba(0, 0, 0, 0.3));\n",
              "      fill: #FFFFFF;\n",
              "    }\n",
              "  </style>\n",
              "\n",
              "      <script>\n",
              "        const buttonEl =\n",
              "          document.querySelector('#df-29603648-8fc3-4886-877c-05d38f781714 button.colab-df-convert');\n",
              "        buttonEl.style.display =\n",
              "          google.colab.kernel.accessAllowed ? 'block' : 'none';\n",
              "\n",
              "        async function convertToInteractive(key) {\n",
              "          const element = document.querySelector('#df-29603648-8fc3-4886-877c-05d38f781714');\n",
              "          const dataTable =\n",
              "            await google.colab.kernel.invokeFunction('convertToInteractive',\n",
              "                                                     [key], {});\n",
              "          if (!dataTable) return;\n",
              "\n",
              "          const docLinkHtml = 'Like what you see? Visit the ' +\n",
              "            '<a target=\"_blank\" href=https://colab.research.google.com/notebooks/data_table.ipynb>data table notebook</a>'\n",
              "            + ' to learn more about interactive tables.';\n",
              "          element.innerHTML = '';\n",
              "          dataTable['output_type'] = 'display_data';\n",
              "          await google.colab.output.renderOutput(dataTable, element);\n",
              "          const docLink = document.createElement('div');\n",
              "          docLink.innerHTML = docLinkHtml;\n",
              "          element.appendChild(docLink);\n",
              "        }\n",
              "      </script>\n",
              "    </div>\n",
              "  </div>\n",
              "  "
            ]
          },
          "metadata": {},
          "execution_count": 127
        }
      ]
    },
    {
      "cell_type": "code",
      "source": [
        "y"
      ],
      "metadata": {
        "colab": {
          "base_uri": "https://localhost:8080/",
          "height": 424
        },
        "id": "0N1GEhgO9KEY",
        "outputId": "d13cdab7-3bc7-4ab8-ef9c-da4515aac901"
      },
      "execution_count": null,
      "outputs": [
        {
          "output_type": "execute_result",
          "data": {
            "text/plain": [
              "       valeur_fonciere\n",
              "0             330000.0\n",
              "2             110000.0\n",
              "5             660000.0\n",
              "7             283500.0\n",
              "13            574700.0\n",
              "...                ...\n",
              "16593         208000.0\n",
              "16595        1065000.0\n",
              "16596         135000.0\n",
              "16599         458000.0\n",
              "16600         126000.0\n",
              "\n",
              "[7659 rows x 1 columns]"
            ],
            "text/html": [
              "\n",
              "  <div id=\"df-c20bc99e-47db-45cd-9090-ef30948f84cf\">\n",
              "    <div class=\"colab-df-container\">\n",
              "      <div>\n",
              "<style scoped>\n",
              "    .dataframe tbody tr th:only-of-type {\n",
              "        vertical-align: middle;\n",
              "    }\n",
              "\n",
              "    .dataframe tbody tr th {\n",
              "        vertical-align: top;\n",
              "    }\n",
              "\n",
              "    .dataframe thead th {\n",
              "        text-align: right;\n",
              "    }\n",
              "</style>\n",
              "<table border=\"1\" class=\"dataframe\">\n",
              "  <thead>\n",
              "    <tr style=\"text-align: right;\">\n",
              "      <th></th>\n",
              "      <th>valeur_fonciere</th>\n",
              "    </tr>\n",
              "  </thead>\n",
              "  <tbody>\n",
              "    <tr>\n",
              "      <th>0</th>\n",
              "      <td>330000.0</td>\n",
              "    </tr>\n",
              "    <tr>\n",
              "      <th>2</th>\n",
              "      <td>110000.0</td>\n",
              "    </tr>\n",
              "    <tr>\n",
              "      <th>5</th>\n",
              "      <td>660000.0</td>\n",
              "    </tr>\n",
              "    <tr>\n",
              "      <th>7</th>\n",
              "      <td>283500.0</td>\n",
              "    </tr>\n",
              "    <tr>\n",
              "      <th>13</th>\n",
              "      <td>574700.0</td>\n",
              "    </tr>\n",
              "    <tr>\n",
              "      <th>...</th>\n",
              "      <td>...</td>\n",
              "    </tr>\n",
              "    <tr>\n",
              "      <th>16593</th>\n",
              "      <td>208000.0</td>\n",
              "    </tr>\n",
              "    <tr>\n",
              "      <th>16595</th>\n",
              "      <td>1065000.0</td>\n",
              "    </tr>\n",
              "    <tr>\n",
              "      <th>16596</th>\n",
              "      <td>135000.0</td>\n",
              "    </tr>\n",
              "    <tr>\n",
              "      <th>16599</th>\n",
              "      <td>458000.0</td>\n",
              "    </tr>\n",
              "    <tr>\n",
              "      <th>16600</th>\n",
              "      <td>126000.0</td>\n",
              "    </tr>\n",
              "  </tbody>\n",
              "</table>\n",
              "<p>7659 rows × 1 columns</p>\n",
              "</div>\n",
              "      <button class=\"colab-df-convert\" onclick=\"convertToInteractive('df-c20bc99e-47db-45cd-9090-ef30948f84cf')\"\n",
              "              title=\"Convert this dataframe to an interactive table.\"\n",
              "              style=\"display:none;\">\n",
              "        \n",
              "  <svg xmlns=\"http://www.w3.org/2000/svg\" height=\"24px\"viewBox=\"0 0 24 24\"\n",
              "       width=\"24px\">\n",
              "    <path d=\"M0 0h24v24H0V0z\" fill=\"none\"/>\n",
              "    <path d=\"M18.56 5.44l.94 2.06.94-2.06 2.06-.94-2.06-.94-.94-2.06-.94 2.06-2.06.94zm-11 1L8.5 8.5l.94-2.06 2.06-.94-2.06-.94L8.5 2.5l-.94 2.06-2.06.94zm10 10l.94 2.06.94-2.06 2.06-.94-2.06-.94-.94-2.06-.94 2.06-2.06.94z\"/><path d=\"M17.41 7.96l-1.37-1.37c-.4-.4-.92-.59-1.43-.59-.52 0-1.04.2-1.43.59L10.3 9.45l-7.72 7.72c-.78.78-.78 2.05 0 2.83L4 21.41c.39.39.9.59 1.41.59.51 0 1.02-.2 1.41-.59l7.78-7.78 2.81-2.81c.8-.78.8-2.07 0-2.86zM5.41 20L4 18.59l7.72-7.72 1.47 1.35L5.41 20z\"/>\n",
              "  </svg>\n",
              "      </button>\n",
              "      \n",
              "  <style>\n",
              "    .colab-df-container {\n",
              "      display:flex;\n",
              "      flex-wrap:wrap;\n",
              "      gap: 12px;\n",
              "    }\n",
              "\n",
              "    .colab-df-convert {\n",
              "      background-color: #E8F0FE;\n",
              "      border: none;\n",
              "      border-radius: 50%;\n",
              "      cursor: pointer;\n",
              "      display: none;\n",
              "      fill: #1967D2;\n",
              "      height: 32px;\n",
              "      padding: 0 0 0 0;\n",
              "      width: 32px;\n",
              "    }\n",
              "\n",
              "    .colab-df-convert:hover {\n",
              "      background-color: #E2EBFA;\n",
              "      box-shadow: 0px 1px 2px rgba(60, 64, 67, 0.3), 0px 1px 3px 1px rgba(60, 64, 67, 0.15);\n",
              "      fill: #174EA6;\n",
              "    }\n",
              "\n",
              "    [theme=dark] .colab-df-convert {\n",
              "      background-color: #3B4455;\n",
              "      fill: #D2E3FC;\n",
              "    }\n",
              "\n",
              "    [theme=dark] .colab-df-convert:hover {\n",
              "      background-color: #434B5C;\n",
              "      box-shadow: 0px 1px 3px 1px rgba(0, 0, 0, 0.15);\n",
              "      filter: drop-shadow(0px 1px 2px rgba(0, 0, 0, 0.3));\n",
              "      fill: #FFFFFF;\n",
              "    }\n",
              "  </style>\n",
              "\n",
              "      <script>\n",
              "        const buttonEl =\n",
              "          document.querySelector('#df-c20bc99e-47db-45cd-9090-ef30948f84cf button.colab-df-convert');\n",
              "        buttonEl.style.display =\n",
              "          google.colab.kernel.accessAllowed ? 'block' : 'none';\n",
              "\n",
              "        async function convertToInteractive(key) {\n",
              "          const element = document.querySelector('#df-c20bc99e-47db-45cd-9090-ef30948f84cf');\n",
              "          const dataTable =\n",
              "            await google.colab.kernel.invokeFunction('convertToInteractive',\n",
              "                                                     [key], {});\n",
              "          if (!dataTable) return;\n",
              "\n",
              "          const docLinkHtml = 'Like what you see? Visit the ' +\n",
              "            '<a target=\"_blank\" href=https://colab.research.google.com/notebooks/data_table.ipynb>data table notebook</a>'\n",
              "            + ' to learn more about interactive tables.';\n",
              "          element.innerHTML = '';\n",
              "          dataTable['output_type'] = 'display_data';\n",
              "          await google.colab.output.renderOutput(dataTable, element);\n",
              "          const docLink = document.createElement('div');\n",
              "          docLink.innerHTML = docLinkHtml;\n",
              "          element.appendChild(docLink);\n",
              "        }\n",
              "      </script>\n",
              "    </div>\n",
              "  </div>\n",
              "  "
            ]
          },
          "metadata": {},
          "execution_count": 211
        }
      ]
    },
    {
      "cell_type": "markdown",
      "source": [
        "*  I(X ; Y) = H(X) – H(X | Y)\n",
        "*  Information gain between two random variables is a measure of the quantity of uncertainty explained from one variable (target) given another (feature)\n",
        "*  I(X,Y) varies from 0 to +00 (0 means independent variables)\n",
        "*  Information gain is a symetric measure, i.e. I(X,Y)=I(Y,X)"
      ],
      "metadata": {
        "id": "AWawvF42yY-z"
      }
    },
    {
      "cell_type": "code",
      "source": [
        "def make_mi_scores(X, y):\n",
        "    mi_scores = mutual_info_regression(X, y)\n",
        "    mi_scores = pd.Series(mi_scores, name=\"MI Scores\", index=X.columns)\n",
        "    mi_scores = mi_scores.sort_values(ascending=False)\n",
        "    return mi_scores\n",
        "\n",
        "mi_scores = make_mi_scores(X, y)\n",
        "\n",
        "mi_scores"
      ],
      "metadata": {
        "colab": {
          "base_uri": "https://localhost:8080/"
        },
        "id": "nnVcop6edCTd",
        "outputId": "5b518ee3-ded2-4342-ceb7-fdfff7eee697"
      },
      "execution_count": null,
      "outputs": [
        {
          "output_type": "stream",
          "name": "stderr",
          "text": [
            "/usr/local/lib/python3.7/dist-packages/sklearn/utils/validation.py:993: DataConversionWarning: A column-vector y was passed when a 1d array was expected. Please change the shape of y to (n_samples, ), for example using ravel().\n",
            "  y = column_or_1d(y, warn=True)\n"
          ]
        },
        {
          "output_type": "execute_result",
          "data": {
            "text/plain": [
              "surface_reelle_bati          0.808211\n",
              "nombre_pieces_principales    0.445102\n",
              "Cluster                      0.286446\n",
              "longitude                    0.172582\n",
              "latitude                     0.147108\n",
              "code_type_local              0.043073\n",
              "date_mutation                0.033743\n",
              "Name: MI Scores, dtype: float64"
            ]
          },
          "metadata": {},
          "execution_count": 212
        }
      ]
    },
    {
      "cell_type": "markdown",
      "source": [
        "* according to the above results a building's value is highly dependent on cluster, area and #rooms.\n",
        "* remark: MI is a univariate metric, i.e. it can happen that one variable has low MI but when joined with other features it can have an important weight in predicting the target"
      ],
      "metadata": {
        "id": "Dkap7Hn5tM-n"
      }
    },
    {
      "cell_type": "markdown",
      "source": [
        "# modelling (to be continued)"
      ],
      "metadata": {
        "id": "Gue2FOusDWXP"
      }
    },
    {
      "cell_type": "code",
      "source": [
        "x_train, x_test, y_train, y_test=train_test_split(X[['code_type_local']], y,test_size=0.3, random_state=12, shuffle=True)\n",
        "\n",
        "\n",
        "print('Train - Predictors shape', x_train.shape)\n",
        "print('Test - Predictors shape', x_test.shape)\n",
        "print('Train - Target shape', y_train.shape)\n",
        "print('Test - Target shape', y_test.shape)"
      ],
      "metadata": {
        "colab": {
          "base_uri": "https://localhost:8080/"
        },
        "id": "U1w7H89wDK1w",
        "outputId": "cf245064-a3b6-4074-cd16-80b2865cd2ee"
      },
      "execution_count": null,
      "outputs": [
        {
          "output_type": "stream",
          "name": "stdout",
          "text": [
            "Train - Predictors shape (8666, 1)\n",
            "Test - Predictors shape (3715, 1)\n",
            "Train - Target shape (8666, 1)\n",
            "Test - Target shape (3715, 1)\n"
          ]
        }
      ]
    },
    {
      "cell_type": "code",
      "source": [
        "cls = LinearRegression()\n",
        "#Fit method is used for fitting your training data into the model\n",
        "cls.fit(x_train,y_train)"
      ],
      "metadata": {
        "colab": {
          "base_uri": "https://localhost:8080/"
        },
        "id": "iRBIY7C0F-gJ",
        "outputId": "b317816d-14a0-4998-d821-b89353037e69"
      },
      "execution_count": null,
      "outputs": [
        {
          "output_type": "execute_result",
          "data": {
            "text/plain": [
              "LinearRegression()"
            ]
          },
          "metadata": {},
          "execution_count": 88
        }
      ]
    },
    {
      "cell_type": "code",
      "source": [
        "prediction = cls.predict(x_test)"
      ],
      "metadata": {
        "id": "WyLMCxzatAj7"
      },
      "execution_count": null,
      "outputs": []
    },
    {
      "cell_type": "code",
      "source": [
        "print('Mean Square Error', metrics.mean_squared_error(y_test, prediction))"
      ],
      "metadata": {
        "colab": {
          "base_uri": "https://localhost:8080/"
        },
        "id": "otzqY1VIHxat",
        "outputId": "59c6b5a4-6378-4dfd-8e8e-eda51951a56b"
      },
      "execution_count": null,
      "outputs": [
        {
          "output_type": "stream",
          "name": "stdout",
          "text": [
            "Mean Square Error 126969892254773.61\n"
          ]
        }
      ]
    },
    {
      "cell_type": "code",
      "source": [
        "print('Model R^2 Square value', metrics.r2_score(y_test, prediction))"
      ],
      "metadata": {
        "colab": {
          "base_uri": "https://localhost:8080/"
        },
        "id": "HvQO6sCjtfdm",
        "outputId": "b3c1c637-8b0f-4b2a-af47-550c613cdad2"
      },
      "execution_count": null,
      "outputs": [
        {
          "output_type": "stream",
          "name": "stdout",
          "text": [
            "Model R^2 Square value 0.10342530911286019\n"
          ]
        }
      ]
    },
    {
      "cell_type": "markdown",
      "source": [
        "poor prediction!!!!!!!!!!!!!!!"
      ],
      "metadata": {
        "id": "MaY8AevXtpDT"
      }
    },
    {
      "cell_type": "code",
      "source": [
        "resid=y_test-prediction\n",
        "sm.qqplot(resid)\n",
        "plt.show()"
      ],
      "metadata": {
        "colab": {
          "base_uri": "https://localhost:8080/",
          "height": 290
        },
        "id": "UKoAEqnztj5Z",
        "outputId": "ed9cf352-c705-4045-9311-4cca30b7f8f6"
      },
      "execution_count": null,
      "outputs": [
        {
          "output_type": "display_data",
          "data": {
            "text/plain": [
              "<Figure size 432x288 with 1 Axes>"
            ],
            "image/png": "[encoded data removed]"
          },
          "metadata": {
            "needs_background": "light"
          }
        }
      ]
    },
    {
      "cell_type": "code",
      "source": [
        "resid.shape"
      ],
      "metadata": {
        "colab": {
          "base_uri": "https://localhost:8080/"
        },
        "id": "cnI4IPPC8oNC",
        "outputId": "11a81f57-8b34-46d7-8871-0f7720fdfcd6"
      },
      "execution_count": null,
      "outputs": [
        {
          "output_type": "execute_result",
          "data": {
            "text/plain": [
              "(3715, 1)"
            ]
          },
          "metadata": {},
          "execution_count": 96
        }
      ]
    },
    {
      "cell_type": "code",
      "source": [
        "plt.scatter(y_test, resid)\n",
        "plt.plot(y_test, [0]*len(y_test))"
      ],
      "metadata": {
        "colab": {
          "base_uri": "https://localhost:8080/",
          "height": 306
        },
        "id": "htKrfHt77sML",
        "outputId": "166b6921-d010-428b-cfb5-9ad0f96ba5e6"
      },
      "execution_count": null,
      "outputs": [
        {
          "output_type": "execute_result",
          "data": {
            "text/plain": [
              "[<matplotlib.lines.Line2D at 0x7feeaf4a8890>]"
            ]
          },
          "metadata": {},
          "execution_count": 98
        },
        {
          "output_type": "display_data",
          "data": {
            "text/plain": [
              "<Figure size 432x288 with 1 Axes>"
            ],
            "image/png": "[encoded data removed]"
          },
          "metadata": {
            "needs_background": "light"
          }
        }
      ]
    },
    {
      "cell_type": "markdown",
      "source": [
        "**after feature engineering**"
      ],
      "metadata": {
        "id": "06zrejFsGbLY"
      }
    },
    {
      "cell_type": "markdown",
      "source": [
        "surfece_reelle_bati and valeur_fonciere have right skewed distributions close to law distribution. An efficient feature engineering method would be to apply log transformation in order to normalize data and reduce outliers' effect."
      ],
      "metadata": {
        "id": "GeN6XqXpHSaW"
      }
    },
    {
      "cell_type": "code",
      "source": [
        "X"
      ],
      "metadata": {
        "colab": {
          "base_uri": "https://localhost:8080/",
          "height": 424
        },
        "id": "W0kZy9iC8kAq",
        "outputId": "eae0a423-8e31-44f8-b4c1-ffce6092e7f2"
      },
      "execution_count": null,
      "outputs": [
        {
          "output_type": "execute_result",
          "data": {
            "text/plain": [
              "       code_type_local  surface_reelle_bati  nombre_pieces_principales  \\\n",
              "0                    2                 22.0                        1.0   \n",
              "2                    2                 36.0                        2.0   \n",
              "4                    2                  9.0                        1.0   \n",
              "5                    2                 58.0                        3.0   \n",
              "7                    2                 32.0                        2.0   \n",
              "...                ...                  ...                        ...   \n",
              "16594                2                 18.0                        1.0   \n",
              "16595                2                115.0                        4.0   \n",
              "16596                2                 27.0                        2.0   \n",
              "16599                2                 58.0                        3.0   \n",
              "16600                2                 26.0                        1.0   \n",
              "\n",
              "       longitude   latitude  \n",
              "0       2.350194  48.882282  \n",
              "2       2.350692  48.883416  \n",
              "4       2.349877  48.882732  \n",
              "5       2.350043  48.883399  \n",
              "7       2.350692  48.883416  \n",
              "...          ...        ...  \n",
              "16594   2.367354  48.882305  \n",
              "16595   2.368478  48.882067  \n",
              "16596   2.368337  48.883334  \n",
              "16599   2.368919  48.883058  \n",
              "16600   2.367354  48.882305  \n",
              "\n",
              "[12381 rows x 5 columns]"
            ],
            "text/html": [
              "\n",
              "  <div id=\"df-a27ddbf7-a30b-4cea-aa19-b99b657627b6\">\n",
              "    <div class=\"colab-df-container\">\n",
              "      <div>\n",
              "<style scoped>\n",
              "    .dataframe tbody tr th:only-of-type {\n",
              "        vertical-align: middle;\n",
              "    }\n",
              "\n",
              "    .dataframe tbody tr th {\n",
              "        vertical-align: top;\n",
              "    }\n",
              "\n",
              "    .dataframe thead th {\n",
              "        text-align: right;\n",
              "    }\n",
              "</style>\n",
              "<table border=\"1\" class=\"dataframe\">\n",
              "  <thead>\n",
              "    <tr style=\"text-align: right;\">\n",
              "      <th></th>\n",
              "      <th>code_type_local</th>\n",
              "      <th>surface_reelle_bati</th>\n",
              "      <th>nombre_pieces_principales</th>\n",
              "      <th>longitude</th>\n",
              "      <th>latitude</th>\n",
              "    </tr>\n",
              "  </thead>\n",
              "  <tbody>\n",
              "    <tr>\n",
              "      <th>0</th>\n",
              "      <td>2</td>\n",
              "      <td>22.0</td>\n",
              "      <td>1.0</td>\n",
              "      <td>2.350194</td>\n",
              "      <td>48.882282</td>\n",
              "    </tr>\n",
              "    <tr>\n",
              "      <th>2</th>\n",
              "      <td>2</td>\n",
              "      <td>36.0</td>\n",
              "      <td>2.0</td>\n",
              "      <td>2.350692</td>\n",
              "      <td>48.883416</td>\n",
              "    </tr>\n",
              "    <tr>\n",
              "      <th>4</th>\n",
              "      <td>2</td>\n",
              "      <td>9.0</td>\n",
              "      <td>1.0</td>\n",
              "      <td>2.349877</td>\n",
              "      <td>48.882732</td>\n",
              "    </tr>\n",
              "    <tr>\n",
              "      <th>5</th>\n",
              "      <td>2</td>\n",
              "      <td>58.0</td>\n",
              "      <td>3.0</td>\n",
              "      <td>2.350043</td>\n",
              "      <td>48.883399</td>\n",
              "    </tr>\n",
              "    <tr>\n",
              "      <th>7</th>\n",
              "      <td>2</td>\n",
              "      <td>32.0</td>\n",
              "      <td>2.0</td>\n",
              "      <td>2.350692</td>\n",
              "      <td>48.883416</td>\n",
              "    </tr>\n",
              "    <tr>\n",
              "      <th>...</th>\n",
              "      <td>...</td>\n",
              "      <td>...</td>\n",
              "      <td>...</td>\n",
              "      <td>...</td>\n",
              "      <td>...</td>\n",
              "    </tr>\n",
              "    <tr>\n",
              "      <th>16594</th>\n",
              "      <td>2</td>\n",
              "      <td>18.0</td>\n",
              "      <td>1.0</td>\n",
              "      <td>2.367354</td>\n",
              "      <td>48.882305</td>\n",
              "    </tr>\n",
              "    <tr>\n",
              "      <th>16595</th>\n",
              "      <td>2</td>\n",
              "      <td>115.0</td>\n",
              "      <td>4.0</td>\n",
              "      <td>2.368478</td>\n",
              "      <td>48.882067</td>\n",
              "    </tr>\n",
              "    <tr>\n",
              "      <th>16596</th>\n",
              "      <td>2</td>\n",
              "      <td>27.0</td>\n",
              "      <td>2.0</td>\n",
              "      <td>2.368337</td>\n",
              "      <td>48.883334</td>\n",
              "    </tr>\n",
              "    <tr>\n",
              "      <th>16599</th>\n",
              "      <td>2</td>\n",
              "      <td>58.0</td>\n",
              "      <td>3.0</td>\n",
              "      <td>2.368919</td>\n",
              "      <td>48.883058</td>\n",
              "    </tr>\n",
              "    <tr>\n",
              "      <th>16600</th>\n",
              "      <td>2</td>\n",
              "      <td>26.0</td>\n",
              "      <td>1.0</td>\n",
              "      <td>2.367354</td>\n",
              "      <td>48.882305</td>\n",
              "    </tr>\n",
              "  </tbody>\n",
              "</table>\n",
              "<p>12381 rows × 5 columns</p>\n",
              "</div>\n",
              "      <button class=\"colab-df-convert\" onclick=\"convertToInteractive('df-a27ddbf7-a30b-4cea-aa19-b99b657627b6')\"\n",
              "              title=\"Convert this dataframe to an interactive table.\"\n",
              "              style=\"display:none;\">\n",
              "        \n",
              "  <svg xmlns=\"http://www.w3.org/2000/svg\" height=\"24px\"viewBox=\"0 0 24 24\"\n",
              "       width=\"24px\">\n",
              "    <path d=\"M0 0h24v24H0V0z\" fill=\"none\"/>\n",
              "    <path d=\"M18.56 5.44l.94 2.06.94-2.06 2.06-.94-2.06-.94-.94-2.06-.94 2.06-2.06.94zm-11 1L8.5 8.5l.94-2.06 2.06-.94-2.06-.94L8.5 2.5l-.94 2.06-2.06.94zm10 10l.94 2.06.94-2.06 2.06-.94-2.06-.94-.94-2.06-.94 2.06-2.06.94z\"/><path d=\"M17.41 7.96l-1.37-1.37c-.4-.4-.92-.59-1.43-.59-.52 0-1.04.2-1.43.59L10.3 9.45l-7.72 7.72c-.78.78-.78 2.05 0 2.83L4 21.41c.39.39.9.59 1.41.59.51 0 1.02-.2 1.41-.59l7.78-7.78 2.81-2.81c.8-.78.8-2.07 0-2.86zM5.41 20L4 18.59l7.72-7.72 1.47 1.35L5.41 20z\"/>\n",
              "  </svg>\n",
              "      </button>\n",
              "      \n",
              "  <style>\n",
              "    .colab-df-container {\n",
              "      display:flex;\n",
              "      flex-wrap:wrap;\n",
              "      gap: 12px;\n",
              "    }\n",
              "\n",
              "    .colab-df-convert {\n",
              "      background-color: #E8F0FE;\n",
              "      border: none;\n",
              "      border-radius: 50%;\n",
              "      cursor: pointer;\n",
              "      display: none;\n",
              "      fill: #1967D2;\n",
              "      height: 32px;\n",
              "      padding: 0 0 0 0;\n",
              "      width: 32px;\n",
              "    }\n",
              "\n",
              "    .colab-df-convert:hover {\n",
              "      background-color: #E2EBFA;\n",
              "      box-shadow: 0px 1px 2px rgba(60, 64, 67, 0.3), 0px 1px 3px 1px rgba(60, 64, 67, 0.15);\n",
              "      fill: #174EA6;\n",
              "    }\n",
              "\n",
              "    [theme=dark] .colab-df-convert {\n",
              "      background-color: #3B4455;\n",
              "      fill: #D2E3FC;\n",
              "    }\n",
              "\n",
              "    [theme=dark] .colab-df-convert:hover {\n",
              "      background-color: #434B5C;\n",
              "      box-shadow: 0px 1px 3px 1px rgba(0, 0, 0, 0.15);\n",
              "      filter: drop-shadow(0px 1px 2px rgba(0, 0, 0, 0.3));\n",
              "      fill: #FFFFFF;\n",
              "    }\n",
              "  </style>\n",
              "\n",
              "      <script>\n",
              "        const buttonEl =\n",
              "          document.querySelector('#df-a27ddbf7-a30b-4cea-aa19-b99b657627b6 button.colab-df-convert');\n",
              "        buttonEl.style.display =\n",
              "          google.colab.kernel.accessAllowed ? 'block' : 'none';\n",
              "\n",
              "        async function convertToInteractive(key) {\n",
              "          const element = document.querySelector('#df-a27ddbf7-a30b-4cea-aa19-b99b657627b6');\n",
              "          const dataTable =\n",
              "            await google.colab.kernel.invokeFunction('convertToInteractive',\n",
              "                                                     [key], {});\n",
              "          if (!dataTable) return;\n",
              "\n",
              "          const docLinkHtml = 'Like what you see? Visit the ' +\n",
              "            '<a target=\"_blank\" href=https://colab.research.google.com/notebooks/data_table.ipynb>data table notebook</a>'\n",
              "            + ' to learn more about interactive tables.';\n",
              "          element.innerHTML = '';\n",
              "          dataTable['output_type'] = 'display_data';\n",
              "          await google.colab.output.renderOutput(dataTable, element);\n",
              "          const docLink = document.createElement('div');\n",
              "          docLink.innerHTML = docLinkHtml;\n",
              "          element.appendChild(docLink);\n",
              "        }\n",
              "      </script>\n",
              "    </div>\n",
              "  </div>\n",
              "  "
            ]
          },
          "metadata": {},
          "execution_count": 99
        }
      ]
    },
    {
      "cell_type": "code",
      "source": [
        "X['surface_reelle_bati'].plot(kind='hist')"
      ],
      "metadata": {
        "colab": {
          "base_uri": "https://localhost:8080/",
          "height": 282
        },
        "id": "2A_Q4MxHG6FX",
        "outputId": "bceb2ba8-4a7b-4d59-9a76-77c29f730350"
      },
      "execution_count": null,
      "outputs": [
        {
          "output_type": "execute_result",
          "data": {
            "text/plain": [
              "<matplotlib.axes._subplots.AxesSubplot at 0x7feebb48f1d0>"
            ]
          },
          "metadata": {},
          "execution_count": 100
        },
        {
          "output_type": "display_data",
          "data": {
            "text/plain": [
              "<Figure size 432x288 with 1 Axes>"
            ],
            "image/png": "[encoded data removed]"
          },
          "metadata": {
            "needs_background": "light"
          }
        }
      ]
    },
    {
      "cell_type": "code",
      "source": [
        "y.plot(kind='hist')"
      ],
      "metadata": {
        "colab": {
          "base_uri": "https://localhost:8080/",
          "height": 295
        },
        "id": "2W9JdUdOHEEl",
        "outputId": "2cb1811d-1c67-4f0f-bd5e-cfe649b5075b"
      },
      "execution_count": null,
      "outputs": [
        {
          "output_type": "execute_result",
          "data": {
            "text/plain": [
              "<matplotlib.axes._subplots.AxesSubplot at 0x7feeaf428710>"
            ]
          },
          "metadata": {},
          "execution_count": 101
        },
        {
          "output_type": "display_data",
          "data": {
            "text/plain": [
              "<Figure size 432x288 with 1 Axes>"
            ],
            "image/png": "[encoded data removed]"
          },
          "metadata": {
            "needs_background": "light"
          }
        }
      ]
    },
    {
      "cell_type": "code",
      "source": [
        "X['longitude'].plot(kind='hist')"
      ],
      "metadata": {
        "colab": {
          "base_uri": "https://localhost:8080/",
          "height": 282
        },
        "id": "MV4_tL6uHJ3P",
        "outputId": "c5085dbe-aaae-4a26-9d03-184e50f8d158"
      },
      "execution_count": null,
      "outputs": [
        {
          "output_type": "execute_result",
          "data": {
            "text/plain": [
              "<matplotlib.axes._subplots.AxesSubplot at 0x7feeaf56b3d0>"
            ]
          },
          "metadata": {},
          "execution_count": 102
        },
        {
          "output_type": "display_data",
          "data": {
            "text/plain": [
              "<Figure size 432x288 with 1 Axes>"
            ],
            "image/png": "[encoded data removed]"
          },
          "metadata": {
            "needs_background": "light"
          }
        }
      ]
    },
    {
      "cell_type": "code",
      "source": [
        "X['latitude'].plot(kind='hist')"
      ],
      "metadata": {
        "colab": {
          "base_uri": "https://localhost:8080/",
          "height": 282
        },
        "id": "hh_IQaXEHX0m",
        "outputId": "a9c6ee94-49c4-4b70-cd45-675e9a66981c"
      },
      "execution_count": null,
      "outputs": [
        {
          "output_type": "execute_result",
          "data": {
            "text/plain": [
              "<matplotlib.axes._subplots.AxesSubplot at 0x7feeaf4df890>"
            ]
          },
          "metadata": {},
          "execution_count": 103
        },
        {
          "output_type": "display_data",
          "data": {
            "text/plain": [
              "<Figure size 432x288 with 1 Axes>"
            ],
            "image/png": "[encoded data removed]"
          },
          "metadata": {
            "needs_background": "light"
          }
        }
      ]
    },
    {
      "cell_type": "code",
      "source": [
        "#final_data.valeur_fonciere=np.log2(final_data.valeur_fonciere+1)\n",
        "np.log2(final_data.valeur_fonciere+1).plot(kind='hist')\n",
        "plt.show()"
      ],
      "metadata": {
        "colab": {
          "base_uri": "https://localhost:8080/",
          "height": 265
        },
        "id": "Rv3m7vhMHao-",
        "outputId": "09121385-3b0e-4e5f-d5a7-afe420bd1f82"
      },
      "execution_count": null,
      "outputs": [
        {
          "output_type": "display_data",
          "data": {
            "text/plain": [
              "<Figure size 432x288 with 1 Axes>"
            ],
            "image/png": "[encoded data removed]"
          },
          "metadata": {
            "needs_background": "light"
          }
        }
      ]
    },
    {
      "cell_type": "code",
      "source": [
        "np.log2(final_data.surface_reelle_bati+1).plot(kind='hist')\n",
        "plt.show()"
      ],
      "metadata": {
        "colab": {
          "base_uri": "https://localhost:8080/",
          "height": 265
        },
        "id": "HKuCRgjVIRNV",
        "outputId": "a38a3a03-d02d-4f3b-c01d-7cba7ec6dfcf"
      },
      "execution_count": null,
      "outputs": [
        {
          "output_type": "display_data",
          "data": {
            "text/plain": [
              "<Figure size 432x288 with 1 Axes>"
            ],
            "image/png": "[encoded data removed]"
          },
          "metadata": {
            "needs_background": "light"
          }
        }
      ]
    },
    {
      "cell_type": "code",
      "source": [
        "final_data.valeur_fonciere=np.log2(final_data.valeur_fonciere+1)\n",
        "final_data.surface_reelle_bati=np.log2(final_data.surface_reelle_bati+1)"
      ],
      "metadata": {
        "id": "kniG9eieJI0O"
      },
      "execution_count": null,
      "outputs": []
    },
    {
      "cell_type": "code",
      "source": [
        "final_data"
      ],
      "metadata": {
        "colab": {
          "base_uri": "https://localhost:8080/",
          "height": 424
        },
        "id": "-JeJ3HKMLwSr",
        "outputId": "b01b5966-7533-4779-cb14-289435e46993"
      },
      "execution_count": null,
      "outputs": [
        {
          "output_type": "execute_result",
          "data": {
            "text/plain": [
              "       code_type_local  surface_reelle_bati  nombre_pieces_principales  \\\n",
              "0                    2             4.523562                        1.0   \n",
              "2                    2             5.209453                        2.0   \n",
              "4                    2             3.321928                        1.0   \n",
              "5                    2             5.882643                        3.0   \n",
              "7                    2             5.044394                        2.0   \n",
              "...                ...                  ...                        ...   \n",
              "16594                2             4.247928                        1.0   \n",
              "16595                2             6.857981                        4.0   \n",
              "16596                2             4.807355                        2.0   \n",
              "16599                2             5.882643                        3.0   \n",
              "16600                2             4.754888                        1.0   \n",
              "\n",
              "       longitude   latitude  valeur_fonciere  \n",
              "0       2.350194  48.882282        18.332111  \n",
              "2       2.350692  48.883416        16.747157  \n",
              "4       2.349877  48.882732        16.031895  \n",
              "5       2.350043  48.883399        19.332109  \n",
              "7       2.350692  48.883416        18.112994  \n",
              "...          ...        ...              ...  \n",
              "16594   2.367354  48.882305        16.943076  \n",
              "16595   2.368478  48.882067        20.022423  \n",
              "16596   2.368337  48.883334        17.042611  \n",
              "16599   2.368919  48.883058        18.804991  \n",
              "16600   2.367354  48.882305        16.943076  \n",
              "\n",
              "[12381 rows x 6 columns]"
            ],
            "text/html": [
              "\n",
              "  <div id=\"df-cd198174-5b51-4e4f-a39b-521ba0c97946\">\n",
              "    <div class=\"colab-df-container\">\n",
              "      <div>\n",
              "<style scoped>\n",
              "    .dataframe tbody tr th:only-of-type {\n",
              "        vertical-align: middle;\n",
              "    }\n",
              "\n",
              "    .dataframe tbody tr th {\n",
              "        vertical-align: top;\n",
              "    }\n",
              "\n",
              "    .dataframe thead th {\n",
              "        text-align: right;\n",
              "    }\n",
              "</style>\n",
              "<table border=\"1\" class=\"dataframe\">\n",
              "  <thead>\n",
              "    <tr style=\"text-align: right;\">\n",
              "      <th></th>\n",
              "      <th>code_type_local</th>\n",
              "      <th>surface_reelle_bati</th>\n",
              "      <th>nombre_pieces_principales</th>\n",
              "      <th>longitude</th>\n",
              "      <th>latitude</th>\n",
              "      <th>valeur_fonciere</th>\n",
              "    </tr>\n",
              "  </thead>\n",
              "  <tbody>\n",
              "    <tr>\n",
              "      <th>0</th>\n",
              "      <td>2</td>\n",
              "      <td>4.523562</td>\n",
              "      <td>1.0</td>\n",
              "      <td>2.350194</td>\n",
              "      <td>48.882282</td>\n",
              "      <td>18.332111</td>\n",
              "    </tr>\n",
              "    <tr>\n",
              "      <th>2</th>\n",
              "      <td>2</td>\n",
              "      <td>5.209453</td>\n",
              "      <td>2.0</td>\n",
              "      <td>2.350692</td>\n",
              "      <td>48.883416</td>\n",
              "      <td>16.747157</td>\n",
              "    </tr>\n",
              "    <tr>\n",
              "      <th>4</th>\n",
              "      <td>2</td>\n",
              "      <td>3.321928</td>\n",
              "      <td>1.0</td>\n",
              "      <td>2.349877</td>\n",
              "      <td>48.882732</td>\n",
              "      <td>16.031895</td>\n",
              "    </tr>\n",
              "    <tr>\n",
              "      <th>5</th>\n",
              "      <td>2</td>\n",
              "      <td>5.882643</td>\n",
              "      <td>3.0</td>\n",
              "      <td>2.350043</td>\n",
              "      <td>48.883399</td>\n",
              "      <td>19.332109</td>\n",
              "    </tr>\n",
              "    <tr>\n",
              "      <th>7</th>\n",
              "      <td>2</td>\n",
              "      <td>5.044394</td>\n",
              "      <td>2.0</td>\n",
              "      <td>2.350692</td>\n",
              "      <td>48.883416</td>\n",
              "      <td>18.112994</td>\n",
              "    </tr>\n",
              "    <tr>\n",
              "      <th>...</th>\n",
              "      <td>...</td>\n",
              "      <td>...</td>\n",
              "      <td>...</td>\n",
              "      <td>...</td>\n",
              "      <td>...</td>\n",
              "      <td>...</td>\n",
              "    </tr>\n",
              "    <tr>\n",
              "      <th>16594</th>\n",
              "      <td>2</td>\n",
              "      <td>4.247928</td>\n",
              "      <td>1.0</td>\n",
              "      <td>2.367354</td>\n",
              "      <td>48.882305</td>\n",
              "      <td>16.943076</td>\n",
              "    </tr>\n",
              "    <tr>\n",
              "      <th>16595</th>\n",
              "      <td>2</td>\n",
              "      <td>6.857981</td>\n",
              "      <td>4.0</td>\n",
              "      <td>2.368478</td>\n",
              "      <td>48.882067</td>\n",
              "      <td>20.022423</td>\n",
              "    </tr>\n",
              "    <tr>\n",
              "      <th>16596</th>\n",
              "      <td>2</td>\n",
              "      <td>4.807355</td>\n",
              "      <td>2.0</td>\n",
              "      <td>2.368337</td>\n",
              "      <td>48.883334</td>\n",
              "      <td>17.042611</td>\n",
              "    </tr>\n",
              "    <tr>\n",
              "      <th>16599</th>\n",
              "      <td>2</td>\n",
              "      <td>5.882643</td>\n",
              "      <td>3.0</td>\n",
              "      <td>2.368919</td>\n",
              "      <td>48.883058</td>\n",
              "      <td>18.804991</td>\n",
              "    </tr>\n",
              "    <tr>\n",
              "      <th>16600</th>\n",
              "      <td>2</td>\n",
              "      <td>4.754888</td>\n",
              "      <td>1.0</td>\n",
              "      <td>2.367354</td>\n",
              "      <td>48.882305</td>\n",
              "      <td>16.943076</td>\n",
              "    </tr>\n",
              "  </tbody>\n",
              "</table>\n",
              "<p>12381 rows × 6 columns</p>\n",
              "</div>\n",
              "      <button class=\"colab-df-convert\" onclick=\"convertToInteractive('df-cd198174-5b51-4e4f-a39b-521ba0c97946')\"\n",
              "              title=\"Convert this dataframe to an interactive table.\"\n",
              "              style=\"display:none;\">\n",
              "        \n",
              "  <svg xmlns=\"http://www.w3.org/2000/svg\" height=\"24px\"viewBox=\"0 0 24 24\"\n",
              "       width=\"24px\">\n",
              "    <path d=\"M0 0h24v24H0V0z\" fill=\"none\"/>\n",
              "    <path d=\"M18.56 5.44l.94 2.06.94-2.06 2.06-.94-2.06-.94-.94-2.06-.94 2.06-2.06.94zm-11 1L8.5 8.5l.94-2.06 2.06-.94-2.06-.94L8.5 2.5l-.94 2.06-2.06.94zm10 10l.94 2.06.94-2.06 2.06-.94-2.06-.94-.94-2.06-.94 2.06-2.06.94z\"/><path d=\"M17.41 7.96l-1.37-1.37c-.4-.4-.92-.59-1.43-.59-.52 0-1.04.2-1.43.59L10.3 9.45l-7.72 7.72c-.78.78-.78 2.05 0 2.83L4 21.41c.39.39.9.59 1.41.59.51 0 1.02-.2 1.41-.59l7.78-7.78 2.81-2.81c.8-.78.8-2.07 0-2.86zM5.41 20L4 18.59l7.72-7.72 1.47 1.35L5.41 20z\"/>\n",
              "  </svg>\n",
              "      </button>\n",
              "      \n",
              "  <style>\n",
              "    .colab-df-container {\n",
              "      display:flex;\n",
              "      flex-wrap:wrap;\n",
              "      gap: 12px;\n",
              "    }\n",
              "\n",
              "    .colab-df-convert {\n",
              "      background-color: #E8F0FE;\n",
              "      border: none;\n",
              "      border-radius: 50%;\n",
              "      cursor: pointer;\n",
              "      display: none;\n",
              "      fill: #1967D2;\n",
              "      height: 32px;\n",
              "      padding: 0 0 0 0;\n",
              "      width: 32px;\n",
              "    }\n",
              "\n",
              "    .colab-df-convert:hover {\n",
              "      background-color: #E2EBFA;\n",
              "      box-shadow: 0px 1px 2px rgba(60, 64, 67, 0.3), 0px 1px 3px 1px rgba(60, 64, 67, 0.15);\n",
              "      fill: #174EA6;\n",
              "    }\n",
              "\n",
              "    [theme=dark] .colab-df-convert {\n",
              "      background-color: #3B4455;\n",
              "      fill: #D2E3FC;\n",
              "    }\n",
              "\n",
              "    [theme=dark] .colab-df-convert:hover {\n",
              "      background-color: #434B5C;\n",
              "      box-shadow: 0px 1px 3px 1px rgba(0, 0, 0, 0.15);\n",
              "      filter: drop-shadow(0px 1px 2px rgba(0, 0, 0, 0.3));\n",
              "      fill: #FFFFFF;\n",
              "    }\n",
              "  </style>\n",
              "\n",
              "      <script>\n",
              "        const buttonEl =\n",
              "          document.querySelector('#df-cd198174-5b51-4e4f-a39b-521ba0c97946 button.colab-df-convert');\n",
              "        buttonEl.style.display =\n",
              "          google.colab.kernel.accessAllowed ? 'block' : 'none';\n",
              "\n",
              "        async function convertToInteractive(key) {\n",
              "          const element = document.querySelector('#df-cd198174-5b51-4e4f-a39b-521ba0c97946');\n",
              "          const dataTable =\n",
              "            await google.colab.kernel.invokeFunction('convertToInteractive',\n",
              "                                                     [key], {});\n",
              "          if (!dataTable) return;\n",
              "\n",
              "          const docLinkHtml = 'Like what you see? Visit the ' +\n",
              "            '<a target=\"_blank\" href=https://colab.research.google.com/notebooks/data_table.ipynb>data table notebook</a>'\n",
              "            + ' to learn more about interactive tables.';\n",
              "          element.innerHTML = '';\n",
              "          dataTable['output_type'] = 'display_data';\n",
              "          await google.colab.output.renderOutput(dataTable, element);\n",
              "          const docLink = document.createElement('div');\n",
              "          docLink.innerHTML = docLinkHtml;\n",
              "          element.appendChild(docLink);\n",
              "        }\n",
              "      </script>\n",
              "    </div>\n",
              "  </div>\n",
              "  "
            ]
          },
          "metadata": {},
          "execution_count": 173
        }
      ]
    },
    {
      "cell_type": "code",
      "source": [
        "X=final_data.drop(['valeur_fonciere'], axis=1)\n",
        "y=final_data[['valeur_fonciere']]"
      ],
      "metadata": {
        "id": "KPHutY7pLvWc"
      },
      "execution_count": null,
      "outputs": []
    },
    {
      "cell_type": "code",
      "source": [
        "x_train, x_test, y_train, y_test=train_test_split(X[['code_type_local','surface_reelle_bati','nombre_pieces_principales']], y,test_size=0.3,\n",
        "                                                  random_state=12, shuffle=True)\n",
        "\n",
        "\n",
        "print('Train - Predictors shape', x_train.shape)\n",
        "print('Test - Predictors shape', x_test.shape)\n",
        "print('Train - Target shape', y_train.shape)\n",
        "print('Test - Target shape', y_test.shape)"
      ],
      "metadata": {
        "colab": {
          "base_uri": "https://localhost:8080/"
        },
        "outputId": "9065d63d-3bd4-4347-a1d2-882928e1ca19",
        "id": "H0WJuCDALPJb"
      },
      "execution_count": null,
      "outputs": [
        {
          "output_type": "stream",
          "name": "stdout",
          "text": [
            "Train - Predictors shape (8666, 3)\n",
            "Test - Predictors shape (3715, 3)\n",
            "Train - Target shape (8666, 1)\n",
            "Test - Target shape (3715, 1)\n"
          ]
        }
      ]
    },
    {
      "cell_type": "code",
      "source": [
        "cls = LinearRegression()\n",
        "#Fit method is used for fitting your training data into the model\n",
        "cls.fit(x_train,y_train)"
      ],
      "metadata": {
        "colab": {
          "base_uri": "https://localhost:8080/"
        },
        "outputId": "b1ff8022-3363-4e88-b13c-3bdcac70ec5d",
        "id": "DwtzPPzELPJb"
      },
      "execution_count": null,
      "outputs": [
        {
          "output_type": "execute_result",
          "data": {
            "text/plain": [
              "LinearRegression()"
            ]
          },
          "metadata": {},
          "execution_count": 181
        }
      ]
    },
    {
      "cell_type": "code",
      "source": [
        "prediction = cls.predict(x_test)"
      ],
      "metadata": {
        "id": "etsVT5nyLPJc"
      },
      "execution_count": null,
      "outputs": []
    },
    {
      "cell_type": "code",
      "source": [
        "print('Mean Square Error', metrics.mean_squared_error(y_test, prediction))"
      ],
      "metadata": {
        "colab": {
          "base_uri": "https://localhost:8080/"
        },
        "outputId": "e381f628-f714-49b2-dc26-e3faaf3ba848",
        "id": "8joIXgqNLPJc"
      },
      "execution_count": null,
      "outputs": [
        {
          "output_type": "stream",
          "name": "stdout",
          "text": [
            "Mean Square Error 6.7879248966216\n"
          ]
        }
      ]
    },
    {
      "cell_type": "code",
      "source": [
        "print('Model R^2 Square value', metrics.r2_score(y_test, prediction))"
      ],
      "metadata": {
        "colab": {
          "base_uri": "https://localhost:8080/"
        },
        "outputId": "0f7e9d2d-a5d9-451c-dbc0-497706089157",
        "id": "Ix0WcxW0LPJc"
      },
      "execution_count": null,
      "outputs": [
        {
          "output_type": "stream",
          "name": "stdout",
          "text": [
            "Model R^2 Square value 0.07829262944520765\n"
          ]
        }
      ]
    },
    {
      "cell_type": "code",
      "source": [],
      "metadata": {
        "id": "Jo3olSFiK-uL"
      },
      "execution_count": null,
      "outputs": []
    },
    {
      "cell_type": "markdown",
      "source": [],
      "metadata": {
        "id": "9ZDeZYukNJga"
      }
    },
    {
      "cell_type": "code",
      "source": [
        "from sklearn.svm import SVR\n",
        "from sklearn.pipeline import make_pipeline\n",
        "from sklearn.preprocessing import StandardScaler\n",
        "\n",
        "model=make_pipeline(StandardScaler(), SVR(C=1.0, epsilon=0.2))\n",
        "model.fit(x_train,y_train)\n",
        "pred=model.predict(x_test)\n",
        "model.score(x_test,y_test)"
      ],
      "metadata": {
        "colab": {
          "base_uri": "https://localhost:8080/"
        },
        "id": "SHvgTIBSNJ7Z",
        "outputId": "b3da2888-534b-4584-cfda-9453ac3498f2"
      },
      "execution_count": null,
      "outputs": [
        {
          "output_type": "stream",
          "name": "stderr",
          "text": [
            "/usr/local/lib/python3.7/dist-packages/sklearn/utils/validation.py:993: DataConversionWarning: A column-vector y was passed when a 1d array was expected. Please change the shape of y to (n_samples, ), for example using ravel().\n",
            "  y = column_or_1d(y, warn=True)\n"
          ]
        },
        {
          "output_type": "execute_result",
          "data": {
            "text/plain": [
              "0.11647553222634488"
            ]
          },
          "metadata": {},
          "execution_count": 186
        }
      ]
    },
    {
      "cell_type": "code",
      "source": [],
      "metadata": {
        "id": "vvXxza63N6pA"
      },
      "execution_count": null,
      "outputs": []
    }
  ]
}